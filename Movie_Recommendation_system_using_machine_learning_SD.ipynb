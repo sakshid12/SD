{
  "nbformat": 4,
  "nbformat_minor": 0,
  "metadata": {
    "colab": {
      "provenance": [],
      "authorship_tag": "ABX9TyMY5cbRYtMrVBoLIWhLgNK/",
      "include_colab_link": true
    },
    "kernelspec": {
      "name": "python3",
      "display_name": "Python 3"
    },
    "language_info": {
      "name": "python"
    }
  },
  "cells": [
    {
      "cell_type": "markdown",
      "metadata": {
        "id": "view-in-github",
        "colab_type": "text"
      },
      "source": [
        "<a href=\"https://colab.research.google.com/github/sakshid12/SD/blob/main/Movie_Recommendation_system_using_machine_learning_SD.ipynb\" target=\"_parent\"><img src=\"https://colab.research.google.com/assets/colab-badge.svg\" alt=\"Open In Colab\"/></a>"
      ]
    },
    {
      "cell_type": "markdown",
      "source": [
        "TITLE OF THE PROJECT:\n",
        "MOVIE RECOMMENDATION SYSTEM USING MACHINE LEARNING"
      ],
      "metadata": {
        "id": "c9OHQ_JO0mBw"
      }
    },
    {
      "cell_type": "markdown",
      "source": [
        "OBJECTIVE :The Movie Recommendation System is a machine learning-based application that provides personalized movie recommendations to users. It utilizes collaborative filtering techniques to analyze user preferences and similarities among movies to generate accurate and relevant recommendations."
      ],
      "metadata": {
        "id": "TRz97WP00_ym"
      }
    },
    {
      "cell_type": "markdown",
      "source": [
        "DATA SOURCE : The system is built using Python programming language and incorporates popular machine learning libraries such as scikit-learn and pandas."
      ],
      "metadata": {
        "id": "_10oyvwR1Ne2"
      }
    },
    {
      "cell_type": "markdown",
      "source": [
        "Import Library"
      ],
      "metadata": {
        "id": "uB8RxJgbuAFu"
      }
    },
    {
      "cell_type": "code",
      "source": [
        "import pandas as pd"
      ],
      "metadata": {
        "id": "Pu5Ef_9wuEvo"
      },
      "execution_count": null,
      "outputs": []
    },
    {
      "cell_type": "code",
      "source": [
        "import numpy as np"
      ],
      "metadata": {
        "id": "RQQMSCVSuNY5"
      },
      "execution_count": null,
      "outputs": []
    },
    {
      "cell_type": "markdown",
      "source": [
        "Import Dataset"
      ],
      "metadata": {
        "id": "Kt5Xs4souS8v"
      }
    },
    {
      "cell_type": "code",
      "source": [
        "df = pd.read_csv('/content/Movies Recommendation.csv')"
      ],
      "metadata": {
        "id": "lRQq-XZXzCVR"
      },
      "execution_count": null,
      "outputs": []
    },
    {
      "cell_type": "code",
      "source": [
        "df.head()"
      ],
      "metadata": {
        "colab": {
          "base_uri": "https://localhost:8080/",
          "height": 620
        },
        "id": "XLua1G4pzLBZ",
        "outputId": "72d9e6f3-e65b-480d-fe0e-c4581b60cb49"
      },
      "execution_count": null,
      "outputs": [
        {
          "output_type": "execute_result",
          "data": {
            "text/plain": [
              "   Movie_ID      Movie_Title                       Movie_Genre Movie_Language  \\\n",
              "0         1       Four Rooms                      Crime Comedy             en   \n",
              "1         2        Star Wars  Adventure Action Science Fiction             en   \n",
              "2         3     Finding Nemo                  Animation Family             en   \n",
              "3         4     Forrest Gump              Comedy Drama Romance             en   \n",
              "4         5  American Beauty                             Drama             en   \n",
              "\n",
              "   Movie_Budget  Movie_Popularity Movie_Release_Date  Movie_Revenue  \\\n",
              "0       4000000         22.876230         09-12-1995        4300000   \n",
              "1      11000000        126.393695         25-05-1977      775398007   \n",
              "2      94000000         85.688789         30-05-2003      940335536   \n",
              "3      55000000        138.133331         06-07-1994      677945399   \n",
              "4      15000000         80.878605         15-09-1999      356296601   \n",
              "\n",
              "   Movie_Runtime  Movie_Vote  ...  \\\n",
              "0           98.0         6.5  ...   \n",
              "1          121.0         8.1  ...   \n",
              "2          100.0         7.6  ...   \n",
              "3          142.0         8.2  ...   \n",
              "4          122.0         7.9  ...   \n",
              "\n",
              "                                      Movie_Homepage  \\\n",
              "0                                                NaN   \n",
              "1  http://www.starwars.com/films/star-wars-episod...   \n",
              "2              http://movies.disney.com/finding-nemo   \n",
              "3                                                NaN   \n",
              "4                      http://www.dreamworks.com/ab/   \n",
              "\n",
              "                                      Movie_Keywords  \\\n",
              "0          hotel new year's eve witch bet hotel room   \n",
              "1        android galaxy hermit death star lightsaber   \n",
              "2  father son relationship harbor underwater fish...   \n",
              "3  vietnam veteran hippie mentally disabled runni...   \n",
              "4  male nudity female nudity adultery midlife cri...   \n",
              "\n",
              "                                      Movie_Overview  \\\n",
              "0  It's Ted the Bellhop's first night on the job....   \n",
              "1  Princess Leia is captured and held hostage by ...   \n",
              "2  Nemo, an adventurous young clownfish, is unexp...   \n",
              "3  A man with a low IQ has accomplished great thi...   \n",
              "4  Lester Burnham, a depressed suburban father in...   \n",
              "\n",
              "                              Movie_Production_House  \\\n",
              "0  [{\"name\": \"Miramax Films\", \"id\": 14}, {\"name\":...   \n",
              "1  [{\"name\": \"Lucasfilm\", \"id\": 1}, {\"name\": \"Twe...   \n",
              "2     [{\"name\": \"Pixar Animation Studios\", \"id\": 3}]   \n",
              "3          [{\"name\": \"Paramount Pictures\", \"id\": 4}]   \n",
              "4  [{\"name\": \"DreamWorks SKG\", \"id\": 27}, {\"name\"...   \n",
              "\n",
              "                            Movie_Production_Country  \\\n",
              "0  [{\"iso_3166_1\": \"US\", \"name\": \"United States o...   \n",
              "1  [{\"iso_3166_1\": \"US\", \"name\": \"United States o...   \n",
              "2  [{\"iso_3166_1\": \"US\", \"name\": \"United States o...   \n",
              "3  [{\"iso_3166_1\": \"US\", \"name\": \"United States o...   \n",
              "4  [{\"iso_3166_1\": \"US\", \"name\": \"United States o...   \n",
              "\n",
              "                      Movie_Spoken_Language  \\\n",
              "0  [{\"iso_639_1\": \"en\", \"name\": \"English\"}]   \n",
              "1  [{\"iso_639_1\": \"en\", \"name\": \"English\"}]   \n",
              "2  [{\"iso_639_1\": \"en\", \"name\": \"English\"}]   \n",
              "3  [{\"iso_639_1\": \"en\", \"name\": \"English\"}]   \n",
              "4  [{\"iso_639_1\": \"en\", \"name\": \"English\"}]   \n",
              "\n",
              "                                       Movie_Tagline  \\\n",
              "0  Twelve outrageous guests. Four scandalous requ...   \n",
              "1       A long time ago in a galaxy far, far away...   \n",
              "2  There are 3.7 trillion fish in the ocean, they...   \n",
              "3  The world will never be the same, once you've ...   \n",
              "4                                       Look closer.   \n",
              "\n",
              "                                          Movie_Cast  \\\n",
              "0  Tim Roth Antonio Banderas Jennifer Beals Madon...   \n",
              "1  Mark Hamill Harrison Ford Carrie Fisher Peter ...   \n",
              "2  Albert Brooks Ellen DeGeneres Alexander Gould ...   \n",
              "3  Tom Hanks Robin Wright Gary Sinise Mykelti Wil...   \n",
              "4  Kevin Spacey Annette Bening Thora Birch Wes Be...   \n",
              "\n",
              "                                          Movie_Crew   Movie_Director  \n",
              "0  [{'name': 'Allison Anders', 'gender': 1, 'depa...   Allison Anders  \n",
              "1  [{'name': 'George Lucas', 'gender': 2, 'depart...     George Lucas  \n",
              "2  [{'name': 'Andrew Stanton', 'gender': 2, 'depa...   Andrew Stanton  \n",
              "3  [{'name': 'Alan Silvestri', 'gender': 2, 'depa...  Robert Zemeckis  \n",
              "4  [{'name': 'Thomas Newman', 'gender': 2, 'depar...       Sam Mendes  \n",
              "\n",
              "[5 rows x 21 columns]"
            ],
            "text/html": [
              "\n",
              "  <div id=\"df-6f190cc3-11ec-4cb5-9bd7-0d89c0c7436f\" class=\"colab-df-container\">\n",
              "    <div>\n",
              "<style scoped>\n",
              "    .dataframe tbody tr th:only-of-type {\n",
              "        vertical-align: middle;\n",
              "    }\n",
              "\n",
              "    .dataframe tbody tr th {\n",
              "        vertical-align: top;\n",
              "    }\n",
              "\n",
              "    .dataframe thead th {\n",
              "        text-align: right;\n",
              "    }\n",
              "</style>\n",
              "<table border=\"1\" class=\"dataframe\">\n",
              "  <thead>\n",
              "    <tr style=\"text-align: right;\">\n",
              "      <th></th>\n",
              "      <th>Movie_ID</th>\n",
              "      <th>Movie_Title</th>\n",
              "      <th>Movie_Genre</th>\n",
              "      <th>Movie_Language</th>\n",
              "      <th>Movie_Budget</th>\n",
              "      <th>Movie_Popularity</th>\n",
              "      <th>Movie_Release_Date</th>\n",
              "      <th>Movie_Revenue</th>\n",
              "      <th>Movie_Runtime</th>\n",
              "      <th>Movie_Vote</th>\n",
              "      <th>...</th>\n",
              "      <th>Movie_Homepage</th>\n",
              "      <th>Movie_Keywords</th>\n",
              "      <th>Movie_Overview</th>\n",
              "      <th>Movie_Production_House</th>\n",
              "      <th>Movie_Production_Country</th>\n",
              "      <th>Movie_Spoken_Language</th>\n",
              "      <th>Movie_Tagline</th>\n",
              "      <th>Movie_Cast</th>\n",
              "      <th>Movie_Crew</th>\n",
              "      <th>Movie_Director</th>\n",
              "    </tr>\n",
              "  </thead>\n",
              "  <tbody>\n",
              "    <tr>\n",
              "      <th>0</th>\n",
              "      <td>1</td>\n",
              "      <td>Four Rooms</td>\n",
              "      <td>Crime Comedy</td>\n",
              "      <td>en</td>\n",
              "      <td>4000000</td>\n",
              "      <td>22.876230</td>\n",
              "      <td>09-12-1995</td>\n",
              "      <td>4300000</td>\n",
              "      <td>98.0</td>\n",
              "      <td>6.5</td>\n",
              "      <td>...</td>\n",
              "      <td>NaN</td>\n",
              "      <td>hotel new year's eve witch bet hotel room</td>\n",
              "      <td>It's Ted the Bellhop's first night on the job....</td>\n",
              "      <td>[{\"name\": \"Miramax Films\", \"id\": 14}, {\"name\":...</td>\n",
              "      <td>[{\"iso_3166_1\": \"US\", \"name\": \"United States o...</td>\n",
              "      <td>[{\"iso_639_1\": \"en\", \"name\": \"English\"}]</td>\n",
              "      <td>Twelve outrageous guests. Four scandalous requ...</td>\n",
              "      <td>Tim Roth Antonio Banderas Jennifer Beals Madon...</td>\n",
              "      <td>[{'name': 'Allison Anders', 'gender': 1, 'depa...</td>\n",
              "      <td>Allison Anders</td>\n",
              "    </tr>\n",
              "    <tr>\n",
              "      <th>1</th>\n",
              "      <td>2</td>\n",
              "      <td>Star Wars</td>\n",
              "      <td>Adventure Action Science Fiction</td>\n",
              "      <td>en</td>\n",
              "      <td>11000000</td>\n",
              "      <td>126.393695</td>\n",
              "      <td>25-05-1977</td>\n",
              "      <td>775398007</td>\n",
              "      <td>121.0</td>\n",
              "      <td>8.1</td>\n",
              "      <td>...</td>\n",
              "      <td>http://www.starwars.com/films/star-wars-episod...</td>\n",
              "      <td>android galaxy hermit death star lightsaber</td>\n",
              "      <td>Princess Leia is captured and held hostage by ...</td>\n",
              "      <td>[{\"name\": \"Lucasfilm\", \"id\": 1}, {\"name\": \"Twe...</td>\n",
              "      <td>[{\"iso_3166_1\": \"US\", \"name\": \"United States o...</td>\n",
              "      <td>[{\"iso_639_1\": \"en\", \"name\": \"English\"}]</td>\n",
              "      <td>A long time ago in a galaxy far, far away...</td>\n",
              "      <td>Mark Hamill Harrison Ford Carrie Fisher Peter ...</td>\n",
              "      <td>[{'name': 'George Lucas', 'gender': 2, 'depart...</td>\n",
              "      <td>George Lucas</td>\n",
              "    </tr>\n",
              "    <tr>\n",
              "      <th>2</th>\n",
              "      <td>3</td>\n",
              "      <td>Finding Nemo</td>\n",
              "      <td>Animation Family</td>\n",
              "      <td>en</td>\n",
              "      <td>94000000</td>\n",
              "      <td>85.688789</td>\n",
              "      <td>30-05-2003</td>\n",
              "      <td>940335536</td>\n",
              "      <td>100.0</td>\n",
              "      <td>7.6</td>\n",
              "      <td>...</td>\n",
              "      <td>http://movies.disney.com/finding-nemo</td>\n",
              "      <td>father son relationship harbor underwater fish...</td>\n",
              "      <td>Nemo, an adventurous young clownfish, is unexp...</td>\n",
              "      <td>[{\"name\": \"Pixar Animation Studios\", \"id\": 3}]</td>\n",
              "      <td>[{\"iso_3166_1\": \"US\", \"name\": \"United States o...</td>\n",
              "      <td>[{\"iso_639_1\": \"en\", \"name\": \"English\"}]</td>\n",
              "      <td>There are 3.7 trillion fish in the ocean, they...</td>\n",
              "      <td>Albert Brooks Ellen DeGeneres Alexander Gould ...</td>\n",
              "      <td>[{'name': 'Andrew Stanton', 'gender': 2, 'depa...</td>\n",
              "      <td>Andrew Stanton</td>\n",
              "    </tr>\n",
              "    <tr>\n",
              "      <th>3</th>\n",
              "      <td>4</td>\n",
              "      <td>Forrest Gump</td>\n",
              "      <td>Comedy Drama Romance</td>\n",
              "      <td>en</td>\n",
              "      <td>55000000</td>\n",
              "      <td>138.133331</td>\n",
              "      <td>06-07-1994</td>\n",
              "      <td>677945399</td>\n",
              "      <td>142.0</td>\n",
              "      <td>8.2</td>\n",
              "      <td>...</td>\n",
              "      <td>NaN</td>\n",
              "      <td>vietnam veteran hippie mentally disabled runni...</td>\n",
              "      <td>A man with a low IQ has accomplished great thi...</td>\n",
              "      <td>[{\"name\": \"Paramount Pictures\", \"id\": 4}]</td>\n",
              "      <td>[{\"iso_3166_1\": \"US\", \"name\": \"United States o...</td>\n",
              "      <td>[{\"iso_639_1\": \"en\", \"name\": \"English\"}]</td>\n",
              "      <td>The world will never be the same, once you've ...</td>\n",
              "      <td>Tom Hanks Robin Wright Gary Sinise Mykelti Wil...</td>\n",
              "      <td>[{'name': 'Alan Silvestri', 'gender': 2, 'depa...</td>\n",
              "      <td>Robert Zemeckis</td>\n",
              "    </tr>\n",
              "    <tr>\n",
              "      <th>4</th>\n",
              "      <td>5</td>\n",
              "      <td>American Beauty</td>\n",
              "      <td>Drama</td>\n",
              "      <td>en</td>\n",
              "      <td>15000000</td>\n",
              "      <td>80.878605</td>\n",
              "      <td>15-09-1999</td>\n",
              "      <td>356296601</td>\n",
              "      <td>122.0</td>\n",
              "      <td>7.9</td>\n",
              "      <td>...</td>\n",
              "      <td>http://www.dreamworks.com/ab/</td>\n",
              "      <td>male nudity female nudity adultery midlife cri...</td>\n",
              "      <td>Lester Burnham, a depressed suburban father in...</td>\n",
              "      <td>[{\"name\": \"DreamWorks SKG\", \"id\": 27}, {\"name\"...</td>\n",
              "      <td>[{\"iso_3166_1\": \"US\", \"name\": \"United States o...</td>\n",
              "      <td>[{\"iso_639_1\": \"en\", \"name\": \"English\"}]</td>\n",
              "      <td>Look closer.</td>\n",
              "      <td>Kevin Spacey Annette Bening Thora Birch Wes Be...</td>\n",
              "      <td>[{'name': 'Thomas Newman', 'gender': 2, 'depar...</td>\n",
              "      <td>Sam Mendes</td>\n",
              "    </tr>\n",
              "  </tbody>\n",
              "</table>\n",
              "<p>5 rows × 21 columns</p>\n",
              "</div>\n",
              "    <div class=\"colab-df-buttons\">\n",
              "\n",
              "  <div class=\"colab-df-container\">\n",
              "    <button class=\"colab-df-convert\" onclick=\"convertToInteractive('df-6f190cc3-11ec-4cb5-9bd7-0d89c0c7436f')\"\n",
              "            title=\"Convert this dataframe to an interactive table.\"\n",
              "            style=\"display:none;\">\n",
              "\n",
              "  <svg xmlns=\"http://www.w3.org/2000/svg\" height=\"24px\" viewBox=\"0 -960 960 960\">\n",
              "    <path d=\"M120-120v-720h720v720H120Zm60-500h600v-160H180v160Zm220 220h160v-160H400v160Zm0 220h160v-160H400v160ZM180-400h160v-160H180v160Zm440 0h160v-160H620v160ZM180-180h160v-160H180v160Zm440 0h160v-160H620v160Z\"/>\n",
              "  </svg>\n",
              "    </button>\n",
              "\n",
              "  <style>\n",
              "    .colab-df-container {\n",
              "      display:flex;\n",
              "      gap: 12px;\n",
              "    }\n",
              "\n",
              "    .colab-df-convert {\n",
              "      background-color: #E8F0FE;\n",
              "      border: none;\n",
              "      border-radius: 50%;\n",
              "      cursor: pointer;\n",
              "      display: none;\n",
              "      fill: #1967D2;\n",
              "      height: 32px;\n",
              "      padding: 0 0 0 0;\n",
              "      width: 32px;\n",
              "    }\n",
              "\n",
              "    .colab-df-convert:hover {\n",
              "      background-color: #E2EBFA;\n",
              "      box-shadow: 0px 1px 2px rgba(60, 64, 67, 0.3), 0px 1px 3px 1px rgba(60, 64, 67, 0.15);\n",
              "      fill: #174EA6;\n",
              "    }\n",
              "\n",
              "    .colab-df-buttons div {\n",
              "      margin-bottom: 4px;\n",
              "    }\n",
              "\n",
              "    [theme=dark] .colab-df-convert {\n",
              "      background-color: #3B4455;\n",
              "      fill: #D2E3FC;\n",
              "    }\n",
              "\n",
              "    [theme=dark] .colab-df-convert:hover {\n",
              "      background-color: #434B5C;\n",
              "      box-shadow: 0px 1px 3px 1px rgba(0, 0, 0, 0.15);\n",
              "      filter: drop-shadow(0px 1px 2px rgba(0, 0, 0, 0.3));\n",
              "      fill: #FFFFFF;\n",
              "    }\n",
              "  </style>\n",
              "\n",
              "    <script>\n",
              "      const buttonEl =\n",
              "        document.querySelector('#df-6f190cc3-11ec-4cb5-9bd7-0d89c0c7436f button.colab-df-convert');\n",
              "      buttonEl.style.display =\n",
              "        google.colab.kernel.accessAllowed ? 'block' : 'none';\n",
              "\n",
              "      async function convertToInteractive(key) {\n",
              "        const element = document.querySelector('#df-6f190cc3-11ec-4cb5-9bd7-0d89c0c7436f');\n",
              "        const dataTable =\n",
              "          await google.colab.kernel.invokeFunction('convertToInteractive',\n",
              "                                                    [key], {});\n",
              "        if (!dataTable) return;\n",
              "\n",
              "        const docLinkHtml = 'Like what you see? Visit the ' +\n",
              "          '<a target=\"_blank\" href=https://colab.research.google.com/notebooks/data_table.ipynb>data table notebook</a>'\n",
              "          + ' to learn more about interactive tables.';\n",
              "        element.innerHTML = '';\n",
              "        dataTable['output_type'] = 'display_data';\n",
              "        await google.colab.output.renderOutput(dataTable, element);\n",
              "        const docLink = document.createElement('div');\n",
              "        docLink.innerHTML = docLinkHtml;\n",
              "        element.appendChild(docLink);\n",
              "      }\n",
              "    </script>\n",
              "  </div>\n",
              "\n",
              "\n",
              "<div id=\"df-cde3b2a7-a4ae-4c4f-a0dd-4fe2edd941c5\">\n",
              "  <button class=\"colab-df-quickchart\" onclick=\"quickchart('df-cde3b2a7-a4ae-4c4f-a0dd-4fe2edd941c5')\"\n",
              "            title=\"Suggest charts\"\n",
              "            style=\"display:none;\">\n",
              "\n",
              "<svg xmlns=\"http://www.w3.org/2000/svg\" height=\"24px\"viewBox=\"0 0 24 24\"\n",
              "     width=\"24px\">\n",
              "    <g>\n",
              "        <path d=\"M19 3H5c-1.1 0-2 .9-2 2v14c0 1.1.9 2 2 2h14c1.1 0 2-.9 2-2V5c0-1.1-.9-2-2-2zM9 17H7v-7h2v7zm4 0h-2V7h2v10zm4 0h-2v-4h2v4z\"/>\n",
              "    </g>\n",
              "</svg>\n",
              "  </button>\n",
              "\n",
              "<style>\n",
              "  .colab-df-quickchart {\n",
              "      --bg-color: #E8F0FE;\n",
              "      --fill-color: #1967D2;\n",
              "      --hover-bg-color: #E2EBFA;\n",
              "      --hover-fill-color: #174EA6;\n",
              "      --disabled-fill-color: #AAA;\n",
              "      --disabled-bg-color: #DDD;\n",
              "  }\n",
              "\n",
              "  [theme=dark] .colab-df-quickchart {\n",
              "      --bg-color: #3B4455;\n",
              "      --fill-color: #D2E3FC;\n",
              "      --hover-bg-color: #434B5C;\n",
              "      --hover-fill-color: #FFFFFF;\n",
              "      --disabled-bg-color: #3B4455;\n",
              "      --disabled-fill-color: #666;\n",
              "  }\n",
              "\n",
              "  .colab-df-quickchart {\n",
              "    background-color: var(--bg-color);\n",
              "    border: none;\n",
              "    border-radius: 50%;\n",
              "    cursor: pointer;\n",
              "    display: none;\n",
              "    fill: var(--fill-color);\n",
              "    height: 32px;\n",
              "    padding: 0;\n",
              "    width: 32px;\n",
              "  }\n",
              "\n",
              "  .colab-df-quickchart:hover {\n",
              "    background-color: var(--hover-bg-color);\n",
              "    box-shadow: 0 1px 2px rgba(60, 64, 67, 0.3), 0 1px 3px 1px rgba(60, 64, 67, 0.15);\n",
              "    fill: var(--button-hover-fill-color);\n",
              "  }\n",
              "\n",
              "  .colab-df-quickchart-complete:disabled,\n",
              "  .colab-df-quickchart-complete:disabled:hover {\n",
              "    background-color: var(--disabled-bg-color);\n",
              "    fill: var(--disabled-fill-color);\n",
              "    box-shadow: none;\n",
              "  }\n",
              "\n",
              "  .colab-df-spinner {\n",
              "    border: 2px solid var(--fill-color);\n",
              "    border-color: transparent;\n",
              "    border-bottom-color: var(--fill-color);\n",
              "    animation:\n",
              "      spin 1s steps(1) infinite;\n",
              "  }\n",
              "\n",
              "  @keyframes spin {\n",
              "    0% {\n",
              "      border-color: transparent;\n",
              "      border-bottom-color: var(--fill-color);\n",
              "      border-left-color: var(--fill-color);\n",
              "    }\n",
              "    20% {\n",
              "      border-color: transparent;\n",
              "      border-left-color: var(--fill-color);\n",
              "      border-top-color: var(--fill-color);\n",
              "    }\n",
              "    30% {\n",
              "      border-color: transparent;\n",
              "      border-left-color: var(--fill-color);\n",
              "      border-top-color: var(--fill-color);\n",
              "      border-right-color: var(--fill-color);\n",
              "    }\n",
              "    40% {\n",
              "      border-color: transparent;\n",
              "      border-right-color: var(--fill-color);\n",
              "      border-top-color: var(--fill-color);\n",
              "    }\n",
              "    60% {\n",
              "      border-color: transparent;\n",
              "      border-right-color: var(--fill-color);\n",
              "    }\n",
              "    80% {\n",
              "      border-color: transparent;\n",
              "      border-right-color: var(--fill-color);\n",
              "      border-bottom-color: var(--fill-color);\n",
              "    }\n",
              "    90% {\n",
              "      border-color: transparent;\n",
              "      border-bottom-color: var(--fill-color);\n",
              "    }\n",
              "  }\n",
              "</style>\n",
              "\n",
              "  <script>\n",
              "    async function quickchart(key) {\n",
              "      const quickchartButtonEl =\n",
              "        document.querySelector('#' + key + ' button');\n",
              "      quickchartButtonEl.disabled = true;  // To prevent multiple clicks.\n",
              "      quickchartButtonEl.classList.add('colab-df-spinner');\n",
              "      try {\n",
              "        const charts = await google.colab.kernel.invokeFunction(\n",
              "            'suggestCharts', [key], {});\n",
              "      } catch (error) {\n",
              "        console.error('Error during call to suggestCharts:', error);\n",
              "      }\n",
              "      quickchartButtonEl.classList.remove('colab-df-spinner');\n",
              "      quickchartButtonEl.classList.add('colab-df-quickchart-complete');\n",
              "    }\n",
              "    (() => {\n",
              "      let quickchartButtonEl =\n",
              "        document.querySelector('#df-cde3b2a7-a4ae-4c4f-a0dd-4fe2edd941c5 button');\n",
              "      quickchartButtonEl.style.display =\n",
              "        google.colab.kernel.accessAllowed ? 'block' : 'none';\n",
              "    })();\n",
              "  </script>\n",
              "</div>\n",
              "\n",
              "    </div>\n",
              "  </div>\n"
            ],
            "application/vnd.google.colaboratory.intrinsic+json": {
              "type": "dataframe",
              "variable_name": "df"
            }
          },
          "metadata": {},
          "execution_count": 14
        }
      ]
    },
    {
      "cell_type": "code",
      "source": [
        "df.info()"
      ],
      "metadata": {
        "colab": {
          "base_uri": "https://localhost:8080/"
        },
        "id": "vgNC22xnzWRz",
        "outputId": "7e5c41b4-66c7-42aa-b9bc-bd596378827a"
      },
      "execution_count": null,
      "outputs": [
        {
          "output_type": "stream",
          "name": "stdout",
          "text": [
            "<class 'pandas.core.frame.DataFrame'>\n",
            "RangeIndex: 4760 entries, 0 to 4759\n",
            "Data columns (total 21 columns):\n",
            " #   Column                    Non-Null Count  Dtype  \n",
            "---  ------                    --------------  -----  \n",
            " 0   Movie_ID                  4760 non-null   int64  \n",
            " 1   Movie_Title               4760 non-null   object \n",
            " 2   Movie_Genre               4760 non-null   object \n",
            " 3   Movie_Language            4760 non-null   object \n",
            " 4   Movie_Budget              4760 non-null   int64  \n",
            " 5   Movie_Popularity          4760 non-null   float64\n",
            " 6   Movie_Release_Date        4760 non-null   object \n",
            " 7   Movie_Revenue             4760 non-null   int64  \n",
            " 8   Movie_Runtime             4758 non-null   float64\n",
            " 9   Movie_Vote                4760 non-null   float64\n",
            " 10  Movie_Vote_Count          4760 non-null   int64  \n",
            " 11  Movie_Homepage            1699 non-null   object \n",
            " 12  Movie_Keywords            4373 non-null   object \n",
            " 13  Movie_Overview            4757 non-null   object \n",
            " 14  Movie_Production_House    4760 non-null   object \n",
            " 15  Movie_Production_Country  4760 non-null   object \n",
            " 16  Movie_Spoken_Language     4760 non-null   object \n",
            " 17  Movie_Tagline             3942 non-null   object \n",
            " 18  Movie_Cast                4733 non-null   object \n",
            " 19  Movie_Crew                4760 non-null   object \n",
            " 20  Movie_Director            4738 non-null   object \n",
            "dtypes: float64(3), int64(4), object(14)\n",
            "memory usage: 781.1+ KB\n"
          ]
        }
      ]
    },
    {
      "cell_type": "code",
      "source": [
        "df.shape"
      ],
      "metadata": {
        "colab": {
          "base_uri": "https://localhost:8080/"
        },
        "id": "olepujm6zcQw",
        "outputId": "0b90f37c-231a-4657-e893-d947a4c35177"
      },
      "execution_count": null,
      "outputs": [
        {
          "output_type": "execute_result",
          "data": {
            "text/plain": [
              "(4760, 21)"
            ]
          },
          "metadata": {},
          "execution_count": 16
        }
      ]
    },
    {
      "cell_type": "code",
      "source": [
        "df.columns"
      ],
      "metadata": {
        "colab": {
          "base_uri": "https://localhost:8080/"
        },
        "id": "YfJ3mUtGzfVm",
        "outputId": "4950a909-05e4-4a3d-9235-6c3ecb9d9886"
      },
      "execution_count": null,
      "outputs": [
        {
          "output_type": "execute_result",
          "data": {
            "text/plain": [
              "Index(['Movie_ID', 'Movie_Title', 'Movie_Genre', 'Movie_Language',\n",
              "       'Movie_Budget', 'Movie_Popularity', 'Movie_Release_Date',\n",
              "       'Movie_Revenue', 'Movie_Runtime', 'Movie_Vote', 'Movie_Vote_Count',\n",
              "       'Movie_Homepage', 'Movie_Keywords', 'Movie_Overview',\n",
              "       'Movie_Production_House', 'Movie_Production_Country',\n",
              "       'Movie_Spoken_Language', 'Movie_Tagline', 'Movie_Cast', 'Movie_Crew',\n",
              "       'Movie_Director'],\n",
              "      dtype='object')"
            ]
          },
          "metadata": {},
          "execution_count": 17
        }
      ]
    },
    {
      "cell_type": "markdown",
      "source": [],
      "metadata": {
        "id": "rMs9iGSLzj0W"
      }
    },
    {
      "cell_type": "code",
      "source": [
        "df_features = df[['Movie_Genre','Movie_Keywords','Movie_Tagline','Movie_Cast','Movie_Director']].fillna('')"
      ],
      "metadata": {
        "id": "xVZ2XexmznPu"
      },
      "execution_count": null,
      "outputs": []
    },
    {
      "cell_type": "code",
      "source": [
        "df_features.shape"
      ],
      "metadata": {
        "colab": {
          "base_uri": "https://localhost:8080/"
        },
        "id": "7C-huzTg1dOr",
        "outputId": "71c68cd4-3034-42aa-ebd7-f0b58b281618"
      },
      "execution_count": null,
      "outputs": [
        {
          "output_type": "execute_result",
          "data": {
            "text/plain": [
              "(4760, 5)"
            ]
          },
          "metadata": {},
          "execution_count": 23
        }
      ]
    },
    {
      "cell_type": "code",
      "source": [
        "df_features"
      ],
      "metadata": {
        "colab": {
          "base_uri": "https://localhost:8080/",
          "height": 1000
        },
        "id": "3uAFQqN61iK9",
        "outputId": "f1cc8d49-b1dd-4669-8ce6-648adcaa9142"
      },
      "execution_count": null,
      "outputs": [
        {
          "output_type": "execute_result",
          "data": {
            "text/plain": [
              "                           Movie_Genre  \\\n",
              "0                         Crime Comedy   \n",
              "1     Adventure Action Science Fiction   \n",
              "2                     Animation Family   \n",
              "3                 Comedy Drama Romance   \n",
              "4                                Drama   \n",
              "...                                ...   \n",
              "4755                            Horror   \n",
              "4756               Comedy Family Drama   \n",
              "4757                    Thriller Drama   \n",
              "4758                            Family   \n",
              "4759                       Documentary   \n",
              "\n",
              "                                         Movie_Keywords  \\\n",
              "0             hotel new year's eve witch bet hotel room   \n",
              "1           android galaxy hermit death star lightsaber   \n",
              "2     father son relationship harbor underwater fish...   \n",
              "3     vietnam veteran hippie mentally disabled runni...   \n",
              "4     male nudity female nudity adultery midlife cri...   \n",
              "...                                                 ...   \n",
              "4755                                                      \n",
              "4756                                                      \n",
              "4757                     christian film sex trafficking   \n",
              "4758                                                      \n",
              "4759  music actors legendary perfomer classic hollyw...   \n",
              "\n",
              "                                          Movie_Tagline  \\\n",
              "0     Twelve outrageous guests. Four scandalous requ...   \n",
              "1          A long time ago in a galaxy far, far away...   \n",
              "2     There are 3.7 trillion fish in the ocean, they...   \n",
              "3     The world will never be the same, once you've ...   \n",
              "4                                          Look closer.   \n",
              "...                                                 ...   \n",
              "4755                The hot spot where Satan's waitin'.   \n",
              "4756           It’s better to stand out than to fit in.   \n",
              "4757           She never knew it could happen to her...   \n",
              "4758                                                      \n",
              "4759                                                      \n",
              "\n",
              "                                             Movie_Cast     Movie_Director  \n",
              "0     Tim Roth Antonio Banderas Jennifer Beals Madon...     Allison Anders  \n",
              "1     Mark Hamill Harrison Ford Carrie Fisher Peter ...       George Lucas  \n",
              "2     Albert Brooks Ellen DeGeneres Alexander Gould ...     Andrew Stanton  \n",
              "3     Tom Hanks Robin Wright Gary Sinise Mykelti Wil...    Robert Zemeckis  \n",
              "4     Kevin Spacey Annette Bening Thora Birch Wes Be...         Sam Mendes  \n",
              "...                                                 ...                ...  \n",
              "4755  Lisa Hart Carroll Michael Des Barres Paul Drak...         Pece Dingo  \n",
              "4756  Roni Akurati Brighton Sharbino Jason Lee Anjul...       Frank Lotito  \n",
              "4757  Nicole Smolen Kim Baldwin Ariana Stephens Brys...       Jaco Booyens  \n",
              "4758                                                                        \n",
              "4759                                    Tony Oppedisano  Simon Napier-Bell  \n",
              "\n",
              "[4760 rows x 5 columns]"
            ],
            "text/html": [
              "\n",
              "  <div id=\"df-f6343ee7-8af7-4871-aa91-851f197ad778\" class=\"colab-df-container\">\n",
              "    <div>\n",
              "<style scoped>\n",
              "    .dataframe tbody tr th:only-of-type {\n",
              "        vertical-align: middle;\n",
              "    }\n",
              "\n",
              "    .dataframe tbody tr th {\n",
              "        vertical-align: top;\n",
              "    }\n",
              "\n",
              "    .dataframe thead th {\n",
              "        text-align: right;\n",
              "    }\n",
              "</style>\n",
              "<table border=\"1\" class=\"dataframe\">\n",
              "  <thead>\n",
              "    <tr style=\"text-align: right;\">\n",
              "      <th></th>\n",
              "      <th>Movie_Genre</th>\n",
              "      <th>Movie_Keywords</th>\n",
              "      <th>Movie_Tagline</th>\n",
              "      <th>Movie_Cast</th>\n",
              "      <th>Movie_Director</th>\n",
              "    </tr>\n",
              "  </thead>\n",
              "  <tbody>\n",
              "    <tr>\n",
              "      <th>0</th>\n",
              "      <td>Crime Comedy</td>\n",
              "      <td>hotel new year's eve witch bet hotel room</td>\n",
              "      <td>Twelve outrageous guests. Four scandalous requ...</td>\n",
              "      <td>Tim Roth Antonio Banderas Jennifer Beals Madon...</td>\n",
              "      <td>Allison Anders</td>\n",
              "    </tr>\n",
              "    <tr>\n",
              "      <th>1</th>\n",
              "      <td>Adventure Action Science Fiction</td>\n",
              "      <td>android galaxy hermit death star lightsaber</td>\n",
              "      <td>A long time ago in a galaxy far, far away...</td>\n",
              "      <td>Mark Hamill Harrison Ford Carrie Fisher Peter ...</td>\n",
              "      <td>George Lucas</td>\n",
              "    </tr>\n",
              "    <tr>\n",
              "      <th>2</th>\n",
              "      <td>Animation Family</td>\n",
              "      <td>father son relationship harbor underwater fish...</td>\n",
              "      <td>There are 3.7 trillion fish in the ocean, they...</td>\n",
              "      <td>Albert Brooks Ellen DeGeneres Alexander Gould ...</td>\n",
              "      <td>Andrew Stanton</td>\n",
              "    </tr>\n",
              "    <tr>\n",
              "      <th>3</th>\n",
              "      <td>Comedy Drama Romance</td>\n",
              "      <td>vietnam veteran hippie mentally disabled runni...</td>\n",
              "      <td>The world will never be the same, once you've ...</td>\n",
              "      <td>Tom Hanks Robin Wright Gary Sinise Mykelti Wil...</td>\n",
              "      <td>Robert Zemeckis</td>\n",
              "    </tr>\n",
              "    <tr>\n",
              "      <th>4</th>\n",
              "      <td>Drama</td>\n",
              "      <td>male nudity female nudity adultery midlife cri...</td>\n",
              "      <td>Look closer.</td>\n",
              "      <td>Kevin Spacey Annette Bening Thora Birch Wes Be...</td>\n",
              "      <td>Sam Mendes</td>\n",
              "    </tr>\n",
              "    <tr>\n",
              "      <th>...</th>\n",
              "      <td>...</td>\n",
              "      <td>...</td>\n",
              "      <td>...</td>\n",
              "      <td>...</td>\n",
              "      <td>...</td>\n",
              "    </tr>\n",
              "    <tr>\n",
              "      <th>4755</th>\n",
              "      <td>Horror</td>\n",
              "      <td></td>\n",
              "      <td>The hot spot where Satan's waitin'.</td>\n",
              "      <td>Lisa Hart Carroll Michael Des Barres Paul Drak...</td>\n",
              "      <td>Pece Dingo</td>\n",
              "    </tr>\n",
              "    <tr>\n",
              "      <th>4756</th>\n",
              "      <td>Comedy Family Drama</td>\n",
              "      <td></td>\n",
              "      <td>It’s better to stand out than to fit in.</td>\n",
              "      <td>Roni Akurati Brighton Sharbino Jason Lee Anjul...</td>\n",
              "      <td>Frank Lotito</td>\n",
              "    </tr>\n",
              "    <tr>\n",
              "      <th>4757</th>\n",
              "      <td>Thriller Drama</td>\n",
              "      <td>christian film sex trafficking</td>\n",
              "      <td>She never knew it could happen to her...</td>\n",
              "      <td>Nicole Smolen Kim Baldwin Ariana Stephens Brys...</td>\n",
              "      <td>Jaco Booyens</td>\n",
              "    </tr>\n",
              "    <tr>\n",
              "      <th>4758</th>\n",
              "      <td>Family</td>\n",
              "      <td></td>\n",
              "      <td></td>\n",
              "      <td></td>\n",
              "      <td></td>\n",
              "    </tr>\n",
              "    <tr>\n",
              "      <th>4759</th>\n",
              "      <td>Documentary</td>\n",
              "      <td>music actors legendary perfomer classic hollyw...</td>\n",
              "      <td></td>\n",
              "      <td>Tony Oppedisano</td>\n",
              "      <td>Simon Napier-Bell</td>\n",
              "    </tr>\n",
              "  </tbody>\n",
              "</table>\n",
              "<p>4760 rows × 5 columns</p>\n",
              "</div>\n",
              "    <div class=\"colab-df-buttons\">\n",
              "\n",
              "  <div class=\"colab-df-container\">\n",
              "    <button class=\"colab-df-convert\" onclick=\"convertToInteractive('df-f6343ee7-8af7-4871-aa91-851f197ad778')\"\n",
              "            title=\"Convert this dataframe to an interactive table.\"\n",
              "            style=\"display:none;\">\n",
              "\n",
              "  <svg xmlns=\"http://www.w3.org/2000/svg\" height=\"24px\" viewBox=\"0 -960 960 960\">\n",
              "    <path d=\"M120-120v-720h720v720H120Zm60-500h600v-160H180v160Zm220 220h160v-160H400v160Zm0 220h160v-160H400v160ZM180-400h160v-160H180v160Zm440 0h160v-160H620v160ZM180-180h160v-160H180v160Zm440 0h160v-160H620v160Z\"/>\n",
              "  </svg>\n",
              "    </button>\n",
              "\n",
              "  <style>\n",
              "    .colab-df-container {\n",
              "      display:flex;\n",
              "      gap: 12px;\n",
              "    }\n",
              "\n",
              "    .colab-df-convert {\n",
              "      background-color: #E8F0FE;\n",
              "      border: none;\n",
              "      border-radius: 50%;\n",
              "      cursor: pointer;\n",
              "      display: none;\n",
              "      fill: #1967D2;\n",
              "      height: 32px;\n",
              "      padding: 0 0 0 0;\n",
              "      width: 32px;\n",
              "    }\n",
              "\n",
              "    .colab-df-convert:hover {\n",
              "      background-color: #E2EBFA;\n",
              "      box-shadow: 0px 1px 2px rgba(60, 64, 67, 0.3), 0px 1px 3px 1px rgba(60, 64, 67, 0.15);\n",
              "      fill: #174EA6;\n",
              "    }\n",
              "\n",
              "    .colab-df-buttons div {\n",
              "      margin-bottom: 4px;\n",
              "    }\n",
              "\n",
              "    [theme=dark] .colab-df-convert {\n",
              "      background-color: #3B4455;\n",
              "      fill: #D2E3FC;\n",
              "    }\n",
              "\n",
              "    [theme=dark] .colab-df-convert:hover {\n",
              "      background-color: #434B5C;\n",
              "      box-shadow: 0px 1px 3px 1px rgba(0, 0, 0, 0.15);\n",
              "      filter: drop-shadow(0px 1px 2px rgba(0, 0, 0, 0.3));\n",
              "      fill: #FFFFFF;\n",
              "    }\n",
              "  </style>\n",
              "\n",
              "    <script>\n",
              "      const buttonEl =\n",
              "        document.querySelector('#df-f6343ee7-8af7-4871-aa91-851f197ad778 button.colab-df-convert');\n",
              "      buttonEl.style.display =\n",
              "        google.colab.kernel.accessAllowed ? 'block' : 'none';\n",
              "\n",
              "      async function convertToInteractive(key) {\n",
              "        const element = document.querySelector('#df-f6343ee7-8af7-4871-aa91-851f197ad778');\n",
              "        const dataTable =\n",
              "          await google.colab.kernel.invokeFunction('convertToInteractive',\n",
              "                                                    [key], {});\n",
              "        if (!dataTable) return;\n",
              "\n",
              "        const docLinkHtml = 'Like what you see? Visit the ' +\n",
              "          '<a target=\"_blank\" href=https://colab.research.google.com/notebooks/data_table.ipynb>data table notebook</a>'\n",
              "          + ' to learn more about interactive tables.';\n",
              "        element.innerHTML = '';\n",
              "        dataTable['output_type'] = 'display_data';\n",
              "        await google.colab.output.renderOutput(dataTable, element);\n",
              "        const docLink = document.createElement('div');\n",
              "        docLink.innerHTML = docLinkHtml;\n",
              "        element.appendChild(docLink);\n",
              "      }\n",
              "    </script>\n",
              "  </div>\n",
              "\n",
              "\n",
              "<div id=\"df-4bee6537-219a-4eea-99f1-f154e34fed50\">\n",
              "  <button class=\"colab-df-quickchart\" onclick=\"quickchart('df-4bee6537-219a-4eea-99f1-f154e34fed50')\"\n",
              "            title=\"Suggest charts\"\n",
              "            style=\"display:none;\">\n",
              "\n",
              "<svg xmlns=\"http://www.w3.org/2000/svg\" height=\"24px\"viewBox=\"0 0 24 24\"\n",
              "     width=\"24px\">\n",
              "    <g>\n",
              "        <path d=\"M19 3H5c-1.1 0-2 .9-2 2v14c0 1.1.9 2 2 2h14c1.1 0 2-.9 2-2V5c0-1.1-.9-2-2-2zM9 17H7v-7h2v7zm4 0h-2V7h2v10zm4 0h-2v-4h2v4z\"/>\n",
              "    </g>\n",
              "</svg>\n",
              "  </button>\n",
              "\n",
              "<style>\n",
              "  .colab-df-quickchart {\n",
              "      --bg-color: #E8F0FE;\n",
              "      --fill-color: #1967D2;\n",
              "      --hover-bg-color: #E2EBFA;\n",
              "      --hover-fill-color: #174EA6;\n",
              "      --disabled-fill-color: #AAA;\n",
              "      --disabled-bg-color: #DDD;\n",
              "  }\n",
              "\n",
              "  [theme=dark] .colab-df-quickchart {\n",
              "      --bg-color: #3B4455;\n",
              "      --fill-color: #D2E3FC;\n",
              "      --hover-bg-color: #434B5C;\n",
              "      --hover-fill-color: #FFFFFF;\n",
              "      --disabled-bg-color: #3B4455;\n",
              "      --disabled-fill-color: #666;\n",
              "  }\n",
              "\n",
              "  .colab-df-quickchart {\n",
              "    background-color: var(--bg-color);\n",
              "    border: none;\n",
              "    border-radius: 50%;\n",
              "    cursor: pointer;\n",
              "    display: none;\n",
              "    fill: var(--fill-color);\n",
              "    height: 32px;\n",
              "    padding: 0;\n",
              "    width: 32px;\n",
              "  }\n",
              "\n",
              "  .colab-df-quickchart:hover {\n",
              "    background-color: var(--hover-bg-color);\n",
              "    box-shadow: 0 1px 2px rgba(60, 64, 67, 0.3), 0 1px 3px 1px rgba(60, 64, 67, 0.15);\n",
              "    fill: var(--button-hover-fill-color);\n",
              "  }\n",
              "\n",
              "  .colab-df-quickchart-complete:disabled,\n",
              "  .colab-df-quickchart-complete:disabled:hover {\n",
              "    background-color: var(--disabled-bg-color);\n",
              "    fill: var(--disabled-fill-color);\n",
              "    box-shadow: none;\n",
              "  }\n",
              "\n",
              "  .colab-df-spinner {\n",
              "    border: 2px solid var(--fill-color);\n",
              "    border-color: transparent;\n",
              "    border-bottom-color: var(--fill-color);\n",
              "    animation:\n",
              "      spin 1s steps(1) infinite;\n",
              "  }\n",
              "\n",
              "  @keyframes spin {\n",
              "    0% {\n",
              "      border-color: transparent;\n",
              "      border-bottom-color: var(--fill-color);\n",
              "      border-left-color: var(--fill-color);\n",
              "    }\n",
              "    20% {\n",
              "      border-color: transparent;\n",
              "      border-left-color: var(--fill-color);\n",
              "      border-top-color: var(--fill-color);\n",
              "    }\n",
              "    30% {\n",
              "      border-color: transparent;\n",
              "      border-left-color: var(--fill-color);\n",
              "      border-top-color: var(--fill-color);\n",
              "      border-right-color: var(--fill-color);\n",
              "    }\n",
              "    40% {\n",
              "      border-color: transparent;\n",
              "      border-right-color: var(--fill-color);\n",
              "      border-top-color: var(--fill-color);\n",
              "    }\n",
              "    60% {\n",
              "      border-color: transparent;\n",
              "      border-right-color: var(--fill-color);\n",
              "    }\n",
              "    80% {\n",
              "      border-color: transparent;\n",
              "      border-right-color: var(--fill-color);\n",
              "      border-bottom-color: var(--fill-color);\n",
              "    }\n",
              "    90% {\n",
              "      border-color: transparent;\n",
              "      border-bottom-color: var(--fill-color);\n",
              "    }\n",
              "  }\n",
              "</style>\n",
              "\n",
              "  <script>\n",
              "    async function quickchart(key) {\n",
              "      const quickchartButtonEl =\n",
              "        document.querySelector('#' + key + ' button');\n",
              "      quickchartButtonEl.disabled = true;  // To prevent multiple clicks.\n",
              "      quickchartButtonEl.classList.add('colab-df-spinner');\n",
              "      try {\n",
              "        const charts = await google.colab.kernel.invokeFunction(\n",
              "            'suggestCharts', [key], {});\n",
              "      } catch (error) {\n",
              "        console.error('Error during call to suggestCharts:', error);\n",
              "      }\n",
              "      quickchartButtonEl.classList.remove('colab-df-spinner');\n",
              "      quickchartButtonEl.classList.add('colab-df-quickchart-complete');\n",
              "    }\n",
              "    (() => {\n",
              "      let quickchartButtonEl =\n",
              "        document.querySelector('#df-4bee6537-219a-4eea-99f1-f154e34fed50 button');\n",
              "      quickchartButtonEl.style.display =\n",
              "        google.colab.kernel.accessAllowed ? 'block' : 'none';\n",
              "    })();\n",
              "  </script>\n",
              "</div>\n",
              "\n",
              "  <div id=\"id_f2090273-bbef-4aaa-a93e-7e71225136fc\">\n",
              "    <style>\n",
              "      .colab-df-generate {\n",
              "        background-color: #E8F0FE;\n",
              "        border: none;\n",
              "        border-radius: 50%;\n",
              "        cursor: pointer;\n",
              "        display: none;\n",
              "        fill: #1967D2;\n",
              "        height: 32px;\n",
              "        padding: 0 0 0 0;\n",
              "        width: 32px;\n",
              "      }\n",
              "\n",
              "      .colab-df-generate:hover {\n",
              "        background-color: #E2EBFA;\n",
              "        box-shadow: 0px 1px 2px rgba(60, 64, 67, 0.3), 0px 1px 3px 1px rgba(60, 64, 67, 0.15);\n",
              "        fill: #174EA6;\n",
              "      }\n",
              "\n",
              "      [theme=dark] .colab-df-generate {\n",
              "        background-color: #3B4455;\n",
              "        fill: #D2E3FC;\n",
              "      }\n",
              "\n",
              "      [theme=dark] .colab-df-generate:hover {\n",
              "        background-color: #434B5C;\n",
              "        box-shadow: 0px 1px 3px 1px rgba(0, 0, 0, 0.15);\n",
              "        filter: drop-shadow(0px 1px 2px rgba(0, 0, 0, 0.3));\n",
              "        fill: #FFFFFF;\n",
              "      }\n",
              "    </style>\n",
              "    <button class=\"colab-df-generate\" onclick=\"generateWithVariable('df_features')\"\n",
              "            title=\"Generate code using this dataframe.\"\n",
              "            style=\"display:none;\">\n",
              "\n",
              "  <svg xmlns=\"http://www.w3.org/2000/svg\" height=\"24px\"viewBox=\"0 0 24 24\"\n",
              "       width=\"24px\">\n",
              "    <path d=\"M7,19H8.4L18.45,9,17,7.55,7,17.6ZM5,21V16.75L18.45,3.32a2,2,0,0,1,2.83,0l1.4,1.43a1.91,1.91,0,0,1,.58,1.4,1.91,1.91,0,0,1-.58,1.4L9.25,21ZM18.45,9,17,7.55Zm-12,3A5.31,5.31,0,0,0,4.9,8.1,5.31,5.31,0,0,0,1,6.5,5.31,5.31,0,0,0,4.9,4.9,5.31,5.31,0,0,0,6.5,1,5.31,5.31,0,0,0,8.1,4.9,5.31,5.31,0,0,0,12,6.5,5.46,5.46,0,0,0,6.5,12Z\"/>\n",
              "  </svg>\n",
              "    </button>\n",
              "    <script>\n",
              "      (() => {\n",
              "      const buttonEl =\n",
              "        document.querySelector('#id_f2090273-bbef-4aaa-a93e-7e71225136fc button.colab-df-generate');\n",
              "      buttonEl.style.display =\n",
              "        google.colab.kernel.accessAllowed ? 'block' : 'none';\n",
              "\n",
              "      buttonEl.onclick = () => {\n",
              "        google.colab.notebook.generateWithVariable('df_features');\n",
              "      }\n",
              "      })();\n",
              "    </script>\n",
              "  </div>\n",
              "\n",
              "    </div>\n",
              "  </div>\n"
            ],
            "application/vnd.google.colaboratory.intrinsic+json": {
              "type": "dataframe",
              "variable_name": "df_features",
              "summary": "{\n  \"name\": \"df_features\",\n  \"rows\": 4760,\n  \"fields\": [\n    {\n      \"column\": \"Movie_Genre\",\n      \"properties\": {\n        \"dtype\": \"category\",\n        \"num_unique_values\": 1164,\n        \"samples\": [\n          \"Family Animation Adventure\",\n          \"Adventure Science Fiction Action\",\n          \"Action Crime Drama Romance Thriller\"\n        ],\n        \"semantic_type\": \"\",\n        \"description\": \"\"\n      }\n    },\n    {\n      \"column\": \"Movie_Keywords\",\n      \"properties\": {\n        \"dtype\": \"string\",\n        \"num_unique_values\": 4203,\n        \"samples\": [\n          \"canada nazis sequel spin off ancient evil\",\n          \"sex professor wedding woman director columbia university\",\n          \"prophecy sea beach gold small town\"\n        ],\n        \"semantic_type\": \"\",\n        \"description\": \"\"\n      }\n    },\n    {\n      \"column\": \"Movie_Tagline\",\n      \"properties\": {\n        \"dtype\": \"string\",\n        \"num_unique_values\": 3928,\n        \"samples\": [\n          \"The messenger must be silenced.\",\n          \"It's not the house that's haunted.\",\n          \"The final hunt begins.\"\n        ],\n        \"semantic_type\": \"\",\n        \"description\": \"\"\n      }\n    },\n    {\n      \"column\": \"Movie_Cast\",\n      \"properties\": {\n        \"dtype\": \"string\",\n        \"num_unique_values\": 4715,\n        \"samples\": [\n          \"Robin Tunney Fairuza Balk Neve Campbell Rachel True Skeet Ulrich\",\n          \"Peter Sellers Christopher Plummer Herbert Lom Catherine Schell Peter Arne\",\n          \"John Wayne Laraine Day Cedric Hardwicke Judith Anderson Anthony Quinn\"\n        ],\n        \"semantic_type\": \"\",\n        \"description\": \"\"\n      }\n    },\n    {\n      \"column\": \"Movie_Director\",\n      \"properties\": {\n        \"dtype\": \"category\",\n        \"num_unique_values\": 2332,\n        \"samples\": [\n          \"Rob McKittrick\",\n          \"Terron R. Parsons\",\n          \"Cyrus Nowrasteh\"\n        ],\n        \"semantic_type\": \"\",\n        \"description\": \"\"\n      }\n    }\n  ]\n}"
            }
          },
          "metadata": {},
          "execution_count": 24
        }
      ]
    },
    {
      "cell_type": "code",
      "source": [
        "x = df_features['Movie_Genre'] + '' + df_features['Movie_Keywords'] + '' + df_features['Movie_Tagline'] + '' + df_features['Movie_Cast'] + '' + df_features['Movie_Director']"
      ],
      "metadata": {
        "id": "Vbv63o1S1saC"
      },
      "execution_count": null,
      "outputs": []
    },
    {
      "cell_type": "code",
      "source": [
        "x"
      ],
      "metadata": {
        "colab": {
          "base_uri": "https://localhost:8080/"
        },
        "id": "jp2gqHJd2s1H",
        "outputId": "cb9f5fb7-b00f-4d92-fd01-b9968a3f997e"
      },
      "execution_count": null,
      "outputs": [
        {
          "output_type": "execute_result",
          "data": {
            "text/plain": [
              "0       Crime Comedyhotel new year's eve witch bet hot...\n",
              "1       Adventure Action Science Fictionandroid galaxy...\n",
              "2       Animation Familyfather son relationship harbor...\n",
              "3       Comedy Drama Romancevietnam veteran hippie men...\n",
              "4       Dramamale nudity female nudity adultery midlif...\n",
              "                              ...                        \n",
              "4755    HorrorThe hot spot where Satan's waitin'.Lisa ...\n",
              "4756    Comedy Family DramaIt’s better to stand out th...\n",
              "4757    Thriller Dramachristian film sex traffickingSh...\n",
              "4758                                               Family\n",
              "4759    Documentarymusic actors legendary perfomer cla...\n",
              "Length: 4760, dtype: object"
            ]
          },
          "metadata": {},
          "execution_count": 26
        }
      ]
    },
    {
      "cell_type": "code",
      "source": [
        "x.shape"
      ],
      "metadata": {
        "colab": {
          "base_uri": "https://localhost:8080/"
        },
        "id": "gIAdIkot2v64",
        "outputId": "16279e71-a405-4532-aed1-112d43b77193"
      },
      "execution_count": null,
      "outputs": [
        {
          "output_type": "execute_result",
          "data": {
            "text/plain": [
              "(4760,)"
            ]
          },
          "metadata": {},
          "execution_count": 42
        }
      ]
    },
    {
      "cell_type": "code",
      "source": [
        "from sklearn.feature_extraction.text import TfidfVectorizer"
      ],
      "metadata": {
        "id": "U0k6GJuI20c2"
      },
      "execution_count": null,
      "outputs": []
    },
    {
      "cell_type": "code",
      "source": [
        "tfidf = TfidfVectorizer()"
      ],
      "metadata": {
        "id": "wFD2FWCX3Dpy"
      },
      "execution_count": null,
      "outputs": []
    },
    {
      "cell_type": "code",
      "source": [
        "x.shape"
      ],
      "metadata": {
        "colab": {
          "base_uri": "https://localhost:8080/"
        },
        "id": "dXnufF3Q53Xm",
        "outputId": "1d6f736d-3b8f-499b-ee02-08c98ca74fe0"
      },
      "execution_count": null,
      "outputs": [
        {
          "output_type": "execute_result",
          "data": {
            "text/plain": [
              "(4760, 27466)"
            ]
          },
          "metadata": {},
          "execution_count": 54
        }
      ]
    },
    {
      "cell_type": "code",
      "source": [
        "print(x)"
      ],
      "metadata": {
        "colab": {
          "base_uri": "https://localhost:8080/"
        },
        "id": "VD6eeaJ858OB",
        "outputId": "06942a4f-2446-4582-cde9-a67a1d71fc86"
      },
      "execution_count": null,
      "outputs": [
        {
          "output_type": "stream",
          "name": "stdout",
          "text": [
            "  (0, 1028)\t0.16196019146631543\n",
            "  (0, 24785)\t0.1954632929283795\n",
            "  (0, 15844)\t0.14205053053187272\n",
            "  (0, 15553)\t0.17099186675469502\n",
            "  (0, 2132)\t0.18002354204307464\n",
            "  (0, 13312)\t0.09914387783149516\n",
            "  (0, 1887)\t0.14106037409792174\n",
            "  (0, 1216)\t0.13920306109638164\n",
            "  (0, 21158)\t0.14205053053187272\n",
            "  (0, 24701)\t0.11357423942624927\n",
            "  (0, 14943)\t0.091376722056839\n",
            "  (0, 18098)\t0.06200430666985742\n",
            "  (0, 26738)\t0.175053052455033\n",
            "  (0, 9790)\t0.08712552095655665\n",
            "  (0, 26675)\t0.1116831168780693\n",
            "  (0, 13401)\t0.13748876529263096\n",
            "  (0, 24105)\t0.10726395493180996\n",
            "  (0, 18192)\t0.07278761942152372\n",
            "  (0, 6172)\t0.11970212451073885\n",
            "  (0, 9626)\t0.11757910435818826\n",
            "  (0, 11960)\t0.20134029899961134\n",
            "  (0, 12801)\t0.1530338818199682\n",
            "  (0, 2292)\t0.1954632929283795\n",
            "  (0, 15172)\t0.1537691763994982\n",
            "  (0, 18196)\t0.08579029869987485\n",
            "  :\t:\n",
            "  (4757, 1839)\t0.19327629083107672\n",
            "  (4757, 5410)\t0.19734759150400596\n",
            "  (4757, 11350)\t0.21582294886514122\n",
            "  (4757, 22017)\t0.1646400247918531\n",
            "  (4757, 17789)\t0.18881341937258544\n",
            "  (4757, 9484)\t0.1411164779725638\n",
            "  (4757, 14176)\t0.2330831990045816\n",
            "  (4757, 11762)\t0.17321388936472645\n",
            "  (4757, 14052)\t0.1776312353410007\n",
            "  (4757, 24232)\t0.10947784435203887\n",
            "  (4757, 24746)\t0.09744940789814222\n",
            "  (4757, 13079)\t0.12400374714145113\n",
            "  (4757, 17721)\t0.1489085353667712\n",
            "  (4758, 8651)\t1.0\n",
            "  (4759, 18229)\t0.33527342183765224\n",
            "  (4759, 22434)\t0.33527342183765224\n",
            "  (4759, 18841)\t0.33527342183765224\n",
            "  (4759, 6950)\t0.33527342183765224\n",
            "  (4759, 345)\t0.31978160936741457\n",
            "  (4759, 14742)\t0.31978160936741457\n",
            "  (4759, 12139)\t0.2778063685558062\n",
            "  (4759, 4446)\t0.282306565154911\n",
            "  (4759, 17552)\t0.3087899934962816\n",
            "  (4759, 9955)\t0.21805075638656476\n",
            "  (4759, 2285)\t0.21465229435984196\n"
          ]
        }
      ]
    },
    {
      "cell_type": "code",
      "source": [
        "from sklearn.metrics.pairwise import cosine_similarity"
      ],
      "metadata": {
        "id": "0_LsGEZ16b57"
      },
      "execution_count": null,
      "outputs": []
    },
    {
      "cell_type": "code",
      "source": [
        "Similarity_Score = cosine_similarity(x)"
      ],
      "metadata": {
        "id": "pykSsbkJ6nB4"
      },
      "execution_count": null,
      "outputs": []
    },
    {
      "cell_type": "code",
      "source": [
        "Similarity_Score"
      ],
      "metadata": {
        "colab": {
          "base_uri": "https://localhost:8080/"
        },
        "id": "3QOUEcFP60Ot",
        "outputId": "9667a312-d3ba-49df-ee2b-b1ae8fb18267"
      },
      "execution_count": null,
      "outputs": [
        {
          "output_type": "execute_result",
          "data": {
            "text/plain": [
              "array([[1.        , 0.01438634, 0.03807033, ..., 0.        , 0.        ,\n",
              "        0.        ],\n",
              "       [0.01438634, 1.        , 0.00844858, ..., 0.        , 0.        ,\n",
              "        0.        ],\n",
              "       [0.03807033, 0.00844858, 1.        , ..., 0.        , 0.        ,\n",
              "        0.        ],\n",
              "       ...,\n",
              "       [0.        , 0.        , 0.        , ..., 1.        , 0.        ,\n",
              "        0.        ],\n",
              "       [0.        , 0.        , 0.        , ..., 0.        , 1.        ,\n",
              "        0.        ],\n",
              "       [0.        , 0.        , 0.        , ..., 0.        , 0.        ,\n",
              "        1.        ]])"
            ]
          },
          "metadata": {},
          "execution_count": 59
        }
      ]
    },
    {
      "cell_type": "code",
      "source": [
        "Similarity_Score.shape"
      ],
      "metadata": {
        "colab": {
          "base_uri": "https://localhost:8080/"
        },
        "id": "fsOz0Gac7A09",
        "outputId": "745a6efc-20b9-4ed4-98b2-183b51f93466"
      },
      "execution_count": null,
      "outputs": [
        {
          "output_type": "execute_result",
          "data": {
            "text/plain": [
              "(4760, 4760)"
            ]
          },
          "metadata": {},
          "execution_count": 60
        }
      ]
    },
    {
      "cell_type": "code",
      "source": [
        "# getting the movie name from user\n",
        "movie_name = input(' Enter your favourite movie name : ')"
      ],
      "metadata": {
        "colab": {
          "base_uri": "https://localhost:8080/"
        },
        "id": "2OgNcj48Bc7a",
        "outputId": "a58dc485-9834-4c0c-f061-5172f76839e4"
      },
      "execution_count": null,
      "outputs": [
        {
          "name": "stdout",
          "output_type": "stream",
          "text": [
            " Enter your favourite movie name : iron man\n"
          ]
        }
      ]
    },
    {
      "cell_type": "code",
      "source": [
        "All_Movies_Title_List = df['Movie_Title'].tolist()"
      ],
      "metadata": {
        "id": "ftXeF0GsCX0P"
      },
      "execution_count": null,
      "outputs": []
    },
    {
      "cell_type": "code",
      "source": [
        "import difflib"
      ],
      "metadata": {
        "id": "OMSXrNhXC2Hy"
      },
      "execution_count": null,
      "outputs": []
    },
    {
      "cell_type": "code",
      "source": [
        "Movie_Recommendation = difflib.get_close_matches(movie_name,All_Movies_Title_List)\n",
        "print(Movie_Recommendation)"
      ],
      "metadata": {
        "colab": {
          "base_uri": "https://localhost:8080/"
        },
        "id": "NDogoFCJC5Sn",
        "outputId": "651948d3-2ac5-4067-cd96-48ca17480808"
      },
      "execution_count": null,
      "outputs": [
        {
          "output_type": "stream",
          "name": "stdout",
          "text": [
            "['Iron Man', 'Iron Man 3', 'Iron Man 2']\n"
          ]
        }
      ]
    },
    {
      "cell_type": "code",
      "source": [
        "Close_Match = Movie_Recommendation[0]\n",
        "print(Close_Match)"
      ],
      "metadata": {
        "colab": {
          "base_uri": "https://localhost:8080/"
        },
        "id": "ww7kCXLHDaY0",
        "outputId": "572d698f-80ae-494a-babc-d525cdb4a4be"
      },
      "execution_count": null,
      "outputs": [
        {
          "output_type": "stream",
          "name": "stdout",
          "text": [
            "Iron Man\n"
          ]
        }
      ]
    },
    {
      "cell_type": "code",
      "source": [
        "Index_of_Close_Match_Movie = df[df.Movie_Title == Close_Match]['Movie_ID'].values[0]\n",
        "print(Index_of_Close_Match_Movie)"
      ],
      "metadata": {
        "colab": {
          "base_uri": "https://localhost:8080/"
        },
        "id": "ZUS_PYZXDtwm",
        "outputId": "f11f9ac0-9800-4a18-ac3f-12a506464a07"
      },
      "execution_count": null,
      "outputs": [
        {
          "output_type": "stream",
          "name": "stdout",
          "text": [
            "568\n"
          ]
        }
      ]
    },
    {
      "cell_type": "code",
      "source": [
        "# getting a list of similar movies\n",
        "Recommendation_Score = list(enumerate(Similarity_Score[Index_of_Close_Match_Movie]))\n",
        "print(Recommendation_Score)"
      ],
      "metadata": {
        "colab": {
          "base_uri": "https://localhost:8080/"
        },
        "id": "0waB7v_oEURC",
        "outputId": "4471ace1-b1b0-477c-a194-100a904b03ac"
      },
      "execution_count": null,
      "outputs": [
        {
          "output_type": "stream",
          "name": "stdout",
          "text": [
            "[(0, 0.022636771233239664), (1, 0.01192230062237528), (2, 0.016191262264571463), (3, 0.014783383508613974), (4, 0.0), (5, 0.0), (6, 0.03793166798489076), (7, 0.01167660203435437), (8, 0.0), (9, 0.03054488393984629), (10, 0.06933984601503365), (11, 0.005374522119125775), (12, 0.015148504148406846), (13, 0.0), (14, 0.004764094488697137), (15, 0.014114842406579996), (16, 0.0), (17, 0.030312059526870473), (18, 0.004830089580523253), (19, 0.014451538578964914), (20, 0.020190082002958472), (21, 0.0), (22, 0.006797485324205564), (23, 0.00893744166849155), (24, 0.023745784005604266), (25, 0.024543747863124105), (26, 0.0), (27, 0.0076914473143334895), (28, 0.01823528398079416), (29, 0.01171289632880789), (30, 0.0), (31, 0.0), (32, 0.13157622658098977), (33, 0.0046134318772232666), (34, 0.011440286560292298), (35, 0.027876531143603184), (36, 0.013711814660840304), (37, 0.024048513116780173), (38, 0.015820092983341465), (39, 0.010548946262077329), (40, 0.014102611470655446), (41, 0.006089482490862445), (42, 0.0), (43, 0.006147122925320868), (44, 0.010667201517099056), (45, 0.02218260375258142), (46, 0.012328863570354336), (47, 0.0), (48, 0.01570252863608343), (49, 0.0), (50, 0.01332992910478383), (51, 0.0), (52, 0.0), (53, 0.01515442975570288), (54, 0.020555520424461377), (55, 0.02925084462866278), (56, 0.04169576644080891), (57, 0.03760789094481344), (58, 0.017471104147035624), (59, 0.013185694271754388), (60, 0.021555109235228305), (61, 0.0122889273513384), (62, 0.024883623555795265), (63, 0.01705804583556635), (64, 0.01205619257475245), (65, 0.023190983641046003), (66, 0.0), (67, 0.03852145159363771), (68, 0.01750943770432509), (69, 0.030471683576596242), (70, 0.0), (71, 0.02402513815725196), (72, 0.013377599579611566), (73, 0.017198142025046194), (74, 0.010971721726270091), (75, 0.01371752961539535), (76, 0.004822981759062453), (77, 0.0), (78, 0.021483347172106843), (79, 0.014230128341359546), (80, 0.048516847436023205), (81, 0.010804197171845682), (82, 0.03844027086937212), (83, 0.007006564745752658), (84, 0.01360044962998511), (85, 0.014970209499640449), (86, 0.01969515023596829), (87, 0.04060114515504767), (88, 0.008980620634302192), (89, 0.009421868199064942), (90, 0.024062562307133523), (91, 0.032521461173077915), (92, 0.0052644960217064374), (93, 0.03289387177027978), (94, 0.06015492134137827), (95, 0.024630692163412824), (96, 0.017714616480674163), (97, 0.004516233633063189), (98, 0.0), (99, 0.0), (100, 0.0), (101, 0.02155964389340187), (102, 0.03273206207572453), (103, 0.0), (104, 0.0068034959542575555), (105, 0.005121275659473273), (106, 0.025736978638048268), (107, 0.009641054649904193), (108, 0.044033287351934305), (109, 0.0067970166962481055), (110, 0.01383192275156844), (111, 0.0), (112, 0.005053197954628725), (113, 0.005691221388588086), (114, 0.0), (115, 0.0), (116, 0.012092852925646255), (117, 0.0), (118, 0.022708466769844296), (119, 0.018968303540995473), (120, 0.0), (121, 0.0), (122, 0.04077090935532815), (123, 0.022956496810602012), (124, 0.022120846530370105), (125, 0.04360358615369131), (126, 0.0), (127, 0.008236883246227993), (128, 0.018207176619877426), (129, 0.0), (130, 0.05141107818208096), (131, 0.007196610032803619), (132, 0.0), (133, 0.0), (134, 0.0), (135, 0.010714554919694402), (136, 0.011690032406758769), (137, 0.012374145776358182), (138, 0.013235025484477834), (139, 0.006232675090016323), (140, 0.0), (141, 0.013340969443269506), (142, 0.017319399247914813), (143, 0.006290482464374866), (144, 0.022531477322408736), (145, 0.0), (146, 0.0), (147, 0.006166858921086146), (148, 0.009751699108923243), (149, 0.0), (150, 0.02015138326569276), (151, 0.013821724963655637), (152, 0.018012572147965172), (153, 0.015677467107957022), (154, 0.0), (155, 0.005177011920814193), (156, 0.0056272089561340746), (157, 0.0), (158, 0.029627363802330803), (159, 0.014331545750992866), (160, 0.0051620621216892015), (161, 0.012436847615252834), (162, 0.04052994974706985), (163, 0.0), (164, 0.006706149588144031), (165, 0.013881147887768213), (166, 0.004656493758845346), (167, 0.016178616579035278), (168, 0.01657568094343415), (169, 0.014038592990928835), (170, 0.07828100477643878), (171, 0.012483722762660573), (172, 0.0), (173, 0.0070843398386769086), (174, 0.007088853422906313), (175, 0.005924524472817743), (176, 0.0), (177, 0.021128243714708485), (178, 0.0), (179, 0.0251662172845983), (180, 0.00607611508300781), (181, 0.005599439804813953), (182, 0.019752765254794587), (183, 0.006306318097313221), (184, 0.0047066196627422495), (185, 0.006468444952262514), (186, 0.004417166929107679), (187, 0.024513864212664487), (188, 0.0), (189, 0.018898836043923548), (190, 0.0), (191, 0.028954597611652404), (192, 0.005423512591988701), (193, 0.015779116996586812), (194, 0.0), (195, 0.0044329976074150785), (196, 0.0), (197, 0.006664308358673368), (198, 0.0), (199, 0.0062704397545223925), (200, 0.0), (201, 0.01920112827701151), (202, 0.015783171644489228), (203, 0.0), (204, 0.013238611700633134), (205, 0.0), (206, 0.025418867285286233), (207, 0.012154786059865808), (208, 0.022426104289357176), (209, 0.00723323115657902), (210, 0.006141739195588629), (211, 0.0), (212, 0.03174070572714114), (213, 0.0), (214, 0.009609901668246672), (215, 0.004935078660213977), (216, 0.005346094023470619), (217, 0.005406262367952067), (218, 0.01876389112789128), (219, 0.01674641420443504), (220, 0.011184600488427319), (221, 0.020304643843766255), (222, 0.021326093859342837), (223, 0.013376121276657823), (224, 0.0), (225, 0.01596641882110237), (226, 0.008723996099895662), (227, 0.0), (228, 0.01444908061458879), (229, 0.0), (230, 0.018959534233808233), (231, 0.027811261771448693), (232, 0.05547881138448986), (233, 0.005654999516333651), (234, 0.018655132611336), (235, 0.0), (236, 0.0), (237, 0.010325559328640621), (238, 0.012910158027581192), (239, 0.005382879665809404), (240, 0.004847348790358986), (241, 0.018059743208209182), (242, 0.020323961287647088), (243, 0.012260050727583693), (244, 0.005784904018231746), (245, 0.0), (246, 0.0), (247, 0.02738867453281909), (248, 0.006543987861559332), (249, 0.031651350076836796), (250, 0.005655868367183177), (251, 0.02282431681571573), (252, 0.019943146812873694), (253, 0.009412515502516351), (254, 0.0), (255, 0.0), (256, 0.0), (257, 0.029745772621425047), (258, 0.013511192870593951), (259, 0.016093351499512656), (260, 0.018172224749784735), (261, 0.01798931198063723), (262, 0.011545373599033662), (263, 0.03410633513223948), (264, 0.01865704748671039), (265, 0.0), (266, 0.024244013572044303), (267, 0.0), (268, 0.0), (269, 0.04182985581369839), (270, 0.0), (271, 0.009944728199368282), (272, 0.014403778936688115), (273, 0.02024323408433775), (274, 0.0), (275, 0.0), (276, 0.0), (277, 0.021548834966930608), (278, 0.0), (279, 0.0047745137501518575), (280, 0.006960189744097331), (281, 0.0), (282, 0.015147311764493493), (283, 0.029410807856056702), (284, 0.01716014853637439), (285, 0.0), (286, 0.056257766323063216), (287, 0.016569994979632945), (288, 0.014951268396959032), (289, 0.010892894113675371), (290, 0.01183288112650943), (291, 0.012681561270596182), (292, 0.019460639696255493), (293, 0.023782534752238002), (294, 0.015342535969784295), (295, 0.018811161429923087), (296, 0.03627663312297293), (297, 0.032210124184404276), (298, 0.03574164808857238), (299, 0.02567376107936788), (300, 0.03624742740398998), (301, 0.044817905517412986), (302, 0.0), (303, 0.01780387671214063), (304, 0.0), (305, 0.012901908607541548), (306, 0.024874610137939242), (307, 0.006350997165284142), (308, 0.0), (309, 0.009821117300807767), (310, 0.022726994403562902), (311, 0.0), (312, 0.0), (313, 0.007028411517890119), (314, 0.020533345028344807), (315, 0.012882221152478019), (316, 0.012274413570602341), (317, 0.01226780852530673), (318, 0.0), (319, 0.008887960075316947), (320, 0.01357010515824483), (321, 0.01983122229416112), (322, 0.028271108950716065), (323, 0.012126480697475066), (324, 0.004740171490199402), (325, 0.0), (326, 0.0), (327, 0.04645353751129631), (328, 0.02974577727987034), (329, 0.02147789451453337), (330, 0.03614333460298691), (331, 0.0), (332, 0.014796091697868174), (333, 0.004993311127983043), (334, 0.01847738771558197), (335, 0.0), (336, 0.02491449643397783), (337, 0.0), (338, 0.004773302165681833), (339, 0.012479412674321082), (340, 0.04124960082107551), (341, 0.01857847976826211), (342, 0.012893099593631031), (343, 0.013417443926686154), (344, 0.0054064444857806985), (345, 0.01200253783569396), (346, 0.011921160845873666), (347, 0.027356876304836467), (348, 0.00506825221083823), (349, 0.013255865824576408), (350, 0.006179443831004184), (351, 0.0), (352, 0.004725832111542972), (353, 0.015398302819187509), (354, 0.018982894154828293), (355, 0.011939375849882151), (356, 0.01959426654972847), (357, 0.009224706539815554), (358, 0.013359047021876758), (359, 0.012748709093052075), (360, 0.0), (361, 0.0079218728198038), (362, 0.008139815083355907), (363, 0.04337678762859527), (364, 0.006790144499652654), (365, 0.008462851778853617), (366, 0.0), (367, 0.01007722526595177), (368, 0.02709974397886246), (369, 0.012427593285180397), (370, 0.0), (371, 0.011604500997565237), (372, 0.004862125586977358), (373, 0.0), (374, 0.013395006950256933), (375, 0.01878622259891475), (376, 0.0), (377, 0.0), (378, 0.0), (379, 0.005060548274910961), (380, 0.00577330932205754), (381, 0.010359016592987068), (382, 0.01698384764686557), (383, 0.0), (384, 0.0), (385, 0.0), (386, 0.013700583755676989), (387, 0.0086532806498467), (388, 0.004914446631452964), (389, 0.00842750395486189), (390, 0.022842386099710392), (391, 0.0), (392, 0.0), (393, 0.0), (394, 0.013706426966846864), (395, 0.0), (396, 0.0), (397, 0.015267890470027332), (398, 0.0), (399, 0.0), (400, 0.013428646004042413), (401, 0.034673517089906444), (402, 0.008206989767982498), (403, 0.014959225782686596), (404, 0.012636388548927409), (405, 0.0), (406, 0.006984386053160107), (407, 0.023495993028179715), (408, 0.004886385387002657), (409, 0.012091895663906387), (410, 0.004673089490425964), (411, 0.01670500753666781), (412, 0.014031200426131884), (413, 0.035357164533431205), (414, 0.01482083939313925), (415, 0.0), (416, 0.0), (417, 0.02002070382980381), (418, 0.07252469488996124), (419, 0.008809071300675497), (420, 0.0), (421, 0.006892322641395066), (422, 0.0), (423, 0.0), (424, 0.020729231575953033), (425, 0.0207578112330161), (426, 0.012056905785857837), (427, 0.005133648719711702), (428, 0.022741775519055065), (429, 0.0), (430, 0.013196381754088304), (431, 0.0), (432, 0.026907409713768735), (433, 0.02238974638728468), (434, 0.0), (435, 0.00458013923260173), (436, 0.010065912277341988), (437, 0.01375468625118316), (438, 0.0), (439, 0.013593801311110295), (440, 0.020881574234837916), (441, 0.014603173548184724), (442, 0.004780492263710124), (443, 0.012123770717243564), (444, 0.0), (445, 0.006066483985365963), (446, 0.017612300258114784), (447, 0.0), (448, 0.006086387116340147), (449, 0.0065036789468299935), (450, 0.08229318882679645), (451, 0.026376731347441194), (452, 0.049693523971016826), (453, 0.0), (454, 0.004756213257293011), (455, 0.018138408922023876), (456, 0.013505457238982468), (457, 0.006867294397253043), (458, 0.006392971854285019), (459, 0.0), (460, 0.010174495309237709), (461, 0.008659265834503849), (462, 0.0), (463, 0.013948687902857573), (464, 0.006987523471813783), (465, 0.0495422638430842), (466, 0.0), (467, 0.026417873326459108), (468, 0.01872104146405383), (469, 0.03780900701508442), (470, 0.00727638238431556), (471, 0.0), (472, 0.029825447688982543), (473, 0.0), (474, 0.0), (475, 0.0024907982927746338), (476, 0.0), (477, 0.06033596700818116), (478, 0.0), (479, 0.0), (480, 0.011219508077119304), (481, 0.0), (482, 0.018623124666755253), (483, 0.018267490802523628), (484, 0.0), (485, 0.0), (486, 0.015137665476756278), (487, 0.0), (488, 0.0), (489, 0.037598973539447855), (490, 0.010713835198366968), (491, 0.036932445076092585), (492, 0.022201401709946975), (493, 0.02267136598711519), (494, 0.010724457816464902), (495, 0.11636509067014399), (496, 0.03718134810754217), (497, 0.01622594820069512), (498, 0.013310584966065513), (499, 0.0), (500, 0.015191898758017842), (501, 0.037329787291941294), (502, 0.0), (503, 0.0), (504, 0.005258992073323193), (505, 0.0), (506, 0.0), (507, 0.005032588511381079), (508, 0.005680441723476087), (509, 0.0), (510, 0.035955010215811295), (511, 0.017462023520209497), (512, 0.016147689692314685), (513, 0.005961963221190877), (514, 0.006239218080334354), (515, 0.005185448737489481), (516, 0.005655351729814002), (517, 0.005892024530637905), (518, 0.0), (519, 0.018008840262421708), (520, 0.0), (521, 0.012082533759743053), (522, 0.0), (523, 0.021055517630304606), (524, 0.009510351703217314), (525, 0.005323093173388291), (526, 0.0), (527, 0.011079111189815841), (528, 0.013339851788657806), (529, 0.005201254267562273), (530, 0.01840473762614412), (531, 0.0), (532, 0.005489674645165145), (533, 0.006374681530123373), (534, 0.006052729381936882), (535, 0.0), (536, 0.0), (537, 0.013857381617984776), (538, 0.0322291488497201), (539, 0.026666168280392213), (540, 0.022250687863496398), (541, 0.010418578618029868), (542, 0.0), (543, 0.0), (544, 0.0), (545, 0.018615198721892004), (546, 0.019181081175882353), (547, 0.005869915767066246), (548, 0.013083038122575684), (549, 0.004876211257016127), (550, 0.014262853674435139), (551, 0.014359663631197811), (552, 0.0), (553, 0.058613424032197894), (554, 0.005526234425976668), (555, 0.0334001541523857), (556, 0.0), (557, 0.0), (558, 0.0), (559, 0.0), (560, 0.01096465395509998), (561, 0.0556071466050752), (562, 0.010701270955795289), (563, 0.0), (564, 0.0), (565, 0.005093977700610164), (566, 0.020837241764419374), (567, 0.005435154827191638), (568, 1.0), (569, 0.024760238924230862), (570, 0.1725797164930775), (571, 0.0), (572, 0.013159234248838747), (573, 0.011180007376758169), (574, 0.0), (575, 0.004750173560822724), (576, 0.0), (577, 0.012555129908254206), (578, 0.0), (579, 0.0), (580, 0.0), (581, 0.0), (582, 0.020958378804070033), (583, 0.010944596485874064), (584, 0.0), (585, 0.033066951862878544), (586, 0.012826865488241733), (587, 0.0), (588, 0.008780699448145196), (589, 0.01615296742592882), (590, 0.009945883021951587), (591, 0.00827771240342408), (592, 0.013373484700846374), (593, 0.0), (594, 0.01676572914857554), (595, 0.005993366135941041), (596, 0.0), (597, 0.020013391525932588), (598, 0.0), (599, 0.05032127702650355), (600, 0.04850733703188578), (601, 0.011694018280952147), (602, 0.011458902342275935), (603, 0.016829206628796306), (604, 0.0), (605, 0.0), (606, 0.0), (607, 0.07351564974259156), (608, 0.007054737640186152), (609, 0.027880888706517726), (610, 0.03911529424576049), (611, 0.0), (612, 0.01477747737804516), (613, 0.030650029489507014), (614, 0.012447820142226625), (615, 0.02002063780763355), (616, 0.005733874532135579), (617, 0.0), (618, 0.020044508271480105), (619, 0.01873279857689246), (620, 0.013148225012681742), (621, 0.004771414646816208), (622, 0.0), (623, 0.0), (624, 0.0), (625, 0.0), (626, 0.0), (627, 0.0), (628, 0.0), (629, 0.006094097396645176), (630, 0.014393220931231824), (631, 0.020728124724370647), (632, 0.0052272462030101795), (633, 0.0), (634, 0.0), (635, 0.058994162013718265), (636, 0.0), (637, 0.0), (638, 0.0), (639, 0.03800145261699078), (640, 0.031754041535537056), (641, 0.011065387675567365), (642, 0.0), (643, 0.011507030726749929), (644, 0.08714671627484617), (645, 0.0), (646, 0.0), (647, 0.0), (648, 0.020574869668227906), (649, 0.0), (650, 0.0), (651, 0.019919619684180438), (652, 0.0), (653, 0.02157064997884102), (654, 0.02016757354209394), (655, 0.0), (656, 0.005854629643814298), (657, 0.013779523903454076), (658, 0.022772224243043433), (659, 0.008038318006809209), (660, 0.008706029354492235), (661, 0.019647909464510557), (662, 0.0), (663, 0.0), (664, 0.020580584739874598), (665, 0.013414524058798566), (666, 0.020297422916223173), (667, 0.0), (668, 0.10563572314161081), (669, 0.011559491099353588), (670, 0.006758866760464884), (671, 0.04344763323752408), (672, 0.010048090948929951), (673, 0.006022250847560235), (674, 0.02622670967171692), (675, 0.009176650728563343), (676, 0.037905532562383125), (677, 0.005586951172456891), (678, 0.009455084789451913), (679, 0.0), (680, 0.008932168395488637), (681, 0.01645934997881737), (682, 0.0932408436095904), (683, 0.03304931108417031), (684, 0.021854493796592246), (685, 0.022813069695985205), (686, 0.008450778500196007), (687, 0.027653408265756414), (688, 0.0061617503268369634), (689, 0.015164089591298432), (690, 0.010415110057684685), (691, 0.014193631994270131), (692, 0.025833871109394755), (693, 0.0), (694, 0.0), (695, 0.0), (696, 0.0), (697, 0.006965448733419736), (698, 0.0), (699, 0.01588704675758732), (700, 0.02713495169859508), (701, 0.005779515135610605), (702, 0.0), (703, 0.06026280789767224), (704, 0.005467190682898615), (705, 0.006124603934895683), (706, 0.03604504985233577), (707, 0.0), (708, 0.0), (709, 0.0), (710, 0.014531063575953681), (711, 0.0), (712, 0.009374765163559817), (713, 0.022768025846523092), (714, 0.013296905202253623), (715, 0.03533167955697475), (716, 0.014611475972695461), (717, 0.005402572515640419), (718, 0.010838390325201498), (719, 0.02339973687816433), (720, 0.020396432617016118), (721, 0.012641759472878676), (722, 0.004649217069868562), (723, 0.01795295890368738), (724, 0.007555422136587259), (725, 0.037322138297777405), (726, 0.02588898499913094), (727, 0.015605279702094303), (728, 0.005971573649633118), (729, 0.006125272809884931), (730, 0.0), (731, 0.027944357672420424), (732, 0.013352925709861505), (733, 0.016462423016296586), (734, 0.006457831966073681), (735, 0.0), (736, 0.017945740949881897), (737, 0.013110154257058405), (738, 0.008825990218796015), (739, 0.0), (740, 0.005925735817602515), (741, 0.0), (742, 0.03432531290661453), (743, 0.0), (744, 0.0046998023839591166), (745, 0.006939177182147384), (746, 0.0), (747, 0.005583351258059769), (748, 0.027220437277926293), (749, 0.01592518405822487), (750, 0.0), (751, 0.03639369692805419), (752, 0.03151595851451697), (753, 0.0063919051282294035), (754, 0.0), (755, 0.0), (756, 0.032491460252511484), (757, 0.02355218079570421), (758, 0.006802673880393972), (759, 0.00828242231530947), (760, 0.0), (761, 0.0), (762, 0.020979326640657908), (763, 0.021359003469618467), (764, 0.015123065165096539), (765, 0.0), (766, 0.006337493044318873), (767, 0.0), (768, 0.023709556789230184), (769, 0.005137350951311186), (770, 0.008444076152802498), (771, 0.0), (772, 0.0), (773, 0.004955933892777779), (774, 0.009127716635536314), (775, 0.024921927093798285), (776, 0.010057344940228152), (777, 0.0), (778, 0.007186494168893717), (779, 0.028281338198455235), (780, 0.026564162150726177), (781, 0.005400898055644169), (782, 0.007162291904734947), (783, 0.0), (784, 0.0), (785, 0.023756112508698694), (786, 0.0), (787, 0.010828043865674465), (788, 0.01749860676574435), (789, 0.008343009446184437), (790, 0.004960258820790189), (791, 0.009666382218647808), (792, 0.005456317365981743), (793, 0.013586323574103956), (794, 0.014066187528526519), (795, 0.006534376881513466), (796, 0.0), (797, 0.0), (798, 0.009848145244556973), (799, 0.0), (800, 0.011146415218035083), (801, 0.0), (802, 0.009320522026134318), (803, 0.01877311675652857), (804, 0.00513158434723355), (805, 0.007828333103082013), (806, 0.0), (807, 0.014352742495803147), (808, 0.012162569732043552), (809, 0.021647288397045546), (810, 0.004711764984712979), (811, 0.022394914788540173), (812, 0.006574013191708125), (813, 0.011885523261122358), (814, 0.013859368454131535), (815, 0.02435567626091806), (816, 0.0), (817, 0.007021437529660409), (818, 0.00829570283338818), (819, 0.013056001995735223), (820, 0.012510959778393558), (821, 0.025148067837946663), (822, 0.02319263574344942), (823, 0.0), (824, 0.006041843065257332), (825, 0.01657470842281563), (826, 0.014160334413619075), (827, 0.0053398505219969935), (828, 0.0), (829, 0.027505335599816202), (830, 0.011280523774041236), (831, 0.0), (832, 0.010867137990984163), (833, 0.0066009314235048995), (834, 0.006803440379862459), (835, 0.0065483038603467835), (836, 0.011225224396462861), (837, 0.0), (838, 0.006662699675584635), (839, 0.0), (840, 0.015094347490079952), (841, 0.009190097493455191), (842, 0.06304137893163383), (843, 0.005743020784696427), (844, 0.0072291256008716305), (845, 0.005785938232370618), (846, 0.01877694830297763), (847, 0.013516347423632979), (848, 0.015112811619037088), (849, 0.02700537834295722), (850, 0.006875524980781494), (851, 0.016598987460211122), (852, 0.02233679517211358), (853, 0.019871721493913114), (854, 0.010469371530964378), (855, 0.0), (856, 0.05079222381308415), (857, 0.0), (858, 0.009585139514360954), (859, 0.020927189391636104), (860, 0.0), (861, 0.027969295353580326), (862, 0.027590629459156517), (863, 0.009901875568085104), (864, 0.017683251160126277), (865, 0.0), (866, 0.010261337261934242), (867, 0.013804266154709185), (868, 0.013414202723162322), (869, 0.005671383306880127), (870, 0.011730405565971925), (871, 0.01667252839266652), (872, 0.013987875716803138), (873, 0.0), (874, 0.015707097083022144), (875, 0.014010643872014946), (876, 0.0), (877, 0.0), (878, 0.02895621669937259), (879, 0.0), (880, 0.012252615491966448), (881, 0.012125802229338213), (882, 0.011687359760686904), (883, 0.013338852435375971), (884, 0.009018920924567535), (885, 0.00467429030568896), (886, 0.0), (887, 0.013895096565288593), (888, 0.0), (889, 0.0), (890, 0.005430861972868785), (891, 0.020505109743566882), (892, 0.0), (893, 0.007963594898606874), (894, 0.005126483928203547), (895, 0.02231266566623217), (896, 0.0), (897, 0.020921273119601347), (898, 0.012318680511429172), (899, 0.01749919863819806), (900, 0.006456032196299717), (901, 0.0), (902, 0.00569102964252627), (903, 0.008052770346357256), (904, 0.09657522958442546), (905, 0.09602345362119365), (906, 0.027570755088895595), (907, 0.004887433909023373), (908, 0.03932444212343189), (909, 0.018443892522800306), (910, 0.0), (911, 0.022092710552702954), (912, 0.020906680908612356), (913, 0.01133604824084146), (914, 0.013337620996834906), (915, 0.01741304198898775), (916, 0.006371702084756292), (917, 0.0), (918, 0.019003091201978337), (919, 0.020121255242176186), (920, 0.007003384773289136), (921, 0.014567325608032682), (922, 0.0), (923, 0.01965483715235618), (924, 0.010264294776596836), (925, 0.0), (926, 0.006000584792142443), (927, 0.0), (928, 0.022198037122994153), (929, 0.008308559370873879), (930, 0.005417341437303253), (931, 0.005280263986625704), (932, 0.0), (933, 0.0), (934, 0.032318722410511015), (935, 0.022266738304335017), (936, 0.013081658561927941), (937, 0.0), (938, 0.01361727271319926), (939, 0.0), (940, 0.004856957733320379), (941, 0.0), (942, 0.0), (943, 0.011681908196176902), (944, 0.0), (945, 0.08173322247693088), (946, 0.013433996136333521), (947, 0.008091744207689116), (948, 0.013325292370387872), (949, 0.02063894861579512), (950, 0.0), (951, 0.018439606741909368), (952, 0.02172313065864404), (953, 0.010260536387670069), (954, 0.012637641533294828), (955, 0.0), (956, 0.014075343511358055), (957, 0.03648427297407968), (958, 0.006523708694214768), (959, 0.0), (960, 0.06714700950232448), (961, 0.01365871482460694), (962, 0.01669498525820016), (963, 0.02459432281639956), (964, 0.0), (965, 0.01359586113787183), (966, 0.064807506112904), (967, 0.0), (968, 0.012601957505999987), (969, 0.0), (970, 0.006123115970658645), (971, 0.005256017919271582), (972, 0.0), (973, 0.018468068577997945), (974, 0.010189728466156723), (975, 0.012864915157865846), (976, 0.0), (977, 0.022612536121960708), (978, 0.004643749332641288), (979, 0.006120012250577462), (980, 0.00872453371658429), (981, 0.022163101447495007), (982, 0.0055347361984586715), (983, 0.0), (984, 0.01824349555810465), (985, 0.0), (986, 0.006006023897541842), (987, 0.0), (988, 0.013348854018143657), (989, 0.0), (990, 0.013993881414734982), (991, 0.0), (992, 0.01760389593726832), (993, 0.005165170313882253), (994, 0.02334176116953946), (995, 0.009887207377394234), (996, 0.007792360621207296), (997, 0.01290489994991876), (998, 0.0), (999, 0.0), (1000, 0.009902954036438165), (1001, 0.022457078758811394), (1002, 0.020255237564795414), (1003, 0.0), (1004, 0.0), (1005, 0.018160535942645547), (1006, 0.012551411209688172), (1007, 0.02264065412442952), (1008, 0.0), (1009, 0.006461952477985199), (1010, 0.00473567074522647), (1011, 0.02015973886391296), (1012, 0.01980146177430805), (1013, 0.007941553214278993), (1014, 0.014336994023472601), (1015, 0.013017793787653737), (1016, 0.006777467684751372), (1017, 0.03198188320325692), (1018, 0.010477078416058673), (1019, 0.007008069361086215), (1020, 0.0069487414205431685), (1021, 0.006724157149712948), (1022, 0.021119231250027615), (1023, 0.014105393509293308), (1024, 0.005881111089894549), (1025, 0.004735608008840823), (1026, 0.0), (1027, 0.0), (1028, 0.013540756675671204), (1029, 0.009654329094685946), (1030, 0.008262639858417384), (1031, 0.014844368228397974), (1032, 0.0), (1033, 0.029032323813335877), (1034, 0.0), (1035, 0.0051416943360409065), (1036, 0.0), (1037, 0.0058623447755505095), (1038, 0.0), (1039, 0.009114674449519432), (1040, 0.0), (1041, 0.017695737556162536), (1042, 0.007326557314407125), (1043, 0.020868933783592267), (1044, 0.013841246125218188), (1045, 0.013519513416041962), (1046, 0.020382690585817133), (1047, 0.008692130208800473), (1048, 0.012351944837303225), (1049, 0.0), (1050, 0.014355142781552437), (1051, 0.024257048223405853), (1052, 0.004793959023710324), (1053, 0.0), (1054, 0.009969808154067082), (1055, 0.01171635789209217), (1056, 0.014605617603342972), (1057, 0.01129984291644988), (1058, 0.0), (1059, 0.005069556004853712), (1060, 0.01819024279065384), (1061, 0.0), (1062, 0.0), (1063, 0.005454156313234449), (1064, 0.0), (1065, 0.005256657746550608), (1066, 0.010178796414012578), (1067, 0.014935359191209176), (1068, 0.024634510301916775), (1069, 0.053230361947692185), (1070, 0.0), (1071, 0.016175212839999276), (1072, 0.0), (1073, 0.0), (1074, 0.012295512370893345), (1075, 0.00692080498499682), (1076, 0.005249784229606797), (1077, 0.012194980779587248), (1078, 0.0), (1079, 0.00700353899803435), (1080, 0.0), (1081, 0.0), (1082, 0.0053770062331705785), (1083, 0.0), (1084, 0.02675406379662073), (1085, 0.0), (1086, 0.0), (1087, 0.024408316549598956), (1088, 0.0), (1089, 0.01168235616970882), (1090, 0.02538997238904088), (1091, 0.01562824931736296), (1092, 0.005122287528263869), (1093, 0.0), (1094, 0.007077245434593373), (1095, 0.010820833167788087), (1096, 0.012024992966605641), (1097, 0.0), (1098, 0.0), (1099, 0.021891186260938313), (1100, 0.0), (1101, 0.022146649839744032), (1102, 0.0), (1103, 0.0), (1104, 0.017107545485965447), (1105, 0.019213897308670014), (1106, 0.014485785934622642), (1107, 0.0), (1108, 0.013681769487740789), (1109, 0.020938759580329234), (1110, 0.0), (1111, 0.07044756937478117), (1112, 0.010647181634326083), (1113, 0.11911459986253045), (1114, 0.032281744830679304), (1115, 0.01135343267010697), (1116, 0.021426146112703194), (1117, 0.0), (1118, 0.04333225693615774), (1119, 0.0), (1120, 0.0044994979628632786), (1121, 0.0), (1122, 0.005809637591447173), (1123, 0.0), (1124, 0.01612364663105068), (1125, 0.01134418133405527), (1126, 0.0), (1127, 0.005686185759477141), (1128, 0.0068185075965860095), (1129, 0.03673411487944683), (1130, 0.004957967555912693), (1131, 0.02784003351385926), (1132, 0.004949914495621704), (1133, 0.0), (1134, 0.02901755713886181), (1135, 0.012661941700993082), (1136, 0.010766163042491082), (1137, 0.011534719371051255), (1138, 0.00557151211759132), (1139, 0.0), (1140, 0.005356856989453652), (1141, 0.013743653643412256), (1142, 0.01414130782495097), (1143, 0.0), (1144, 0.005575640981993314), (1145, 0.0), (1146, 0.012242133887523599), (1147, 0.0), (1148, 0.0), (1149, 0.0), (1150, 0.026886946981538352), (1151, 0.005585137377506174), (1152, 0.0), (1153, 0.004194223227669041), (1154, 0.005388407081841978), (1155, 0.005286547781604304), (1156, 0.0), (1157, 0.01738408364175518), (1158, 0.0), (1159, 0.011412078404289119), (1160, 0.0), (1161, 0.0), (1162, 0.021293154002851217), (1163, 0.01964528840454629), (1164, 0.01463714854072242), (1165, 0.0077813648925006045), (1166, 0.01382543718124139), (1167, 0.0), (1168, 0.015542265867261155), (1169, 0.0), (1170, 0.0), (1171, 0.016476705874648508), (1172, 0.020184309124911898), (1173, 0.02338533752122912), (1174, 0.006007039685651924), (1175, 0.03406754679725259), (1176, 0.0), (1177, 0.0), (1178, 0.004443472121370919), (1179, 0.027466572134341068), (1180, 0.0), (1181, 0.0), (1182, 0.007356979804495432), (1183, 0.005379490457013206), (1184, 0.021977111968362148), (1185, 0.022428856462678285), (1186, 0.007641879944670341), (1187, 0.0), (1188, 0.0), (1189, 0.0), (1190, 0.012418553863483495), (1191, 0.010327644216871186), (1192, 0.017477329406346248), (1193, 0.0), (1194, 0.017155748172988056), (1195, 0.044548721589423454), (1196, 0.012214913297415982), (1197, 0.038227888928779916), (1198, 0.0076980134651538435), (1199, 0.007680460945150944), (1200, 0.01002677838933962), (1201, 0.0), (1202, 0.0), (1203, 0.0), (1204, 0.0), (1205, 0.0), (1206, 0.020702435235987), (1207, 0.012706610579341318), (1208, 0.006309811679644205), (1209, 0.0), (1210, 0.025229694316765923), (1211, 0.013267781010145136), (1212, 0.015769704537518144), (1213, 0.0), (1214, 0.013579238523009317), (1215, 0.010437747216338798), (1216, 0.03346730816799762), (1217, 0.0), (1218, 0.019806750766444406), (1219, 0.01668215181752146), (1220, 0.016782730514060144), (1221, 0.004358401045886264), (1222, 0.011366452686261783), (1223, 0.018293448726210637), (1224, 0.018282894386153055), (1225, 0.01406925154849148), (1226, 0.012353330163644519), (1227, 0.011124841447458067), (1228, 0.0), (1229, 0.005920407227651251), (1230, 0.005429331997647376), (1231, 0.0), (1232, 0.013923109794310528), (1233, 0.0), (1234, 0.008930071084388985), (1235, 0.0), (1236, 0.00787956029165907), (1237, 0.0), (1238, 0.006832569735454172), (1239, 0.019034606550284234), (1240, 0.014847390113174229), (1241, 0.02116891126497674), (1242, 0.00692442335244505), (1243, 0.011907857658963772), (1244, 0.022363682845268986), (1245, 0.012382007662528335), (1246, 0.009371978610992204), (1247, 0.00838793528455297), (1248, 0.0), (1249, 0.033363572233267226), (1250, 0.020163376099512412), (1251, 0.0242577153166196), (1252, 0.005699925250137973), (1253, 0.018661111439731277), (1254, 0.05350842808896973), (1255, 0.029670885305743314), (1256, 0.02129654085157229), (1257, 0.024194564933699543), (1258, 0.035480973960720384), (1259, 0.022744822541657883), (1260, 0.0), (1261, 0.012256316862285994), (1262, 0.025924247200621312), (1263, 0.005483366499753822), (1264, 0.0), (1265, 0.021232847156907493), (1266, 0.040279288076257865), (1267, 0.011299014447525756), (1268, 0.0), (1269, 0.013294306924024956), (1270, 0.014689294316356311), (1271, 0.01993368388397141), (1272, 0.007431185247293495), (1273, 0.012091127448521324), (1274, 0.015873913998202795), (1275, 0.01209498451250179), (1276, 0.024760684948139274), (1277, 0.0), (1278, 0.03756775331384107), (1279, 0.010118217845232765), (1280, 0.014413106720791572), (1281, 0.005088499757437416), (1282, 0.005553240414672688), (1283, 0.01927050297451429), (1284, 0.008336260830201099), (1285, 0.005607920154152093), (1286, 0.0), (1287, 0.007575060117397061), (1288, 0.026758998979741152), (1289, 0.0), (1290, 0.0050195990477343265), (1291, 0.009678750587687204), (1292, 0.0), (1293, 0.0260626501787741), (1294, 0.0), (1295, 0.0), (1296, 0.05019558904195613), (1297, 0.0), (1298, 0.0), (1299, 0.01113210096019053), (1300, 0.007193395739444464), (1301, 0.03488814365780092), (1302, 0.012581778514056348), (1303, 0.0), (1304, 0.010186288707695772), (1305, 0.042513310921700125), (1306, 0.018994739970482157), (1307, 0.02363682442119669), (1308, 0.018297168219907685), (1309, 0.011386557716939829), (1310, 0.03691817900724739), (1311, 0.0), (1312, 0.018426333802204722), (1313, 0.0), (1314, 0.04068785369139414), (1315, 0.012883493755209667), (1316, 0.006321705484716074), (1317, 0.005812323070386578), (1318, 0.0), (1319, 0.01028994181468492), (1320, 0.004657707362175924), (1321, 0.06547543977398322), (1322, 0.005734451014049614), (1323, 0.0), (1324, 0.008002300496697479), (1325, 0.02417164338828862), (1326, 0.010934518221141293), (1327, 0.013687233570103308), (1328, 0.014106416091359188), (1329, 0.016834360841646013), (1330, 0.0), (1331, 0.04141780023922247), (1332, 0.042906614005504676), (1333, 0.09144305627132066), (1334, 0.0), (1335, 0.023260643509745157), (1336, 0.0), (1337, 0.005536339154605593), (1338, 0.027846155639079936), (1339, 0.011140245757244188), (1340, 0.0), (1341, 0.06994887957469295), (1342, 0.0), (1343, 0.006069454051398151), (1344, 0.0070731165271082945), (1345, 0.02094785636006237), (1346, 0.032614885366641574), (1347, 0.0), (1348, 0.005059637825289392), (1349, 0.0057019800276603885), (1350, 0.014087749401206728), (1351, 0.0263453533923343), (1352, 0.01637189483505773), (1353, 0.0), (1354, 0.021512866422073666), (1355, 0.0), (1356, 0.0), (1357, 0.005274188317077443), (1358, 0.007274044565920928), (1359, 0.0071925923451552), (1360, 0.004928475812838338), (1361, 0.0), (1362, 0.0), (1363, 0.012311683121078979), (1364, 0.009096981270068949), (1365, 0.03227530513505116), (1366, 0.011900937538357203), (1367, 0.0), (1368, 0.02947031673397848), (1369, 0.04754042491953371), (1370, 0.011035252051863365), (1371, 0.009344181894519485), (1372, 0.008038700108428455), (1373, 0.012638897627830608), (1374, 0.042590089763833994), (1375, 0.008048410941274495), (1376, 0.013503985897445503), (1377, 0.015179188797592865), (1378, 0.012637748001857034), (1379, 0.017415229267191128), (1380, 0.022727419264837415), (1381, 0.021234138123379025), (1382, 0.007255681872158159), (1383, 0.009717173391437862), (1384, 0.04431000862255042), (1385, 0.01915898852173015), (1386, 0.02010737974573141), (1387, 0.023762451787801196), (1388, 0.008048379146118776), (1389, 0.007905631135182325), (1390, 0.0055007684662967), (1391, 0.0), (1392, 0.01158656531903776), (1393, 0.005998020113455203), (1394, 0.004483134901708787), (1395, 0.00424022553591563), (1396, 0.025794572404772464), (1397, 0.006892953344952435), (1398, 0.015247007775434217), (1399, 0.026588130368796786), (1400, 0.0), (1401, 0.03345825255912596), (1402, 0.005320490337439135), (1403, 0.016024925641926695), (1404, 0.0049129376974592085), (1405, 0.011277288471796926), (1406, 0.005594942013279731), (1407, 0.007149808979988302), (1408, 0.023151940228712205), (1409, 0.009288974620645775), (1410, 0.0), (1411, 0.005241526258789991), (1412, 0.035077995770781495), (1413, 0.029288739958120123), (1414, 0.03071745127975686), (1415, 0.0), (1416, 0.0), (1417, 0.009876521042586097), (1418, 0.035249003753192364), (1419, 0.005701072828566941), (1420, 0.016987503909120225), (1421, 0.008397244427051469), (1422, 0.0), (1423, 0.009593890533464178), (1424, 0.0), (1425, 0.017153635773496084), (1426, 0.0), (1427, 0.0), (1428, 0.0), (1429, 0.0), (1430, 0.02573505986640872), (1431, 0.005040936752747707), (1432, 0.00601679458627749), (1433, 0.0), (1434, 0.0), (1435, 0.008750027818209008), (1436, 0.018709014599013946), (1437, 0.015355196895652744), (1438, 0.0), (1439, 0.0), (1440, 0.013327488877851273), (1441, 0.0), (1442, 0.010594630808384482), (1443, 0.025205816014418164), (1444, 0.0), (1445, 0.0), (1446, 0.011673274118477586), (1447, 0.005291688508088108), (1448, 0.0), (1449, 0.0), (1450, 0.009542759939448343), (1451, 0.004872863388588416), (1452, 0.01161180958256776), (1453, 0.026091409095373344), (1454, 0.005986002644534723), (1455, 0.005624315917384376), (1456, 0.004709313743692034), (1457, 0.0), (1458, 0.011733481074342043), (1459, 0.01799152408196545), (1460, 0.014992042473681522), (1461, 0.012228901088227627), (1462, 0.0), (1463, 0.009053439467565084), (1464, 0.008859247682739548), (1465, 0.036090082775976966), (1466, 0.02506459115012839), (1467, 0.03976015307392011), (1468, 0.0288630775258945), (1469, 0.005742636017850271), (1470, 0.007990827773801508), (1471, 0.024905357050403698), (1472, 0.023650202524433166), (1473, 0.0), (1474, 0.017723730221797445), (1475, 0.015001148350961415), (1476, 0.01075455649153461), (1477, 0.0110160414952236), (1478, 0.04413845770255415), (1479, 0.0), (1480, 0.009862007318436146), (1481, 0.0), (1482, 0.004785022156886572), (1483, 0.01396680875466923), (1484, 0.005781547995949438), (1485, 0.0), (1486, 0.013749950154929826), (1487, 0.012836730298777143), (1488, 0.0), (1489, 0.0), (1490, 0.00737648880632502), (1491, 0.0), (1492, 0.006002774199648356), (1493, 0.0179738567664427), (1494, 0.01746967527519447), (1495, 0.07970756066889219), (1496, 0.010401644690898913), (1497, 0.0), (1498, 0.009959840317873924), (1499, 0.0), (1500, 0.016868111657929064), (1501, 0.029318052414522927), (1502, 0.01457447942655153), (1503, 0.012613028148380452), (1504, 0.005755189201342287), (1505, 0.007111197717202053), (1506, 0.015334974761415626), (1507, 0.0), (1508, 0.0), (1509, 0.008420759328604657), (1510, 0.0360126872316025), (1511, 0.04022012808339881), (1512, 0.005704171758466308), (1513, 0.006054862799198647), (1514, 0.013656813600790914), (1515, 0.03764676165313939), (1516, 0.005914538296752313), (1517, 0.010418394118927147), (1518, 0.00923798185155206), (1519, 0.014776932754344756), (1520, 0.00554984207481733), (1521, 0.01173470686411263), (1522, 0.023756331298233357), (1523, 0.0), (1524, 0.00452672416069051), (1525, 0.0052385248629792), (1526, 0.025453701383047388), (1527, 0.005536317361030233), (1528, 0.0), (1529, 0.018718168343932737), (1530, 0.009133702110106303), (1531, 0.0), (1532, 0.0), (1533, 0.012833335384607389), (1534, 0.008793356063651336), (1535, 0.016390496965855945), (1536, 0.00566615588718371), (1537, 0.011569350504150006), (1538, 0.006339983752745827), (1539, 0.022346521444700913), (1540, 0.09644292925478026), (1541, 0.0), (1542, 0.0), (1543, 0.0), (1544, 0.01585196904781104), (1545, 0.0054114015353989445), (1546, 0.009676188851039297), (1547, 0.015455524774530657), (1548, 0.006460226062818281), (1549, 0.0), (1550, 0.0), (1551, 0.012062769705664523), (1552, 0.012170436461343113), (1553, 0.015077209221068612), (1554, 0.023622352246815605), (1555, 0.004790125017477461), (1556, 0.01034613186224013), (1557, 0.0), (1558, 0.0), (1559, 0.016218925926828234), (1560, 0.006397513186164932), (1561, 0.0), (1562, 0.012776079225331364), (1563, 0.0), (1564, 0.011413085423588003), (1565, 0.011562108466460224), (1566, 0.007431872813474687), (1567, 0.018250496169103462), (1568, 0.004744227567845215), (1569, 0.03286807919712239), (1570, 0.014184765425607981), (1571, 0.013729335786376355), (1572, 0.02109983419481716), (1573, 0.0), (1574, 0.0), (1575, 0.04212338052830189), (1576, 0.004658734267314221), (1577, 0.027810449115748648), (1578, 0.06697412884050319), (1579, 0.02661409395552258), (1580, 0.0), (1581, 0.006477546021163635), (1582, 0.0), (1583, 0.007478010642216238), (1584, 0.014190317819941674), (1585, 0.0), (1586, 0.016934177447974638), (1587, 0.01926932768466919), (1588, 0.02504179570967967), (1589, 0.0), (1590, 0.0), (1591, 0.018510214789845353), (1592, 0.02312761335268493), (1593, 0.0), (1594, 0.01114381619471881), (1595, 0.0), (1596, 0.0), (1597, 0.02374382273195079), (1598, 0.007399163993151822), (1599, 0.005801731311745868), (1600, 0.029158587756375774), (1601, 0.02282344066470706), (1602, 0.01094196957828771), (1603, 0.021113360824489398), (1604, 0.013053027229852066), (1605, 0.0), (1606, 0.009887537308452096), (1607, 0.007243102017733391), (1608, 0.017784253005774246), (1609, 0.0), (1610, 0.012302998684756228), (1611, 0.07786369627458209), (1612, 0.006841102594339249), (1613, 0.018422689255443644), (1614, 0.0), (1615, 0.014669533686601812), (1616, 0.022404523875694478), (1617, 0.013284555286420042), (1618, 0.0), (1619, 0.012505861441931256), (1620, 0.005101520077737701), (1621, 0.0), (1622, 0.0), (1623, 0.0), (1624, 0.0), (1625, 0.0), (1626, 0.016919002970074804), (1627, 0.01669769372862305), (1628, 0.0), (1629, 0.015516489940401352), (1630, 0.019890787986540502), (1631, 0.008068177892265336), (1632, 0.0), (1633, 0.012401902660979658), (1634, 0.0), (1635, 0.0), (1636, 0.0), (1637, 0.02283707696026254), (1638, 0.0), (1639, 0.0), (1640, 0.014361885914421032), (1641, 0.0), (1642, 0.0048896693305113675), (1643, 0.0), (1644, 0.006870665151398688), (1645, 0.01888007656443957), (1646, 0.0), (1647, 0.006327724222598337), (1648, 0.00795336976221772), (1649, 0.03433851187492421), (1650, 0.02958647580830822), (1651, 0.01024047391897447), (1652, 0.0), (1653, 0.014159457078765907), (1654, 0.013141090356360673), (1655, 0.008556557913344445), (1656, 0.0), (1657, 0.015944355158748154), (1658, 0.008034010235775805), (1659, 0.015136741857597686), (1660, 0.005360901369593691), (1661, 0.0), (1662, 0.011255379328392965), (1663, 0.0), (1664, 0.02552506833229131), (1665, 0.005404937660539728), (1666, 0.02336154974339976), (1667, 0.0), (1668, 0.009882605851788163), (1669, 0.010371895689629117), (1670, 0.01179136924594935), (1671, 0.0), (1672, 0.01239224193806936), (1673, 0.0), (1674, 0.0), (1675, 0.03420528411774581), (1676, 0.0), (1677, 0.0), (1678, 0.028581108838551424), (1679, 0.005520592820898813), (1680, 0.013247110140816892), (1681, 0.15839055576567246), (1682, 0.017746702717163693), (1683, 0.013375094895713431), (1684, 0.006230021840775231), (1685, 0.007424693077340344), (1686, 0.0), (1687, 0.006075308247095586), (1688, 0.012425632731766008), (1689, 0.005264150372426563), (1690, 0.006234030497264575), (1691, 0.004341648586887378), (1692, 0.0250794074066697), (1693, 0.0), (1694, 0.0), (1695, 0.020394401474910617), (1696, 0.025635594734428883), (1697, 0.026714510260135445), (1698, 0.04511974098400141), (1699, 0.0), (1700, 0.06337352809086627), (1701, 0.04893096728857825), (1702, 0.0056403042381475655), (1703, 0.0), (1704, 0.005563198925358676), (1705, 0.014349831770554839), (1706, 0.007494951831436114), (1707, 0.0379993681932491), (1708, 0.014384138214760861), (1709, 0.026397688858851097), (1710, 0.006723471950426438), (1711, 0.0), (1712, 0.007642287475128595), (1713, 0.07014440226907401), (1714, 0.017971544438498317), (1715, 0.006272887154539764), (1716, 0.009399431671077816), (1717, 0.0), (1718, 0.012864538977296633), (1719, 0.027892888833805033), (1720, 0.0), (1721, 0.029586767218349963), (1722, 0.0), (1723, 0.006475736774772837), (1724, 0.00954808409006962), (1725, 0.021437488129449466), (1726, 0.018080843017623888), (1727, 0.005971314772671477), (1728, 0.027299182121769763), (1729, 0.0), (1730, 0.006869617178792842), (1731, 0.008055664840479612), (1732, 0.08805856994568259), (1733, 0.005682187935892902), (1734, 0.02015872467210468), (1735, 0.07440169635285748), (1736, 0.13631193771885686), (1737, 0.007285779905426081), (1738, 0.02311543778283919), (1739, 0.0), (1740, 0.005673415257222849), (1741, 0.0), (1742, 0.013250790975825285), (1743, 0.02171078710834066), (1744, 0.0), (1745, 0.011681859946897933), (1746, 0.011292875836214168), (1747, 0.00545449754542887), (1748, 0.0), (1749, 0.005502455335006875), (1750, 0.012404673170280895), (1751, 0.00526834438895685), (1752, 0.0), (1753, 0.0), (1754, 0.01187533849257097), (1755, 0.07404147852504542), (1756, 0.015168428661247652), (1757, 0.0), (1758, 0.014426221129073213), (1759, 0.0), (1760, 0.07282550637775068), (1761, 0.007061148590845478), (1762, 0.010847627696842246), (1763, 0.0), (1764, 0.022559307061519183), (1765, 0.0), (1766, 0.0), (1767, 0.0), (1768, 0.005158207392857809), (1769, 0.0), (1770, 0.007718187799609094), (1771, 0.01330599142091282), (1772, 0.016449631399096973), (1773, 0.006924972188423882), (1774, 0.015825936480660007), (1775, 0.0), (1776, 0.0), (1777, 0.0), (1778, 0.004912930768942738), (1779, 0.021084549974996314), (1780, 0.0), (1781, 0.013408234053427736), (1782, 0.0132398436206103), (1783, 0.0), (1784, 0.06375051166335245), (1785, 0.0), (1786, 0.00949981802057059), (1787, 0.022479638873405566), (1788, 0.09728183022405462), (1789, 0.05158079142140056), (1790, 0.008229578524702219), (1791, 0.09479514992945542), (1792, 0.0), (1793, 0.011542937592758085), (1794, 0.005085695862354588), (1795, 0.0), (1796, 0.013572240996802655), (1797, 0.022573344223125808), (1798, 0.04524398317800535), (1799, 0.16029690904096583), (1800, 0.0), (1801, 0.0), (1802, 0.027821332310888257), (1803, 0.0), (1804, 0.008452100732129653), (1805, 0.009292871308085673), (1806, 0.0), (1807, 0.006778346786564627), (1808, 0.00472404611476313), (1809, 0.018190185649765524), (1810, 0.02948833697757962), (1811, 0.013218678678173463), (1812, 0.027444213924142112), (1813, 0.0690799487952031), (1814, 0.010033042740722834), (1815, 0.01632281729159928), (1816, 0.0046467064638109614), (1817, 0.0047318953750867575), (1818, 0.029367060059447624), (1819, 0.0), (1820, 0.0), (1821, 0.06872414524219397), (1822, 0.006159698579401876), (1823, 0.00987110159252801), (1824, 0.004850332038063924), (1825, 0.04117750887804275), (1826, 0.0), (1827, 0.007859106412600911), (1828, 0.028117360848657215), (1829, 0.009371114534584338), (1830, 0.0), (1831, 0.008624012701136158), (1832, 0.0), (1833, 0.026239231234775093), (1834, 0.0), (1835, 0.009191782119865146), (1836, 0.014288168889624865), (1837, 0.0), (1838, 0.0), (1839, 0.0), (1840, 0.02576113045485752), (1841, 0.0407834462720464), (1842, 0.0), (1843, 0.015691146433440138), (1844, 0.06433150214772353), (1845, 0.030571652643704525), (1846, 0.013003976213267706), (1847, 0.005757572481047032), (1848, 0.011860320858260255), (1849, 0.006776924888336076), (1850, 0.020689292331369666), (1851, 0.00550158211279258), (1852, 0.006798456524325446), (1853, 0.00592587861504143), (1854, 0.0), (1855, 0.019327081188342435), (1856, 0.0), (1857, 0.005108761856896422), (1858, 0.017212461490980685), (1859, 0.0), (1860, 0.01564398239520838), (1861, 0.0), (1862, 0.0), (1863, 0.005975832305390163), (1864, 0.014760574480330177), (1865, 0.0), (1866, 0.0), (1867, 0.006793745336836676), (1868, 0.0), (1869, 0.0), (1870, 0.01750533191044605), (1871, 0.013709660287602836), (1872, 0.0), (1873, 0.006922365454163856), (1874, 0.0), (1875, 0.006298628870240107), (1876, 0.013186242267493454), (1877, 0.0), (1878, 0.038101910624434646), (1879, 0.0), (1880, 0.0), (1881, 0.02204752460918971), (1882, 0.0), (1883, 0.014851216461219764), (1884, 0.0), (1885, 0.0), (1886, 0.010854742886032616), (1887, 0.005821688431999944), (1888, 0.005071785699187108), (1889, 0.007789506400971616), (1890, 0.0), (1891, 0.0), (1892, 0.0), (1893, 0.005521428437783775), (1894, 0.006131957088486366), (1895, 0.017220184716566285), (1896, 0.01169947787175143), (1897, 0.007495245322924157), (1898, 0.012560695202764056), (1899, 0.0), (1900, 0.0), (1901, 0.013738943429840377), (1902, 0.008917295468189505), (1903, 0.035012930363601126), (1904, 0.014406530528259963), (1905, 0.0), (1906, 0.010632136094970407), (1907, 0.005556847106687903), (1908, 0.041938673617610535), (1909, 0.0), (1910, 0.004473670537968422), (1911, 0.014953866580886833), (1912, 0.0), (1913, 0.01902632792861075), (1914, 0.017239126965330535), (1915, 0.010328807369137964), (1916, 0.0), (1917, 0.0), (1918, 0.009047574109867621), (1919, 0.01073033907865482), (1920, 0.0062188528155517914), (1921, 0.010470965293307542), (1922, 0.0), (1923, 0.0), (1924, 0.009514854812355691), (1925, 0.013327367441743534), (1926, 0.022003132952940166), (1927, 0.0), (1928, 0.009426471929883882), (1929, 0.0), (1930, 0.011265482441184154), (1931, 0.02746696674910689), (1932, 0.008070016185021085), (1933, 0.0), (1934, 0.037079481656541846), (1935, 0.021224945922314185), (1936, 0.020310054062974214), (1937, 0.005555715169982565), (1938, 0.0), (1939, 0.017170651930884087), (1940, 0.0), (1941, 0.006505238653054451), (1942, 0.007102514872613581), (1943, 0.010949108616648835), (1944, 0.0), (1945, 0.032200400133490445), (1946, 0.0), (1947, 0.0), (1948, 0.10684184462847705), (1949, 0.014756058167931331), (1950, 0.010098332577364366), (1951, 0.012776732286588047), (1952, 0.005631557522473066), (1953, 0.0105508679084096), (1954, 0.0), (1955, 0.033351747127782), (1956, 0.0), (1957, 0.020343901608009016), (1958, 0.0), (1959, 0.0), (1960, 0.0), (1961, 0.0701714172744294), (1962, 0.0), (1963, 0.0), (1964, 0.021563235858243386), (1965, 0.007780212178364542), (1966, 0.0), (1967, 0.017388687539306776), (1968, 0.02627213269530331), (1969, 0.02952895725613547), (1970, 0.0), (1971, 0.00961800302977446), (1972, 0.0), (1973, 0.010233726706269038), (1974, 0.020575083538877683), (1975, 0.0), (1976, 0.0061155187167681625), (1977, 0.005033624669349081), (1978, 0.0), (1979, 0.0), (1980, 0.0), (1981, 0.013424415425965047), (1982, 0.02819516117174392), (1983, 0.0), (1984, 0.005062912546353716), (1985, 0.03765784591816329), (1986, 0.01541302692159597), (1987, 0.016676281852191138), (1988, 0.01812627507816053), (1989, 0.006163318118527076), (1990, 0.004710319242085607), (1991, 0.0), (1992, 0.012843760971251846), (1993, 0.013658592508270555), (1994, 0.02485341452203748), (1995, 0.0), (1996, 0.007883588245734941), (1997, 0.02435716871230498), (1998, 0.01291546543481122), (1999, 0.008438419805465825), (2000, 0.07479061128053564), (2001, 0.0), (2002, 0.0), (2003, 0.005227104807247767), (2004, 0.0), (2005, 0.02226187293435896), (2006, 0.006535723394428673), (2007, 0.0), (2008, 0.006834137779111122), (2009, 0.0), (2010, 0.010922167263507875), (2011, 0.006227297517431335), (2012, 0.012035996413802715), (2013, 0.027111284839806255), (2014, 0.031127719002990842), (2015, 0.01398312734932369), (2016, 0.03401996173748347), (2017, 0.00517446822373666), (2018, 0.010721810044175608), (2019, 0.007495233328810107), (2020, 0.03525831107963381), (2021, 0.006164940304478477), (2022, 0.02533925970146715), (2023, 0.008110797605204792), (2024, 0.016261360668847535), (2025, 0.05418964604788622), (2026, 0.0), (2027, 0.018751039630337467), (2028, 0.0), (2029, 0.00498101093640612), (2030, 0.0), (2031, 0.019297599248083684), (2032, 0.005862733737275969), (2033, 0.005021720068558793), (2034, 0.006460509545854796), (2035, 0.0), (2036, 0.009970963701294843), (2037, 0.01987649093948193), (2038, 0.03027040599189313), (2039, 0.014344042679318388), (2040, 0.01351420572828932), (2041, 0.0), (2042, 0.0), (2043, 0.014167430742153942), (2044, 0.017460605307735907), (2045, 0.02516259782013473), (2046, 0.008820942629584806), (2047, 0.011865770144333983), (2048, 0.008018224697876877), (2049, 0.007761354841676115), (2050, 0.020392180859931865), (2051, 0.007949139923634383), (2052, 0.019111490379236554), (2053, 0.011458436624648656), (2054, 0.0), (2055, 0.11515681364261869), (2056, 0.011774620893255329), (2057, 0.0), (2058, 0.016032400052754553), (2059, 0.0), (2060, 0.026894140899698257), (2061, 0.010704406966785263), (2062, 0.028264793334871495), (2063, 0.0), (2064, 0.013060387943764911), (2065, 0.020814392262751003), (2066, 0.014657290761198044), (2067, 0.023110390009082778), (2068, 0.010488891131003533), (2069, 0.0), (2070, 0.044199364284556446), (2071, 0.01579724613709088), (2072, 0.014207600554554282), (2073, 0.012784777132020612), (2074, 0.034344586903561534), (2075, 0.016832959080858422), (2076, 0.0), (2077, 0.006753022907980239), (2078, 0.004558475312377642), (2079, 0.005784538867356246), (2080, 0.0), (2081, 0.005849740120339045), (2082, 0.0063282509758799494), (2083, 0.00588271109313609), (2084, 0.011663496424912406), (2085, 0.0059963237669612484), (2086, 0.013537009368623327), (2087, 0.006844566825381224), (2088, 0.0059827606352418385), (2089, 0.0), (2090, 0.0), (2091, 0.005868749314094171), (2092, 0.0), (2093, 0.020520707949710768), (2094, 0.02854207543530411), (2095, 0.029513738461262942), (2096, 0.01653608716993496), (2097, 0.030657814770671407), (2098, 0.006011880971200097), (2099, 0.0), (2100, 0.024154688209444834), (2101, 0.0075949049802148325), (2102, 0.03911847681585955), (2103, 0.019619578377083932), (2104, 0.0), (2105, 0.0), (2106, 0.008884729193055977), (2107, 0.044618918381294344), (2108, 0.0), (2109, 0.02554803597371062), (2110, 0.024665332461333747), (2111, 0.0), (2112, 0.01295748162989344), (2113, 0.09966386363989405), (2114, 0.042114832396941394), (2115, 0.0), (2116, 0.00759966034493572), (2117, 0.01268119622118443), (2118, 0.020664804129429924), (2119, 0.014427956412181907), (2120, 0.0), (2121, 0.017479130421037346), (2122, 0.0), (2123, 0.0), (2124, 0.00581788382070141), (2125, 0.013462892831145074), (2126, 0.005429443966852977), (2127, 0.0064472191097216785), (2128, 0.0050425281696955876), (2129, 0.0), (2130, 0.0), (2131, 0.0050274362110036734), (2132, 0.0), (2133, 0.0), (2134, 0.012538662653914788), (2135, 0.008102291773009487), (2136, 0.03909334653026683), (2137, 0.0), (2138, 0.0), (2139, 0.012485600696406618), (2140, 0.0), (2141, 0.0), (2142, 0.0), (2143, 0.006492011413522026), (2144, 0.007011311833595171), (2145, 0.017362023630558356), (2146, 0.0), (2147, 0.005469114483427333), (2148, 0.011187182818509807), (2149, 0.0), (2150, 0.012602896427922863), (2151, 0.0), (2152, 0.0), (2153, 0.013024022133869183), (2154, 0.008341034232961541), (2155, 0.006965171133430103), (2156, 0.010684775373512763), (2157, 0.007340616639698109), (2158, 0.0), (2159, 0.0), (2160, 0.01692492201759151), (2161, 0.009226316323621845), (2162, 0.0), (2163, 0.0), (2164, 0.015095105644794844), (2165, 0.0), (2166, 0.005404990573479529), (2167, 0.01348581740012915), (2168, 0.01730682793499537), (2169, 0.005179837878994747), (2170, 0.01183344684905517), (2171, 0.0), (2172, 0.0), (2173, 0.0), (2174, 0.0067689936585734215), (2175, 0.016244646485346816), (2176, 0.0), (2177, 0.04376914224062376), (2178, 0.02123923795576922), (2179, 0.0), (2180, 0.01225976705083783), (2181, 0.011844148684197094), (2182, 0.0), (2183, 0.007087689424146879), (2184, 0.005447336655567569), (2185, 0.01818729247246477), (2186, 0.0), (2187, 0.0), (2188, 0.006630307394136267), (2189, 0.0), (2190, 0.0), (2191, 0.0), (2192, 0.0), (2193, 0.012156642361849743), (2194, 0.0), (2195, 0.013413155762914755), (2196, 0.0), (2197, 0.010705082636983155), (2198, 0.02740010311119939), (2199, 0.0), (2200, 0.0), (2201, 0.0), (2202, 0.0067079589729239645), (2203, 0.006325693298834921), (2204, 0.004429695976897238), (2205, 0.019653662443222693), (2206, 0.00546871149714739), (2207, 0.00827994392110609), (2208, 0.013832570311858956), (2209, 0.0077275543259546844), (2210, 0.005521146197903186), (2211, 0.035868004167819836), (2212, 0.0056588133095452995), (2213, 0.0), (2214, 0.0), (2215, 0.010126442192013465), (2216, 0.0), (2217, 0.0057580687558379555), (2218, 0.0055592686922103125), (2219, 0.0), (2220, 0.0), (2221, 0.020056848193188564), (2222, 0.030874972393871814), (2223, 0.0), (2224, 0.014836791395359825), (2225, 0.0), (2226, 0.0), (2227, 0.004997832183772615), (2228, 0.0), (2229, 0.009870373752962692), (2230, 0.009003120411952621), (2231, 0.0), (2232, 0.005500242911181988), (2233, 0.005909329007678877), (2234, 0.01361251787920464), (2235, 0.0), (2236, 0.028285457951978208), (2237, 0.03002650353601792), (2238, 0.0), (2239, 0.036054422295532254), (2240, 0.0076820358896464635), (2241, 0.02362199357852922), (2242, 0.02209979639487945), (2243, 0.006148959880083571), (2244, 0.007419118232241568), (2245, 0.028247735028029547), (2246, 0.014020887201008546), (2247, 0.0), (2248, 0.0), (2249, 0.007835427887619326), (2250, 0.026813150279146106), (2251, 0.0), (2252, 0.011220543459392097), (2253, 0.013230531367582527), (2254, 0.0), (2255, 0.0), (2256, 0.0), (2257, 0.0), (2258, 0.0), (2259, 0.031006156676565932), (2260, 0.04016144150942281), (2261, 0.0), (2262, 0.00468302192421896), (2263, 0.0055599179802481935), (2264, 0.0), (2265, 0.018081209250503844), (2266, 0.0), (2267, 0.0), (2268, 0.005196903702010873), (2269, 0.01460904286175246), (2270, 0.0), (2271, 0.0), (2272, 0.010094827387772719), (2273, 0.0), (2274, 0.005070063462368113), (2275, 0.007534727171849641), (2276, 0.012473577567258257), (2277, 0.035392750907081126), (2278, 0.005281676917517381), (2279, 0.0), (2280, 0.008421694751021567), (2281, 0.0), (2282, 0.0), (2283, 0.029945116572515713), (2284, 0.0), (2285, 0.029132878036613064), (2286, 0.01572949766183588), (2287, 0.05650035819484206), (2288, 0.0), (2289, 0.0), (2290, 0.00858574636523767), (2291, 0.011350660511384461), (2292, 0.0), (2293, 0.0), (2294, 0.02456523591978462), (2295, 0.0), (2296, 0.01523662549168332), (2297, 0.0), (2298, 0.012921104552985688), (2299, 0.04476876826955624), (2300, 0.0), (2301, 0.03165260099642905), (2302, 0.0), (2303, 0.012691804064045051), (2304, 0.0), (2305, 0.0), (2306, 0.00848368607634444), (2307, 0.0), (2308, 0.0), (2309, 0.00728933756105932), (2310, 0.0), (2311, 0.004823493423798284), (2312, 0.0), (2313, 0.0), (2314, 0.0), (2315, 0.005150311455608061), (2316, 0.02181975571236832), (2317, 0.005059447590090485), (2318, 0.014340061069384867), (2319, 0.0586981719764897), (2320, 0.012029801177824592), (2321, 0.00866850723376091), (2322, 0.030385254003041408), (2323, 0.0), (2324, 0.01022628077609316), (2325, 0.0), (2326, 0.004356505562549364), (2327, 0.008093721856817171), (2328, 0.0), (2329, 0.005047624800131972), (2330, 0.026982134428727537), (2331, 0.0), (2332, 0.0), (2333, 0.0), (2334, 0.005467626786036831), (2335, 0.054877765435626634), (2336, 0.0), (2337, 0.008118770803946828), (2338, 0.01697083071377231), (2339, 0.013600025708980503), (2340, 0.01375174198123564), (2341, 0.0), (2342, 0.0), (2343, 0.0), (2344, 0.0), (2345, 0.011743281499300727), (2346, 0.0), (2347, 0.0), (2348, 0.011767402730581737), (2349, 0.0), (2350, 0.0), (2351, 0.006082407016939529), (2352, 0.00671281477113853), (2353, 0.013648271378440036), (2354, 0.0), (2355, 0.0), (2356, 0.014666589919524665), (2357, 0.0), (2358, 0.0), (2359, 0.026312562667068436), (2360, 0.0), (2361, 0.1258262093547312), (2362, 0.0), (2363, 0.06442656557027754), (2364, 0.006429928850190007), (2365, 0.0), (2366, 0.0), (2367, 0.012770234100082378), (2368, 0.0), (2369, 0.0), (2370, 0.0), (2371, 0.014148532744934215), (2372, 0.0), (2373, 0.0), (2374, 0.00859026572648991), (2375, 0.0092316319198515), (2376, 0.024345181021834944), (2377, 0.011370042334412868), (2378, 0.006861039070454855), (2379, 0.0), (2380, 0.0), (2381, 0.014677055213666116), (2382, 0.0), (2383, 0.006192738755070722), (2384, 0.009468690644996813), (2385, 0.0), (2386, 0.028431250053367052), (2387, 0.011211070745092873), (2388, 0.0), (2389, 0.012021372448522093), (2390, 0.0), (2391, 0.0), (2392, 0.0), (2393, 0.0), (2394, 0.0), (2395, 0.0), (2396, 0.008684616427664174), (2397, 0.0), (2398, 0.0146461148666341), (2399, 0.005162863412337731), (2400, 0.009589001684918117), (2401, 0.0), (2402, 0.00827628932914316), (2403, 0.00791186185609393), (2404, 0.014652424428950839), (2405, 0.0), (2406, 0.0), (2407, 0.0), (2408, 0.013417416413199833), (2409, 0.004969914754289567), (2410, 0.0), (2411, 0.014480252106552542), (2412, 0.013769809619434428), (2413, 0.013912977158933944), (2414, 0.005189738090291238), (2415, 0.007168483025251264), (2416, 0.005289349047922649), (2417, 0.00797404255557826), (2418, 0.01309459458297791), (2419, 0.0), (2420, 0.0), (2421, 0.07353663723576144), (2422, 0.01031372128868879), (2423, 0.0), (2424, 0.00529242371856459), (2425, 0.0), (2426, 0.01837770917784697), (2427, 0.04025827711800199), (2428, 0.026065224905661655), (2429, 0.005408231162678978), (2430, 0.005023621037294216), (2431, 0.005351075210587333), (2432, 0.013816979616300162), (2433, 0.012038979741095968), (2434, 0.0), (2435, 0.0), (2436, 0.013277222559748971), (2437, 0.0), (2438, 0.0), (2439, 0.0111906535872318), (2440, 0.0), (2441, 0.007107380687307024), (2442, 0.048336327288179624), (2443, 0.02617803945929307), (2444, 0.018952059966744338), (2445, 0.012556266189855425), (2446, 0.004950461816671282), (2447, 0.011833700290357851), (2448, 0.0), (2449, 0.0), (2450, 0.007477014713347404), (2451, 0.00809783641660009), (2452, 0.01207430767392538), (2453, 0.0), (2454, 0.0), (2455, 0.014225726103780516), (2456, 0.021812222419290248), (2457, 0.0), (2458, 0.006006969285171046), (2459, 0.006576177375950941), (2460, 0.0), (2461, 0.0), (2462, 0.0), (2463, 0.006960336461024512), (2464, 0.0), (2465, 0.0), (2466, 0.0), (2467, 0.0), (2468, 0.006682735484689495), (2469, 0.00544945477784703), (2470, 0.0), (2471, 0.0), (2472, 0.030234918690070025), (2473, 0.013900765868888235), (2474, 0.029533334245550377), (2475, 0.0), (2476, 0.006406381263910852), (2477, 0.0), (2478, 0.012330642118786173), (2479, 0.015736925663576685), (2480, 0.011797353096162996), (2481, 0.016052427867853183), (2482, 0.02575918879531234), (2483, 0.0), (2484, 0.0), (2485, 0.011752695053010636), (2486, 0.0), (2487, 0.012651500436347385), (2488, 0.0), (2489, 0.0), (2490, 0.0), (2491, 0.004796546254648462), (2492, 0.010502207268521847), (2493, 0.006345555169242089), (2494, 0.012416084944509215), (2495, 0.011338763313846189), (2496, 0.0), (2497, 0.0), (2498, 0.01005637110940296), (2499, 0.0), (2500, 0.017553180157052005), (2501, 0.018616660228673663), (2502, 0.0), (2503, 0.020570058583313146), (2504, 0.013251520043067764), (2505, 0.008084087548981687), (2506, 0.014191597560238134), (2507, 0.0), (2508, 0.0), (2509, 0.009027623304518916), (2510, 0.01928954958045944), (2511, 0.005306552921838961), (2512, 0.0), (2513, 0.038922343707302444), (2514, 0.014622792058468975), (2515, 0.0), (2516, 0.0), (2517, 0.006515428214178218), (2518, 0.005775442848646515), (2519, 0.0), (2520, 0.0), (2521, 0.007247284676309645), (2522, 0.014257145495622365), (2523, 0.0), (2524, 0.01807496006514607), (2525, 0.012524083416070933), (2526, 0.01590110064268601), (2527, 0.02412712934025189), (2528, 0.0), (2529, 0.0), (2530, 0.016300369456768077), (2531, 0.011325650614834442), (2532, 0.02366424308163287), (2533, 0.0), (2534, 0.007155150173459104), (2535, 0.0), (2536, 0.0), (2537, 0.0), (2538, 0.0), (2539, 0.007634392856110168), (2540, 0.01588448836300252), (2541, 0.0), (2542, 0.0), (2543, 0.0), (2544, 0.01268636847276181), (2545, 0.007576398073608451), (2546, 0.017192938464341723), (2547, 0.006361377600779089), (2548, 0.0), (2549, 0.013265426308122698), (2550, 0.016815156305447946), (2551, 0.008401891260197443), (2552, 0.01288836657237682), (2553, 0.018232538925392564), (2554, 0.013733693039535665), (2555, 0.014486037944422152), (2556, 0.0), (2557, 0.0), (2558, 0.0), (2559, 0.01742077501260648), (2560, 0.005723847669724091), (2561, 0.011900109261003275), (2562, 0.013551520902856162), (2563, 0.005804055278839099), (2564, 0.0), (2565, 0.01855512021229888), (2566, 0.01139377349151401), (2567, 0.015941602655219073), (2568, 0.0165272637437044), (2569, 0.007799574578133245), (2570, 0.0), (2571, 0.0), (2572, 0.03260166876649989), (2573, 0.01611384891140053), (2574, 0.014537905630609377), (2575, 0.012221439846739157), (2576, 0.006320516769694546), (2577, 0.0), (2578, 0.0), (2579, 0.0), (2580, 0.0), (2581, 0.013074832584032522), (2582, 0.03180381573585778), (2583, 0.014064355363397021), (2584, 0.026444606677559213), (2585, 0.0), (2586, 0.025171605450784965), (2587, 0.01070347601705848), (2588, 0.0), (2589, 0.0), (2590, 0.007387189448495714), (2591, 0.024536221821413455), (2592, 0.0), (2593, 0.0), (2594, 0.0), (2595, 0.0), (2596, 0.0), (2597, 0.0), (2598, 0.0), (2599, 0.0), (2600, 0.007353584439633032), (2601, 0.007360558764598544), (2602, 0.0), (2603, 0.010328638533631793), (2604, 0.0), (2605, 0.00798286358613485), (2606, 0.0), (2607, 0.0063648685336847415), (2608, 0.004744685395042586), (2609, 0.021280313742431275), (2610, 0.005381256277150351), (2611, 0.004665170659603276), (2612, 0.053401473918631565), (2613, 0.0), (2614, 0.0), (2615, 0.011605329232569114), (2616, 0.07012420670938516), (2617, 0.009201113601107395), (2618, 0.0), (2619, 0.0), (2620, 0.0), (2621, 0.0058738861400841865), (2622, 0.04135262872140809), (2623, 0.0), (2624, 0.0), (2625, 0.018334376984326342), (2626, 0.006052935235809042), (2627, 0.014196831095483576), (2628, 0.0), (2629, 0.0), (2630, 0.011434583111427022), (2631, 0.004863339401613633), (2632, 0.026103865440384632), (2633, 0.08087945855028612), (2634, 0.005459187385213828), (2635, 0.0), (2636, 0.003871148527081479), (2637, 0.016445265781178168), (2638, 0.017498770891601782), (2639, 0.0), (2640, 0.025569216370286148), (2641, 0.02057487101043786), (2642, 0.026182989971151874), (2643, 0.0), (2644, 0.0), (2645, 0.013956465322123347), (2646, 0.021665617676018406), (2647, 0.021901480207000154), (2648, 0.0), (2649, 0.0), (2650, 0.0), (2651, 0.0), (2652, 0.01279096447560018), (2653, 0.006542679737341282), (2654, 0.004620656095894589), (2655, 0.0), (2656, 0.012581391853071179), (2657, 0.007741294978835981), (2658, 0.0), (2659, 0.00773459432704491), (2660, 0.018333756210656273), (2661, 0.0), (2662, 0.011552156017403238), (2663, 0.0), (2664, 0.0), (2665, 0.054953622995399146), (2666, 0.004898477824397866), (2667, 0.007867261913064765), (2668, 0.02343885588699323), (2669, 0.0), (2670, 0.00646535235793239), (2671, 0.006580715723026097), (2672, 0.02919178476861452), (2673, 0.006448657225006355), (2674, 0.005414653940191883), (2675, 0.005532337125085213), (2676, 0.006492311871636033), (2677, 0.008480292597265356), (2678, 0.0), (2679, 0.0), (2680, 0.021460948929241982), (2681, 0.0), (2682, 0.029112276021256933), (2683, 0.0), (2684, 0.0), (2685, 0.008708999799870302), (2686, 0.0), (2687, 0.0), (2688, 0.02981229418037588), (2689, 0.020225190681227953), (2690, 0.0), (2691, 0.039097533266920205), (2692, 0.006037966036721979), (2693, 0.0), (2694, 0.0), (2695, 0.0), (2696, 0.01602586993506516), (2697, 0.05855564976838822), (2698, 0.020183768193710455), (2699, 0.008269791558749112), (2700, 0.0), (2701, 0.0), (2702, 0.0), (2703, 0.0), (2704, 0.0), (2705, 0.0), (2706, 0.017795584278536607), (2707, 0.01553050987362671), (2708, 0.020493686127941488), (2709, 0.0), (2710, 0.006280209079694113), (2711, 0.005333036595663652), (2712, 0.0199870316240034), (2713, 0.013522535377586865), (2714, 0.031080642443191753), (2715, 0.026921025472670196), (2716, 0.0), (2717, 0.0), (2718, 0.005177451345381552), (2719, 0.0), (2720, 0.012265180034222455), (2721, 0.009681528426666492), (2722, 0.0), (2723, 0.0), (2724, 0.009256466962266454), (2725, 0.013220224832032572), (2726, 0.007047652521142731), (2727, 0.0), (2728, 0.0), (2729, 0.03203734987684021), (2730, 0.023314017564064878), (2731, 0.0), (2732, 0.04898003355715306), (2733, 0.0), (2734, 0.004161610139793054), (2735, 0.0), (2736, 0.0), (2737, 0.0), (2738, 0.019368885563184737), (2739, 0.0), (2740, 0.06870539974644428), (2741, 0.0070189683123237), (2742, 0.011502183172142647), (2743, 0.0), (2744, 0.007070395182101867), (2745, 0.0), (2746, 0.008732072623759336), (2747, 0.0), (2748, 0.0), (2749, 0.02401139242924892), (2750, 0.0), (2751, 0.011818783809812775), (2752, 0.0), (2753, 0.03350585499751402), (2754, 0.00632992583418681), (2755, 0.014007664501981511), (2756, 0.01035958908344268), (2757, 0.0), (2758, 0.0), (2759, 0.022010678920053203), (2760, 0.0), (2761, 0.0043695687138750995), (2762, 0.033045923781019663), (2763, 0.0175668245613097), (2764, 0.0), (2765, 0.009943153543658), (2766, 0.029990781458061416), (2767, 0.004453948434223095), (2768, 0.0077698887795599695), (2769, 0.00796571777495788), (2770, 0.0), (2771, 0.009740549171983299), (2772, 0.006690575564217807), (2773, 0.0), (2774, 0.029039130152749733), (2775, 0.0), (2776, 0.0), (2777, 0.017117863236123472), (2778, 0.006859426969397576), (2779, 0.0), (2780, 0.006005648734134701), (2781, 0.0), (2782, 0.026751462229259632), (2783, 0.0), (2784, 0.0), (2785, 0.0), (2786, 0.0), (2787, 0.06106020949954839), (2788, 0.005747926656349389), (2789, 0.017383658547807088), (2790, 0.025882474450256043), (2791, 0.015300864624882933), (2792, 0.005260787650139822), (2793, 0.024111299164467834), (2794, 0.0), (2795, 0.02127202866568976), (2796, 0.0), (2797, 0.0), (2798, 0.012635190668849314), (2799, 0.009531410969012093), (2800, 0.0), (2801, 0.004531116451612388), (2802, 0.0), (2803, 0.026531793886179454), (2804, 0.0), (2805, 0.0), (2806, 0.008652196336097397), (2807, 0.00523446623356808), (2808, 0.011893634152505436), (2809, 0.005387028154673961), (2810, 0.1009021693122404), (2811, 0.006041961688276147), (2812, 0.07532239526427591), (2813, 0.012837945896988869), (2814, 0.058949237278250466), (2815, 0.005619410347969194), (2816, 0.01259963598770099), (2817, 0.026021967084409327), (2818, 0.007336478926896215), (2819, 0.03351365535354947), (2820, 0.011000853314845946), (2821, 0.0), (2822, 0.02262611356125259), (2823, 0.0), (2824, 0.0), (2825, 0.005523776137825268), (2826, 0.021396398060753247), (2827, 0.0), (2828, 0.0), (2829, 0.0), (2830, 0.022114407086487084), (2831, 0.006800853333689511), (2832, 0.0), (2833, 0.0), (2834, 0.0062585478805425344), (2835, 0.0), (2836, 0.0), (2837, 0.016144322372383783), (2838, 0.0), (2839, 0.008448472356093261), (2840, 0.006275440240408498), (2841, 0.010810500654756834), (2842, 0.0044331991467332936), (2843, 0.044890574037485316), (2844, 0.022944933296945885), (2845, 0.0), (2846, 0.0), (2847, 0.025333266159078972), (2848, 0.0), (2849, 0.0), (2850, 0.005545393863113459), (2851, 0.0), (2852, 0.0), (2853, 0.010883314694555404), (2854, 0.011851853114008935), (2855, 0.0047016976330604004), (2856, 0.0), (2857, 0.0), (2858, 0.015088518692475617), (2859, 0.011469359864514379), (2860, 0.014255689650993896), (2861, 0.0), (2862, 0.010189373951977374), (2863, 0.0), (2864, 0.007007667562783353), (2865, 0.0401858912200139), (2866, 0.0), (2867, 0.047207734008045996), (2868, 0.012892658318720341), (2869, 0.013036711785185675), (2870, 0.0), (2871, 0.0), (2872, 0.0), (2873, 0.01324810168042146), (2874, 0.006275030235081017), (2875, 0.0), (2876, 0.0), (2877, 0.007271525947896833), (2878, 0.015949514388665615), (2879, 0.0), (2880, 0.006105121759244737), (2881, 0.006470826596750604), (2882, 0.026107662586663957), (2883, 0.0), (2884, 0.0), (2885, 0.0055635947704743526), (2886, 0.0), (2887, 0.007637262271135004), (2888, 0.01489050857169185), (2889, 0.0), (2890, 0.0), (2891, 0.0), (2892, 0.013051171780935815), (2893, 0.0), (2894, 0.0), (2895, 0.01568062288155177), (2896, 0.0), (2897, 0.018260743767013442), (2898, 0.06208253887094642), (2899, 0.005276466832852502), (2900, 0.005380547711030838), (2901, 0.0), (2902, 0.032694110345296096), (2903, 0.012031637446382026), (2904, 0.008694934442110886), (2905, 0.0), (2906, 0.004696489246555492), (2907, 0.0), (2908, 0.01004505881644989), (2909, 0.0), (2910, 0.02010177916043082), (2911, 0.00549118141482159), (2912, 0.0), (2913, 0.004905423949668466), (2914, 0.0), (2915, 0.007688260338175961), (2916, 0.0), (2917, 0.011075616203662998), (2918, 0.005567877598993533), (2919, 0.017905107408900514), (2920, 0.021973078588808485), (2921, 0.011996519633293273), (2922, 0.007466619809205161), (2923, 0.0), (2924, 0.0), (2925, 0.0), (2926, 0.0), (2927, 0.056717866018427446), (2928, 0.0), (2929, 0.006204272090119921), (2930, 0.011656648346036986), (2931, 0.015648637122289602), (2932, 0.0), (2933, 0.010623830983810909), (2934, 0.0), (2935, 0.01185449302817169), (2936, 0.007914831187354766), (2937, 0.01876182621996984), (2938, 0.005040271664649215), (2939, 0.0), (2940, 0.03220356711200702), (2941, 0.0), (2942, 0.010631692512596064), (2943, 0.00630844119529838), (2944, 0.03913861103388736), (2945, 0.0), (2946, 0.0), (2947, 0.006297291577312977), (2948, 0.0), (2949, 0.0), (2950, 0.02399979495394431), (2951, 0.02014369280435617), (2952, 0.0), (2953, 0.0), (2954, 0.02561275911819137), (2955, 0.02792326578388623), (2956, 0.01513619076203963), (2957, 0.01649426570201023), (2958, 0.0), (2959, 0.015060466856897575), (2960, 0.008269534124683214), (2961, 0.0), (2962, 0.02302882349660229), (2963, 0.011428879987338394), (2964, 0.01628230799281766), (2965, 0.010588351706061571), (2966, 0.0), (2967, 0.0), (2968, 0.0), (2969, 0.021018207903235737), (2970, 0.0), (2971, 0.005310656749824206), (2972, 0.0), (2973, 0.0), (2974, 0.0), (2975, 0.015145544385460638), (2976, 0.007584046098702015), (2977, 0.007023473649286038), (2978, 0.0), (2979, 0.0), (2980, 0.006826831897644011), (2981, 0.015070392670436946), (2982, 0.015337892170491476), (2983, 0.0), (2984, 0.0), (2985, 0.010145330955357645), (2986, 0.0), (2987, 0.0), (2988, 0.007213383730017367), (2989, 0.0), (2990, 0.007619252558411867), (2991, 0.021902447235187913), (2992, 0.022028884138743283), (2993, 0.0), (2994, 0.0), (2995, 0.0), (2996, 0.010836068129425043), (2997, 0.0), (2998, 0.019018570981293437), (2999, 0.0), (3000, 0.0), (3001, 0.0), (3002, 0.0), (3003, 0.02751790386235337), (3004, 0.0), (3005, 0.0), (3006, 0.0), (3007, 0.012064440560749765), (3008, 0.02025331545336223), (3009, 0.014270663088060853), (3010, 0.004984906561599272), (3011, 0.0363254162768788), (3012, 0.0), (3013, 0.0), (3014, 0.0), (3015, 0.0), (3016, 0.0), (3017, 0.0), (3018, 0.005234338915503898), (3019, 0.0), (3020, 0.0), (3021, 0.0), (3022, 0.04318246360836841), (3023, 0.00662035118391271), (3024, 0.031982554882507994), (3025, 0.0), (3026, 0.0), (3027, 0.02980726491391136), (3028, 0.004889043727704237), (3029, 0.0), (3030, 0.0), (3031, 0.0), (3032, 0.0), (3033, 0.012073068618992419), (3034, 0.0), (3035, 0.0), (3036, 0.0), (3037, 0.0), (3038, 0.0), (3039, 0.007767889137450241), (3040, 0.0), (3041, 0.0), (3042, 0.0), (3043, 0.021386854703725262), (3044, 0.006378635078413725), (3045, 0.004673670990714266), (3046, 0.011566483676951084), (3047, 0.0), (3048, 0.0), (3049, 0.0), (3050, 0.0), (3051, 0.017676682394330033), (3052, 0.0), (3053, 0.005139451235030676), (3054, 0.0), (3055, 0.0), (3056, 0.007326048515761909), (3057, 0.0), (3058, 0.020498700595749268), (3059, 0.00645595769820575), (3060, 0.013846034700844797), (3061, 0.0), (3062, 0.015416422965300942), (3063, 0.0), (3064, 0.00659130876121832), (3065, 0.017930986596959755), (3066, 0.011907692867326642), (3067, 0.01772119390154922), (3068, 0.0), (3069, 0.03432214494629126), (3070, 0.06483488412861357), (3071, 0.004790598408158531), (3072, 0.0), (3073, 0.037714905965907736), (3074, 0.0), (3075, 0.0), (3076, 0.014164761584221362), (3077, 0.0), (3078, 0.0), (3079, 0.010335964680675692), (3080, 0.0), (3081, 0.0), (3082, 0.0), (3083, 0.017939647441794788), (3084, 0.0), (3085, 0.011940643186043817), (3086, 0.0), (3087, 0.0), (3088, 0.0), (3089, 0.015248937445916861), (3090, 0.0), (3091, 0.010624532158064947), (3092, 0.0), (3093, 0.013230033791005789), (3094, 0.007947883007776423), (3095, 0.00724927633356694), (3096, 0.017474630928119465), (3097, 0.006005657528102057), (3098, 0.0), (3099, 0.05286058011051273), (3100, 0.021223923103549272), (3101, 0.009223917588901643), (3102, 0.012971875826711807), (3103, 0.0), (3104, 0.0), (3105, 0.0074067489816823755), (3106, 0.0), (3107, 0.0), (3108, 0.027900813185474632), (3109, 0.0095447567093949), (3110, 0.0), (3111, 0.004524811715616852), (3112, 0.006122038023775257), (3113, 0.0), (3114, 0.018912247574842826), (3115, 0.00819286724681466), (3116, 0.0), (3117, 0.0), (3118, 0.0), (3119, 0.0), (3120, 0.0), (3121, 0.012350826744419667), (3122, 0.027178402991056234), (3123, 0.0), (3124, 0.01351607128179879), (3125, 0.005285079512733557), (3126, 0.01812801651183979), (3127, 0.012836297390309313), (3128, 0.0), (3129, 0.03945145997184385), (3130, 0.0), (3131, 0.005733313599860735), (3132, 0.014287041136563677), (3133, 0.025222101378576826), (3134, 0.013808850407377334), (3135, 0.012279141786735984), (3136, 0.021282752516738626), (3137, 0.0), (3138, 0.0), (3139, 0.0), (3140, 0.0), (3141, 0.040123379641617885), (3142, 0.007071788098257333), (3143, 0.005145826259982124), (3144, 0.013552900867598142), (3145, 0.006971706860232378), (3146, 0.0), (3147, 0.0), (3148, 0.0), (3149, 0.004934596395901777), (3150, 0.005230593851788005), (3151, 0.011853757643026808), (3152, 0.016048461123670355), (3153, 0.0), (3154, 0.0), (3155, 0.0), (3156, 0.022328727351338763), (3157, 0.00781632929512836), (3158, 0.0), (3159, 0.01439956698010829), (3160, 0.036776243247615324), (3161, 0.005510296853947295), (3162, 0.01401357352459412), (3163, 0.014408575466158549), (3164, 0.005797032323548217), (3165, 0.006684643313804509), (3166, 0.0), (3167, 0.0), (3168, 0.006815470117091941), (3169, 0.0057210256366154715), (3170, 0.0), (3171, 0.0), (3172, 0.021598439196282508), (3173, 0.022486256406351473), (3174, 0.01854755520828886), (3175, 0.0), (3176, 0.0), (3177, 0.0), (3178, 0.0), (3179, 0.03641735624640135), (3180, 0.014801317007288334), (3181, 0.026118063203528122), (3182, 0.0), (3183, 0.0), (3184, 0.022173579721844035), (3185, 0.008131085469084592), (3186, 0.0), (3187, 0.0), (3188, 0.0086244509488891), (3189, 0.0), (3190, 0.0), (3191, 0.020113075519404673), (3192, 0.0), (3193, 0.005165864628822209), (3194, 0.0), (3195, 0.0), (3196, 0.0), (3197, 0.0), (3198, 0.0), (3199, 0.004100062251084757), (3200, 0.00734603539498037), (3201, 0.014687000990457198), (3202, 0.014470056421224519), (3203, 0.012914976935662256), (3204, 0.0), (3205, 0.03652886861138896), (3206, 0.02567240991404987), (3207, 0.009368578406608393), (3208, 0.008017900715867792), (3209, 0.0), (3210, 0.026660219067879617), (3211, 0.019706874442063912), (3212, 0.0), (3213, 0.0390300675956435), (3214, 0.0), (3215, 0.010866274712200936), (3216, 0.0), (3217, 0.0), (3218, 0.01305605819732145), (3219, 0.0), (3220, 0.0), (3221, 0.018409906133291472), (3222, 0.010226653754354564), (3223, 0.015569782793400705), (3224, 0.0), (3225, 0.005852724285306662), (3226, 0.017395442303010825), (3227, 0.01717329769381772), (3228, 0.008083715912653973), (3229, 0.0), (3230, 0.0), (3231, 0.023785038924808873), (3232, 0.012507673906824592), (3233, 0.00537114003321842), (3234, 0.011279663345422948), (3235, 0.009220486236784904), (3236, 0.0), (3237, 0.01193169314937911), (3238, 0.00942806852907066), (3239, 0.012996896829519784), (3240, 0.01146968655485775), (3241, 0.005842240706438001), (3242, 0.0), (3243, 0.0), (3244, 0.01877216102326393), (3245, 0.0), (3246, 0.014650206740620196), (3247, 0.00511479848745063), (3248, 0.0), (3249, 0.0), (3250, 0.0), (3251, 0.01561897541244867), (3252, 0.0), (3253, 0.03387824188329888), (3254, 0.007467296121044528), (3255, 0.0), (3256, 0.008199307337405459), (3257, 0.0), (3258, 0.0), (3259, 0.011473847561184882), (3260, 0.005044802053612115), (3261, 0.0), (3262, 0.0), (3263, 0.0065736608388115665), (3264, 0.02195874921553205), (3265, 0.012206943777984433), (3266, 0.0), (3267, 0.021181985673375196), (3268, 0.0), (3269, 0.0), (3270, 0.021619263667011668), (3271, 0.0), (3272, 0.00802331091232296), (3273, 0.0), (3274, 0.0), (3275, 0.017549301767649496), (3276, 0.034841095630671275), (3277, 0.02421539140038231), (3278, 0.0), (3279, 0.011788546810860648), (3280, 0.0), (3281, 0.0), (3282, 0.010672466005290716), (3283, 0.005380551903376197), (3284, 0.027288795216481893), (3285, 0.0), (3286, 0.007478513287320125), (3287, 0.0), (3288, 0.0068823488878186345), (3289, 0.0), (3290, 0.0), (3291, 0.0), (3292, 0.0), (3293, 0.015282030706254671), (3294, 0.06490130144244513), (3295, 0.0049945458159186785), (3296, 0.0), (3297, 0.010923150570319989), (3298, 0.0), (3299, 0.013588490624817111), (3300, 0.0), (3301, 0.0), (3302, 0.015128204872236747), (3303, 0.01635301047501838), (3304, 0.007799363205300657), (3305, 0.0), (3306, 0.022387132286877644), (3307, 0.0), (3308, 0.0), (3309, 0.006646100843385902), (3310, 0.019638987507771957), (3311, 0.010031300721639796), (3312, 0.006360603637186896), (3313, 0.0), (3314, 0.0), (3315, 0.0), (3316, 0.009454896584378609), (3317, 0.0042671617444165035), (3318, 0.012368493591668521), (3319, 0.0), (3320, 0.004928308890996951), (3321, 0.005233171980279287), (3322, 0.0), (3323, 0.03008099994166326), (3324, 0.0), (3325, 0.0), (3326, 0.0), (3327, 0.011395912667724543), (3328, 0.012048374481992833), (3329, 0.006271386635394965), (3330, 0.04124957342426326), (3331, 0.0), (3332, 0.005772844989202728), (3333, 0.0), (3334, 0.0), (3335, 0.0), (3336, 0.009582975806748282), (3337, 0.0), (3338, 0.012946611483919013), (3339, 0.004885268233693841), (3340, 0.0), (3341, 0.0), (3342, 0.026986219347564802), (3343, 0.010547165737697355), (3344, 0.021731374968165355), (3345, 0.012824156478256587), (3346, 0.014523206827600402), (3347, 0.007271629971145235), (3348, 0.0), (3349, 0.0), (3350, 0.0), (3351, 0.0), (3352, 0.0), (3353, 0.0), (3354, 0.013878415440672334), (3355, 0.0), (3356, 0.0), (3357, 0.0), (3358, 0.0), (3359, 0.0), (3360, 0.030125033757920645), (3361, 0.050315460632042036), (3362, 0.021521370917215087), (3363, 0.0), (3364, 0.016019408878536895), (3365, 0.01400065024583345), (3366, 0.0), (3367, 0.01290794771225017), (3368, 0.010849059320120829), (3369, 0.0), (3370, 0.0), (3371, 0.0), (3372, 0.0), (3373, 0.006229839006664081), (3374, 0.011465459147409438), (3375, 0.0), (3376, 0.0), (3377, 0.008835912279402256), (3378, 0.00886314683375131), (3379, 0.0), (3380, 0.0), (3381, 0.0), (3382, 0.008848602187261736), (3383, 0.10100140279175941), (3384, 0.030148006675515635), (3385, 0.026692251125920337), (3386, 0.025786914166113215), (3387, 0.01574238181176486), (3388, 0.008924663771324049), (3389, 0.011076563576129113), (3390, 0.008340191763508862), (3391, 0.0), (3392, 0.00589006361706775), (3393, 0.01656201184595246), (3394, 0.017677946978289068), (3395, 0.03421991887047281), (3396, 0.0), (3397, 0.023033953827632594), (3398, 0.02218209378248054), (3399, 0.021748194731153775), (3400, 0.01802481502629535), (3401, 0.0), (3402, 0.0), (3403, 0.004545729434811652), (3404, 0.027969467786040918), (3405, 0.011870803442373875), (3406, 0.0), (3407, 0.02476846381957102), (3408, 0.028981503475066873), (3409, 0.010463315456374248), (3410, 0.009794136221952549), (3411, 0.004689622277789631), (3412, 0.0049030148528993785), (3413, 0.0), (3414, 0.011569185984822962), (3415, 0.0), (3416, 0.025175092063808163), (3417, 0.0), (3418, 0.0), (3419, 0.015404958083325905), (3420, 0.022419026117261057), (3421, 0.006200646101459961), (3422, 0.0), (3423, 0.008086353420459278), (3424, 0.018015694439106396), (3425, 0.01544460054964817), (3426, 0.022032179682021313), (3427, 0.01327204408133575), (3428, 0.0), (3429, 0.004079244674093786), (3430, 0.007205802866340146), (3431, 0.0), (3432, 0.005852281136644298), (3433, 0.0), (3434, 0.0), (3435, 0.016003904116583898), (3436, 0.0), (3437, 0.0), (3438, 0.015289283223762298), (3439, 0.01025251869773762), (3440, 0.08291000676899991), (3441, 0.005637576480100058), (3442, 0.0), (3443, 0.005755674791682928), (3444, 0.025638659185464548), (3445, 0.04602635989935554), (3446, 0.005232306093802647), (3447, 0.011365245294346588), (3448, 0.022973308267717405), (3449, 0.0), (3450, 0.018536755558999758), (3451, 0.0059547826158067585), (3452, 0.0), (3453, 0.016336330216191016), (3454, 0.029601388636566923), (3455, 0.0), (3456, 0.03316154937169663), (3457, 0.06081253681638309), (3458, 0.01637428996886786), (3459, 0.12481592012248177), (3460, 0.008012814913625323), (3461, 0.013586317352332821), (3462, 0.0), (3463, 0.043803941091309924), (3464, 0.02422228976191859), (3465, 0.020506245083205258), (3466, 0.017992724730965404), (3467, 0.01332414462891145), (3468, 0.015839814809115796), (3469, 0.023613993594132385), (3470, 0.028003003426145503), (3471, 0.0), (3472, 0.024153125108047797), (3473, 0.0), (3474, 0.0), (3475, 0.0), (3476, 0.0), (3477, 0.018533653225092903), (3478, 0.0), (3479, 0.0), (3480, 0.02153223706051127), (3481, 0.004883677933058731), (3482, 0.007836156049489383), (3483, 0.01592266485054033), (3484, 0.014349976494354709), (3485, 0.0), (3486, 0.005833461366886145), (3487, 0.0), (3488, 0.0), (3489, 0.0), (3490, 0.008535149028910127), (3491, 0.013909192697294669), (3492, 0.020251033045668283), (3493, 0.009058324450200623), (3494, 0.0), (3495, 0.012482449385603745), (3496, 0.0), (3497, 0.0), (3498, 0.0), (3499, 0.0), (3500, 0.0), (3501, 0.0), (3502, 0.019338166403519534), (3503, 0.0), (3504, 0.006573958604779373), (3505, 0.0), (3506, 0.00970401098345897), (3507, 0.0112139684045278), (3508, 0.013750867010999004), (3509, 0.00603562725132587), (3510, 0.0), (3511, 0.0), (3512, 0.0), (3513, 0.005783541488995741), (3514, 0.0058524708178812855), (3515, 0.027615607714587466), (3516, 0.014657291302844998), (3517, 0.008618779206590132), (3518, 0.032936087724961496), (3519, 0.0), (3520, 0.01315646495350937), (3521, 0.0), (3522, 0.03132240375445759), (3523, 0.0), (3524, 0.007901159278999216), (3525, 0.030003272097558847), (3526, 0.005323814039542995), (3527, 0.0), (3528, 0.0), (3529, 0.0), (3530, 0.0), (3531, 0.0190085210024777), (3532, 0.014751894777715456), (3533, 0.0), (3534, 0.014402677031149797), (3535, 0.0), (3536, 0.034012449140022716), (3537, 0.0), (3538, 0.007079468133037825), (3539, 0.01308372063178849), (3540, 0.0), (3541, 0.022402307769944348), (3542, 0.0), (3543, 0.0), (3544, 0.0), (3545, 0.0), (3546, 0.009627657595201022), (3547, 0.0), (3548, 0.011699736616973965), (3549, 0.005359734688342927), (3550, 0.007952805060763974), (3551, 0.01422975476720183), (3552, 0.0), (3553, 0.00709503604391352), (3554, 0.0), (3555, 0.0055816757353896644), (3556, 0.004956763447698518), (3557, 0.018523268308203587), (3558, 0.013283633342152252), (3559, 0.01678028691978038), (3560, 0.01508472458736958), (3561, 0.0), (3562, 0.004947943040852742), (3563, 0.012804243361569063), (3564, 0.008792037363439604), (3565, 0.0), (3566, 0.01932983108295278), (3567, 0.005073948886410892), (3568, 0.01831807832031912), (3569, 0.024396603309930417), (3570, 0.0), (3571, 0.0), (3572, 0.0), (3573, 0.0), (3574, 0.01849264687919227), (3575, 0.0), (3576, 0.0), (3577, 0.0212690206717173), (3578, 0.032976010558561156), (3579, 0.010955821301862432), (3580, 0.0), (3581, 0.0), (3582, 0.01284301870830834), (3583, 0.0), (3584, 0.06422438957718582), (3585, 0.0), (3586, 0.023358641517302155), (3587, 0.031367196046679396), (3588, 0.006729971722366128), (3589, 0.010139438103910388), (3590, 0.0), (3591, 0.005908483118849361), (3592, 0.028642917896603705), (3593, 0.020947138961235116), (3594, 0.012221137612433968), (3595, 0.005450915292725347), (3596, 0.018517550993616058), (3597, 0.013132952223192013), (3598, 0.017792880424040116), (3599, 0.012512771894659581), (3600, 0.005389607442194174), (3601, 0.0), (3602, 0.01445595960972943), (3603, 0.005851861641641193), (3604, 0.00593992309185436), (3605, 0.005510136895908918), (3606, 0.0), (3607, 0.0), (3608, 0.0), (3609, 0.01244806954593933), (3610, 0.00605817827560534), (3611, 0.0), (3612, 0.0054435082622337), (3613, 0.0), (3614, 0.0), (3615, 0.0), (3616, 0.022067383395159144), (3617, 0.0), (3618, 0.015193530528354935), (3619, 0.011634418160411886), (3620, 0.0), (3621, 0.0), (3622, 0.0), (3623, 0.005904540143163366), (3624, 0.0), (3625, 0.0), (3626, 0.010715070476604409), (3627, 0.0), (3628, 0.008362889066540518), (3629, 0.012905003567688022), (3630, 0.018973727968729988), (3631, 0.0), (3632, 0.03976435042946928), (3633, 0.012817445560699532), (3634, 0.006274685550130633), (3635, 0.007529791855667959), (3636, 0.0), (3637, 0.0050586402917025194), (3638, 0.019518021217704427), (3639, 0.0241491119709577), (3640, 0.0), (3641, 0.020095217303793617), (3642, 0.02600957419066628), (3643, 0.01254370633727463), (3644, 0.008610476174026693), (3645, 0.004692404180598664), (3646, 0.004951637189810144), (3647, 0.013791412265382096), (3648, 0.026517626658024086), (3649, 0.0), (3650, 0.005204271381683578), (3651, 0.00584760977820302), (3652, 0.0), (3653, 0.0), (3654, 0.06798271222591373), (3655, 0.01867679912573991), (3656, 0.013982361197510723), (3657, 0.03549815813170826), (3658, 0.009169580522022637), (3659, 0.0), (3660, 0.0053737945769459835), (3661, 0.013867097115902583), (3662, 0.0), (3663, 0.0), (3664, 0.0), (3665, 0.0), (3666, 0.0), (3667, 0.005297328589681679), (3668, 0.0092651279175287), (3669, 0.0), (3670, 0.0), (3671, 0.0), (3672, 0.0), (3673, 0.0), (3674, 0.004444510937122315), (3675, 0.0), (3676, 0.006097095242972069), (3677, 0.01137539761567039), (3678, 0.005407020644296555), (3679, 0.0), (3680, 0.006526504061627016), (3681, 0.017591882123546086), (3682, 0.0), (3683, 0.0), (3684, 0.014100337589817089), (3685, 0.007475135833927087), (3686, 0.0), (3687, 0.0), (3688, 0.0), (3689, 0.012437146310734042), (3690, 0.024076842630699), (3691, 0.0), (3692, 0.006098468465803329), (3693, 0.005056883613990313), (3694, 0.0), (3695, 0.03154753980717787), (3696, 0.004991197252976087), (3697, 0.014216075772287666), (3698, 0.02826395532567382), (3699, 0.011418090624156182), (3700, 0.01302811804650527), (3701, 0.0051742689146258925), (3702, 0.0), (3703, 0.008330303014456352), (3704, 0.011721397560537198), (3705, 0.0), (3706, 0.013708768712067946), (3707, 0.0), (3708, 0.006644390460327963), (3709, 0.012557557574014853), (3710, 0.017394015576865575), (3711, 0.01245814151461809), (3712, 0.008145271127912404), (3713, 0.013054031478424166), (3714, 0.0), (3715, 0.007562589580966458), (3716, 0.0), (3717, 0.0), (3718, 0.029685413268045392), (3719, 0.0), (3720, 0.01062786308485693), (3721, 0.0), (3722, 0.019324880800808214), (3723, 0.017434134004238613), (3724, 0.11605851556314656), (3725, 0.0), (3726, 0.007178455151830344), (3727, 0.0), (3728, 0.020288384401374808), (3729, 0.0), (3730, 0.029846915963056195), (3731, 0.010240052892890737), (3732, 0.008166440127088455), (3733, 0.007041797392092818), (3734, 0.005453169430501117), (3735, 0.007897756628457034), (3736, 0.014437676680610013), (3737, 0.0), (3738, 0.01679428936809972), (3739, 0.005090037868291332), (3740, 0.0), (3741, 0.067903740134586), (3742, 0.01722906899341918), (3743, 0.02356581650660599), (3744, 0.016022528615161957), (3745, 0.0), (3746, 0.005086399904370004), (3747, 0.020869605187439678), (3748, 0.018330585906857343), (3749, 0.0), (3750, 0.0063119450248026185), (3751, 0.014229856023997265), (3752, 0.02234094271818331), (3753, 0.0), (3754, 0.009796844044636273), (3755, 0.0), (3756, 0.0), (3757, 0.0), (3758, 0.0), (3759, 0.025394544243982832), (3760, 0.0), (3761, 0.0), (3762, 0.0), (3763, 0.0), (3764, 0.0), (3765, 0.01066761105775953), (3766, 0.0), (3767, 0.006204981746980973), (3768, 0.011448304414614129), (3769, 0.0), (3770, 0.0), (3771, 0.005987277031688755), (3772, 0.0), (3773, 0.021120767628776578), (3774, 0.0), (3775, 0.007855785714099188), (3776, 0.004941068032739116), (3777, 0.0), (3778, 0.016396255477293294), (3779, 0.0), (3780, 0.005598986602589642), (3781, 0.0), (3782, 0.029695995777367323), (3783, 0.012536382820453305), (3784, 0.01745104195825891), (3785, 0.006849620671054652), (3786, 0.018047513428143272), (3787, 0.014262839258658722), (3788, 0.008052120018044362), (3789, 0.0), (3790, 0.0), (3791, 0.0), (3792, 0.0), (3793, 0.0), (3794, 0.0053523882471559255), (3795, 0.012508721541541161), (3796, 0.0), (3797, 0.031556435479750566), (3798, 0.019395871508112277), (3799, 0.0), (3800, 0.0), (3801, 0.0224439021778743), (3802, 0.006230621087068301), (3803, 0.011172781218313296), (3804, 0.0), (3805, 0.007718525197797653), (3806, 0.007410767726817318), (3807, 0.0056969476691286144), (3808, 0.0), (3809, 0.0), (3810, 0.005555170429680631), (3811, 0.0), (3812, 0.01366791790429386), (3813, 0.0), (3814, 0.005709194102819193), (3815, 0.0), (3816, 0.011877597887739937), (3817, 0.008406272397497593), (3818, 0.00521041781047003), (3819, 0.0049994175509619), (3820, 0.042695293479842786), (3821, 0.010251045169082432), (3822, 0.012913047861099612), (3823, 0.018346778981045406), (3824, 0.008062780508557877), (3825, 0.011181035395102588), (3826, 0.01873774287879026), (3827, 0.0), (3828, 0.0), (3829, 0.006355249063509819), (3830, 0.0), (3831, 0.0), (3832, 0.0), (3833, 0.0), (3834, 0.02393343806264318), (3835, 0.004535463923096013), (3836, 0.0), (3837, 0.0), (3838, 0.0), (3839, 0.038808735020022855), (3840, 0.014569495754143881), (3841, 0.012770790393987139), (3842, 0.0), (3843, 0.0), (3844, 0.010337102083320544), (3845, 0.038336384106669515), (3846, 0.021444369029281672), (3847, 0.012871103041607077), (3848, 0.0), (3849, 0.013679886453059394), (3850, 0.005901194988369286), (3851, 0.0), (3852, 0.016576313307016328), (3853, 0.0), (3854, 0.0048067171786129), (3855, 0.007250186016971004), (3856, 0.0), (3857, 0.005565723842408432), (3858, 0.020822402624769816), (3859, 0.0), (3860, 0.017586124900810227), (3861, 0.0), (3862, 0.006116847511840821), (3863, 0.0), (3864, 0.01944995576855704), (3865, 0.018768807818183724), (3866, 0.02195180895993572), (3867, 0.0), (3868, 0.005043138231163836), (3869, 0.025884146810929386), (3870, 0.03489490209367576), (3871, 0.06121930049694066), (3872, 0.0), (3873, 0.009367978226646622), (3874, 0.0), (3875, 0.025420493984971544), (3876, 0.0), (3877, 0.017867040270894766), (3878, 0.011061384422127582), (3879, 0.0), (3880, 0.017717986894610148), (3881, 0.008381696773789906), (3882, 0.0), (3883, 0.0), (3884, 0.009835165719609254), (3885, 0.0), (3886, 0.0049881769262567635), (3887, 0.0), (3888, 0.0), (3889, 0.014526314807918524), (3890, 0.010212380743036861), (3891, 0.004949433662607776), (3892, 0.0), (3893, 0.0), (3894, 0.004867278677405088), (3895, 0.0), (3896, 0.0), (3897, 0.005698338176929329), (3898, 0.0), (3899, 0.0), (3900, 0.0), (3901, 0.03922875327985304), (3902, 0.0), (3903, 0.02960159003034829), (3904, 0.0), (3905, 0.0), (3906, 0.0), (3907, 0.016753905856228078), (3908, 0.014724118981243121), (3909, 0.006520780632754722), (3910, 0.0), (3911, 0.0), (3912, 0.0), (3913, 0.024697512688698433), (3914, 0.01661733670280396), (3915, 0.0), (3916, 0.011420297702438624), (3917, 0.012942676406398401), (3918, 0.0), (3919, 0.012890523737295222), (3920, 0.00562853136818153), (3921, 0.011760836435093852), (3922, 0.0), (3923, 0.012116782027343124), (3924, 0.005613196172063397), (3925, 0.0), (3926, 0.006869402952735652), (3927, 0.00592440932629737), (3928, 0.004563944078536077), (3929, 0.0), (3930, 0.01984539010936308), (3931, 0.0), (3932, 0.03325674523041209), (3933, 0.009614122484443675), (3934, 0.0), (3935, 0.0), (3936, 0.0), (3937, 0.014371542609647422), (3938, 0.0), (3939, 0.0), (3940, 0.00567741748712533), (3941, 0.0), (3942, 0.010514648343906731), (3943, 0.0), (3944, 0.004526673510593581), (3945, 0.0), (3946, 0.010176134513865252), (3947, 0.006680687581230853), (3948, 0.011851751689559816), (3949, 0.0), (3950, 0.014656815681460158), (3951, 0.008190468828602067), (3952, 0.0), (3953, 0.0), (3954, 0.006427939097218053), (3955, 0.05398487947285441), (3956, 0.0), (3957, 0.019612250921470786), (3958, 0.03952695821779776), (3959, 0.005513863027153397), (3960, 0.0), (3961, 0.0), (3962, 0.0), (3963, 0.018861922669116914), (3964, 0.0), (3965, 0.02437343637571494), (3966, 0.00509661005193159), (3967, 0.0), (3968, 0.01368295411269893), (3969, 0.0), (3970, 0.047897312648477), (3971, 0.0), (3972, 0.014592135425241287), (3973, 0.0071889721593146405), (3974, 0.0), (3975, 0.0), (3976, 0.0), (3977, 0.014226668271195723), (3978, 0.005620454029945852), (3979, 0.013919221218512273), (3980, 0.038372383005346115), (3981, 0.0), (3982, 0.016188104289024372), (3983, 0.009320881328063899), (3984, 0.0), (3985, 0.0), (3986, 0.007892405081709637), (3987, 0.0), (3988, 0.0), (3989, 0.0), (3990, 0.0), (3991, 0.007267734231014256), (3992, 0.0), (3993, 0.030545465546377694), (3994, 0.005041190937672222), (3995, 0.023101277053659917), (3996, 0.0), (3997, 0.006042296505857479), (3998, 0.017315439994405785), (3999, 0.0), (4000, 0.01963408608914048), (4001, 0.023378515736685986), (4002, 0.010442160809073965), (4003, 0.0), (4004, 0.0), (4005, 0.015014507906062825), (4006, 0.0), (4007, 0.01596235629413758), (4008, 0.007274548290780238), (4009, 0.018362933108304183), (4010, 0.0), (4011, 0.01229928416484565), (4012, 0.021244389697901923), (4013, 0.005401171181215757), (4014, 0.0), (4015, 0.018016787186610747), (4016, 0.0), (4017, 0.0), (4018, 0.0), (4019, 0.014796459932619143), (4020, 0.01058045295262179), (4021, 0.0), (4022, 0.0), (4023, 0.012552385807424168), (4024, 0.0), (4025, 0.012391043270256516), (4026, 0.0), (4027, 0.0), (4028, 0.0), (4029, 0.0), (4030, 0.0), (4031, 0.020442848335429253), (4032, 0.019814431746685672), (4033, 0.005919493564250583), (4034, 0.008410004010410565), (4035, 0.006689846933732422), (4036, 0.007511536863728917), (4037, 0.005555762534781336), (4038, 0.01140662385682891), (4039, 0.005471806509274466), (4040, 0.0), (4041, 0.005538641235790625), (4042, 0.0), (4043, 0.0), (4044, 0.005487891189807419), (4045, 0.017104646599798212), (4046, 0.020641301979802403), (4047, 0.03091500266691384), (4048, 0.0), (4049, 0.0), (4050, 0.0), (4051, 0.027976980395109156), (4052, 0.03041963022494233), (4053, 0.0), (4054, 0.0), (4055, 0.02745968989356097), (4056, 0.013693568629783843), (4057, 0.011006903608720166), (4058, 0.0), (4059, 0.026114728758639176), (4060, 0.0), (4061, 0.01838946341656198), (4062, 0.014072092582995308), (4063, 0.0), (4064, 0.023120469797294978), (4065, 0.0), (4066, 0.0), (4067, 0.0), (4068, 0.01075825506344361), (4069, 0.01877414157229581), (4070, 0.04560342791746086), (4071, 0.06625006176718878), (4072, 0.0), (4073, 0.0), (4074, 0.004596670933366755), (4075, 0.0), (4076, 0.013459901556393736), (4077, 0.021828731020442495), (4078, 0.009259930622891944), (4079, 0.0), (4080, 0.0), (4081, 0.01074429174590506), (4082, 0.0), (4083, 0.0), (4084, 0.0), (4085, 0.0), (4086, 0.008661539380389), (4087, 0.009628952391447839), (4088, 0.008653570880627296), (4089, 0.01096950157585466), (4090, 0.0), (4091, 0.023009698614268596), (4092, 0.0), (4093, 0.005966053011350827), (4094, 0.017469422577477207), (4095, 0.0280730503670936), (4096, 0.0), (4097, 0.011670993401439416), (4098, 0.006174032734291978), (4099, 0.019869898431590663), (4100, 0.005890610527415031), (4101, 0.033191823462813894), (4102, 0.0), (4103, 0.013341573604211931), (4104, 0.0), (4105, 0.0), (4106, 0.01599115018072749), (4107, 0.013610424034961951), (4108, 0.005510781887474543), (4109, 0.004652025430668308), (4110, 0.04245307355406761), (4111, 0.0), (4112, 0.01820162962685208), (4113, 0.0), (4114, 0.014189209345394594), (4115, 0.013643560572743687), (4116, 0.006182018791689315), (4117, 0.01282961856330283), (4118, 0.020151018278301517), (4119, 0.020904764638174915), (4120, 0.0), (4121, 0.006363019448066505), (4122, 0.007137208614140575), (4123, 0.0), (4124, 0.0), (4125, 0.014283115419706931), (4126, 0.0), (4127, 0.0), (4128, 0.01412392145857895), (4129, 0.0), (4130, 0.008456913938195325), (4131, 0.0064277293503747415), (4132, 0.0), (4133, 0.012116719564143664), (4134, 0.00987927044149866), (4135, 0.0051711196546392136), (4136, 0.027973773503862737), (4137, 0.00508126417959169), (4138, 0.0), (4139, 0.0), (4140, 0.0), (4141, 0.012551264539383633), (4142, 0.016720530920853863), (4143, 0.004696823962466122), (4144, 0.006807948665962044), (4145, 0.01265304199256289), (4146, 0.0), (4147, 0.0), (4148, 0.005538202696909163), (4149, 0.0), (4150, 0.009707364644903052), (4151, 0.0), (4152, 0.02265097376628792), (4153, 0.012133316886353825), (4154, 0.0), (4155, 0.004838552161487457), (4156, 0.05313489719476558), (4157, 0.005105069096454037), (4158, 0.019715545151365307), (4159, 0.0), (4160, 0.008566453353118014), (4161, 0.0), (4162, 0.0), (4163, 0.0), (4164, 0.009824091649925645), (4165, 0.007885563774708485), (4166, 0.0), (4167, 0.0), (4168, 0.01669941721676105), (4169, 0.0), (4170, 0.0), (4171, 0.02321488149900682), (4172, 0.0), (4173, 0.0), (4174, 0.004822234803037302), (4175, 0.020400775631011378), (4176, 0.004827460864845677), (4177, 0.0), (4178, 0.0), (4179, 0.0), (4180, 0.011938413222132396), (4181, 0.035821050925064296), (4182, 0.01251449710889446), (4183, 0.0), (4184, 0.01960302098018774), (4185, 0.0), (4186, 0.0052091645307727795), (4187, 0.0), (4188, 0.03851794618390697), (4189, 0.011767726341307764), (4190, 0.0), (4191, 0.0), (4192, 0.009834217712968552), (4193, 0.012474698784829066), (4194, 0.026196549220747673), (4195, 0.007598068471851136), (4196, 0.02429678023365666), (4197, 0.0), (4198, 0.0), (4199, 0.030374152243206318), (4200, 0.039530878476305924), (4201, 0.023811400325886217), (4202, 0.007993728584832542), (4203, 0.029144268318563486), (4204, 0.0), (4205, 0.016450878779064912), (4206, 0.010663673210969343), (4207, 0.0), (4208, 0.0), (4209, 0.010444893588893294), (4210, 0.025674220233774133), (4211, 0.01378944687535503), (4212, 0.0), (4213, 0.0), (4214, 0.0), (4215, 0.0), (4216, 0.0), (4217, 0.011621250634483434), (4218, 0.025548041607249473), (4219, 0.0), (4220, 0.010000320374373609), (4221, 0.007118973559021222), (4222, 0.014632910855889053), (4223, 0.015734886874758602), (4224, 0.03291066153435524), (4225, 0.0), (4226, 0.013194234478269184), (4227, 0.0), (4228, 0.0), (4229, 0.0), (4230, 0.0), (4231, 0.0), (4232, 0.0), (4233, 0.0), (4234, 0.0), (4235, 0.0), (4236, 0.012193640869231819), (4237, 0.011697059878743659), (4238, 0.015124374813386247), (4239, 0.014669328009858632), (4240, 0.02395844728038374), (4241, 0.0), (4242, 0.006352704025285386), (4243, 0.0), (4244, 0.006664610784699912), (4245, 0.039023411288089976), (4246, 0.0), (4247, 0.0196760646571948), (4248, 0.005755651075380924), (4249, 0.006080303325859305), (4250, 0.0), (4251, 0.0), (4252, 0.0), (4253, 0.0), (4254, 0.013582322049671415), (4255, 0.012678285452499466), (4256, 0.0), (4257, 0.021562405553915857), (4258, 0.0), (4259, 0.0), (4260, 0.0), (4261, 0.004185893026609652), (4262, 0.005410990581574052), (4263, 0.0), (4264, 0.005520461307262587), (4265, 0.005417552759230799), (4266, 0.00871593160858935), (4267, 0.005949948412061844), (4268, 0.0), (4269, 0.02697588621606214), (4270, 0.019303767578372752), (4271, 0.0), (4272, 0.01675328452784232), (4273, 0.0), (4274, 0.005329756770450547), (4275, 0.0), (4276, 0.0064504866916728085), (4277, 0.0), (4278, 0.0), (4279, 0.097335479521106), (4280, 0.0), (4281, 0.005946740327596567), (4282, 0.009770937851035309), (4283, 0.018355941777118398), (4284, 0.0), (4285, 0.00655414649148206), (4286, 0.011545406336085888), (4287, 0.0), (4288, 0.007916904192665934), (4289, 0.014020750380628687), (4290, 0.014477350181334697), (4291, 0.0), (4292, 0.015433932413072948), (4293, 0.0065624852563962634), (4294, 0.013711145712961254), (4295, 0.0), (4296, 0.0), (4297, 0.004684780177377893), (4298, 0.0), (4299, 0.0), (4300, 0.0), (4301, 0.0), (4302, 0.0), (4303, 0.02500604773338326), (4304, 0.0), (4305, 0.008341378644202039), (4306, 0.0), (4307, 0.0), (4308, 0.0), (4309, 0.0), (4310, 0.005555318236956182), (4311, 0.0), (4312, 0.02304066651420699), (4313, 0.0), (4314, 0.0), (4315, 0.0), (4316, 0.0), (4317, 0.0), (4318, 0.0), (4319, 0.011215560285452085), (4320, 0.0), (4321, 0.0), (4322, 0.0), (4323, 0.0201667090761435), (4324, 0.028335064612722213), (4325, 0.015403112884076819), (4326, 0.0), (4327, 0.010273819497298619), (4328, 0.010437084470390292), (4329, 0.0), (4330, 0.005622252482957907), (4331, 0.0), (4332, 0.010968743320920219), (4333, 0.0), (4334, 0.013970770598724083), (4335, 0.0), (4336, 0.007145257694423685), (4337, 0.007355289875188794), (4338, 0.06411915388257915), (4339, 0.04761530638325824), (4340, 0.0), (4341, 0.0), (4342, 0.006332977258017985), (4343, 0.0), (4344, 0.014790541182401919), (4345, 0.010450199273439483), (4346, 0.014238438432993182), (4347, 0.007843555957569047), (4348, 0.004777678428125748), (4349, 0.0), (4350, 0.0), (4351, 0.021569765510742016), (4352, 0.0), (4353, 0.004981537325002226), (4354, 0.0), (4355, 0.00937269250453053), (4356, 0.008261634481072625), (4357, 0.0), (4358, 0.0), (4359, 0.009986961344714038), (4360, 0.0), (4361, 0.0), (4362, 0.0), (4363, 0.005725076597084438), (4364, 0.007748770434823084), (4365, 0.0), (4366, 0.007724239924114037), (4367, 0.00730625275418427), (4368, 0.0), (4369, 0.0), (4370, 0.0), (4371, 0.007352305151251537), (4372, 0.0), (4373, 0.009620335055464006), (4374, 0.01292318509784702), (4375, 0.0), (4376, 0.02856654476103793), (4377, 0.0), (4378, 0.014143941431068646), (4379, 0.011344967562918702), (4380, 0.008614434658942387), (4381, 0.0), (4382, 0.03389027065233788), (4383, 0.0), (4384, 0.006086358171885006), (4385, 0.005931000356213467), (4386, 0.0), (4387, 0.0), (4388, 0.006921883947374434), (4389, 0.0), (4390, 0.0344956821938345), (4391, 0.0), (4392, 0.005937443865862091), (4393, 0.0), (4394, 0.0), (4395, 0.014335438261854773), (4396, 0.009365324188218341), (4397, 0.0), (4398, 0.0), (4399, 0.004882931524327782), (4400, 0.0), (4401, 0.019728209885396288), (4402, 0.004759829744417771), (4403, 0.013421898248458767), (4404, 0.011097242156503767), (4405, 0.01984423074924302), (4406, 0.01651386141851895), (4407, 0.0), (4408, 0.0), (4409, 0.01337608017039692), (4410, 0.015341099246485421), (4411, 0.0), (4412, 0.0), (4413, 0.0), (4414, 0.0043165152409393925), (4415, 0.0), (4416, 0.0), (4417, 0.0), (4418, 0.009669002222050466), (4419, 0.014246021518228923), (4420, 0.0), (4421, 0.0), (4422, 0.0), (4423, 0.0), (4424, 0.0), (4425, 0.0), (4426, 0.0), (4427, 0.0), (4428, 0.007539307831462671), (4429, 0.005131561254912278), (4430, 0.005978555112704817), (4431, 0.011057142825727315), (4432, 0.012357042995799436), (4433, 0.0), (4434, 0.0), (4435, 0.005894477230164726), (4436, 0.028212735070387726), (4437, 0.0), (4438, 0.005047726567425352), (4439, 0.013028885668197161), (4440, 0.015200117696284338), (4441, 0.007976299890410793), (4442, 0.004988815929814413), (4443, 0.006762761971453193), (4444, 0.007444372991781053), (4445, 0.0), (4446, 0.0), (4447, 0.005440423447871628), (4448, 0.01777001287497478), (4449, 0.0), (4450, 0.013286314813292715), (4451, 0.0), (4452, 0.0), (4453, 0.006384491116233589), (4454, 0.022157212209310172), (4455, 0.025694579074424954), (4456, 0.0057852083736114135), (4457, 0.007841349826404616), (4458, 0.0), (4459, 0.011182837894520617), (4460, 0.005798437598455792), (4461, 0.08057232890991012), (4462, 0.005642508851975189), (4463, 0.009854955226686718), (4464, 0.0), (4465, 0.0), (4466, 0.007666896745804114), (4467, 0.019953484547456553), (4468, 0.015320612571799959), (4469, 0.0), (4470, 0.0), (4471, 0.0), (4472, 0.013044286653957203), (4473, 0.004805194096792876), (4474, 0.058843621769306464), (4475, 0.0), (4476, 0.0), (4477, 0.012990060125743014), (4478, 0.008053155542818116), (4479, 0.0), (4480, 0.0), (4481, 0.005449152262007325), (4482, 0.01560739755885994), (4483, 0.0), (4484, 0.0), (4485, 0.0), (4486, 0.029218076397033818), (4487, 0.0), (4488, 0.0), (4489, 0.0), (4490, 0.006856734677572493), (4491, 0.008458363585673178), (4492, 0.007921204777076066), (4493, 0.014551141245661517), (4494, 0.0), (4495, 0.0), (4496, 0.0), (4497, 0.0), (4498, 0.030130067864147295), (4499, 0.0), (4500, 0.0), (4501, 0.008001367865936797), (4502, 0.0), (4503, 0.014051754707204428), (4504, 0.005081254926894857), (4505, 0.0), (4506, 0.0), (4507, 0.0), (4508, 0.0), (4509, 0.017795140537979738), (4510, 0.0), (4511, 0.006825850346559099), (4512, 0.04789069093504156), (4513, 0.0), (4514, 0.0), (4515, 0.0056028924668247194), (4516, 0.008772446132758295), (4517, 0.00911328608521096), (4518, 0.0), (4519, 0.018996425752936686), (4520, 0.0), (4521, 0.0), (4522, 0.0), (4523, 0.011950377495661533), (4524, 0.031052559268224422), (4525, 0.0), (4526, 0.0), (4527, 0.0), (4528, 0.0), (4529, 0.0), (4530, 0.0), (4531, 0.021000763739013335), (4532, 0.0), (4533, 0.007753614012353274), (4534, 0.005379488127926966), (4535, 0.020607653819258654), (4536, 0.034119132711220475), (4537, 0.0), (4538, 0.0), (4539, 0.0), (4540, 0.0), (4541, 0.007947521436334821), (4542, 0.0), (4543, 0.005576054983156623), (4544, 0.0), (4545, 0.0), (4546, 0.0), (4547, 0.0), (4548, 0.004980019871690323), (4549, 0.005779230332092165), (4550, 0.013019575143462088), (4551, 0.00545737888564616), (4552, 0.01294204398660707), (4553, 0.05677855256779211), (4554, 0.007837738973782744), (4555, 0.0), (4556, 0.0), (4557, 0.01384308493520435), (4558, 0.007891287406464819), (4559, 0.0), (4560, 0.0), (4561, 0.0), (4562, 0.0), (4563, 0.0), (4564, 0.024323116031352773), (4565, 0.0), (4566, 0.022193098418630222), (4567, 0.0), (4568, 0.004759660552082954), (4569, 0.007138056384923175), (4570, 0.0), (4571, 0.016483178657456563), (4572, 0.0), (4573, 0.0), (4574, 0.0), (4575, 0.0), (4576, 0.02930476133849498), (4577, 0.0), (4578, 0.0), (4579, 0.0), (4580, 0.0), (4581, 0.026206621420087325), (4582, 0.0), (4583, 0.0), (4584, 0.0), (4585, 0.0), (4586, 0.017481630592712738), (4587, 0.01068972740417814), (4588, 0.00731837848888792), (4589, 0.05683469896082489), (4590, 0.009494412732913746), (4591, 0.01843282815987063), (4592, 0.00521999588699597), (4593, 0.00957463349294431), (4594, 0.010309190667821792), (4595, 0.009560509233100345), (4596, 0.06809823772550946), (4597, 0.0), (4598, 0.0), (4599, 0.0), (4600, 0.010423090553121645), (4601, 0.009139569043149914), (4602, 0.009399130500497434), (4603, 0.007099061930395865), (4604, 0.0), (4605, 0.019305353660851586), (4606, 0.0073528367881655985), (4607, 0.01235870624865005), (4608, 0.005246575758530619), (4609, 0.02741273678752284), (4610, 0.017304816173404628), (4611, 0.016921961842159685), (4612, 0.006583945821578307), (4613, 0.030495235233846844), (4614, 0.0), (4615, 0.0), (4616, 0.0), (4617, 0.0), (4618, 0.0), (4619, 0.006764869554404861), (4620, 0.007909929443798402), (4621, 0.005600949867725154), (4622, 0.0), (4623, 0.0), (4624, 0.023243680640697463), (4625, 0.0), (4626, 0.011398157821686811), (4627, 0.0), (4628, 0.0), (4629, 0.01138194664477915), (4630, 0.006054348683843071), (4631, 0.007122579878764216), (4632, 0.0), (4633, 0.009985382969093062), (4634, 0.004838617848692292), (4635, 0.0), (4636, 0.0), (4637, 0.0), (4638, 0.0), (4639, 0.0), (4640, 0.01082173455880906), (4641, 0.0), (4642, 0.006525155225700631), (4643, 0.008123293582642865), (4644, 0.0), (4645, 0.0), (4646, 0.018819672785513504), (4647, 0.0049917944808367185), (4648, 0.0), (4649, 0.011693157187111811), (4650, 0.0), (4651, 0.0), (4652, 0.02103487305183441), (4653, 0.006714019372502873), (4654, 0.0), (4655, 0.0), (4656, 0.009450892269739419), (4657, 0.0), (4658, 0.0114786474499231), (4659, 0.009161698217706545), (4660, 0.010467084397477643), (4661, 0.014573653281030581), (4662, 0.008871220898233246), (4663, 0.007581441849512523), (4664, 0.007946547616550084), (4665, 0.013566626893395857), (4666, 0.0), (4667, 0.0), (4668, 0.0), (4669, 0.011665064453438739), (4670, 0.0), (4671, 0.0), (4672, 0.0), (4673, 0.005457909707718716), (4674, 0.015299673984907365), (4675, 0.0), (4676, 0.02871690120165274), (4677, 0.0), (4678, 0.008750504303021793), (4679, 0.04979649079872735), (4680, 0.012009373752227017), (4681, 0.0), (4682, 0.01673768631101314), (4683, 0.0), (4684, 0.005738092087579787), (4685, 0.04168416314149523), (4686, 0.005266594997794708), (4687, 0.005143289013799846), (4688, 0.01355778487659518), (4689, 0.0048213028428845135), (4690, 0.015438781620503404), (4691, 0.0), (4692, 0.0), (4693, 0.0), (4694, 0.0), (4695, 0.01263985914790133), (4696, 0.0), (4697, 0.0), (4698, 0.006991004638683242), (4699, 0.0), (4700, 0.0), (4701, 0.009945019585465462), (4702, 0.0), (4703, 0.007954329699303963), (4704, 0.0), (4705, 0.00871056306781094), (4706, 0.0), (4707, 0.0), (4708, 0.005682364692407616), (4709, 0.021506155302953658), (4710, 0.0), (4711, 0.0), (4712, 0.0), (4713, 0.0), (4714, 0.0), (4715, 0.0), (4716, 0.011560224080050245), (4717, 0.0), (4718, 0.0), (4719, 0.0), (4720, 0.0), (4721, 0.016752881813915016), (4722, 0.02317127190866744), (4723, 0.007163537975494174), (4724, 0.0), (4725, 0.007661747755911372), (4726, 0.04907689102158947), (4727, 0.0), (4728, 0.025871806354274295), (4729, 0.0), (4730, 0.0), (4731, 0.0), (4732, 0.005542470012119382), (4733, 0.004957606915761902), (4734, 0.0), (4735, 0.0), (4736, 0.008521864083093363), (4737, 0.0), (4738, 0.006785319747498716), (4739, 0.026035565354771528), (4740, 0.0), (4741, 0.0), (4742, 0.10281762081073624), (4743, 0.005486472270032777), (4744, 0.03034505641409913), (4745, 0.0), (4746, 0.0), (4747, 0.016082764210216774), (4748, 0.010578190428384558), (4749, 0.0), (4750, 0.0), (4751, 0.0), (4752, 0.0), (4753, 0.0), (4754, 0.052502460657811244), (4755, 0.011074313952594929), (4756, 0.0), (4757, 0.0), (4758, 0.0), (4759, 0.0)]\n"
          ]
        }
      ]
    },
    {
      "cell_type": "code",
      "source": [
        "len(Recommendation_Score)"
      ],
      "metadata": {
        "colab": {
          "base_uri": "https://localhost:8080/"
        },
        "id": "3u02vYp5E4SZ",
        "outputId": "44b9cd88-ade5-4eb8-9611-01e1948bb80c"
      },
      "execution_count": null,
      "outputs": [
        {
          "output_type": "execute_result",
          "data": {
            "text/plain": [
              "4760"
            ]
          },
          "metadata": {},
          "execution_count": 87
        }
      ]
    },
    {
      "cell_type": "markdown",
      "source": [
        "Get All Movies Sort Based on Recommendation score wrt favourite movie"
      ],
      "metadata": {
        "id": "g0A9Lh0VFDgr"
      }
    },
    {
      "cell_type": "code",
      "source": [
        "# sorting the movies based on their similarity score\n",
        "Sorted_Similar_Movies = sorted(Recommendation_Score, key = lambda x:x[1], reverse = True)\n",
        "print(Sorted_Similar_Movies)"
      ],
      "metadata": {
        "colab": {
          "base_uri": "https://localhost:8080/"
        },
        "id": "IiHRzumQFEEs",
        "outputId": "2f34f221-80a6-4112-cd1a-1ef1f4a6f105"
      },
      "execution_count": null,
      "outputs": [
        {
          "output_type": "stream",
          "name": "stdout",
          "text": [
            "[(568, 1.0), (570, 0.1725797164930775), (1799, 0.16029690904096583), (1681, 0.15839055576567246), (1736, 0.13631193771885686), (32, 0.13157622658098977), (2361, 0.1258262093547312), (3459, 0.12481592012248177), (1113, 0.11911459986253045), (495, 0.11636509067014399), (3724, 0.11605851556314656), (2055, 0.11515681364261869), (1948, 0.10684184462847705), (668, 0.10563572314161081), (4742, 0.10281762081073624), (3383, 0.10100140279175941), (2810, 0.1009021693122404), (2113, 0.09966386363989405), (4279, 0.097335479521106), (1788, 0.09728183022405462), (904, 0.09657522958442546), (1540, 0.09644292925478026), (905, 0.09602345362119365), (1791, 0.09479514992945542), (682, 0.0932408436095904), (1333, 0.09144305627132066), (1732, 0.08805856994568259), (644, 0.08714671627484617), (3440, 0.08291000676899991), (450, 0.08229318882679645), (945, 0.08173322247693088), (2633, 0.08087945855028612), (4461, 0.08057232890991012), (1495, 0.07970756066889219), (170, 0.07828100477643878), (1611, 0.07786369627458209), (2812, 0.07532239526427591), (2000, 0.07479061128053564), (1735, 0.07440169635285748), (1755, 0.07404147852504542), (2421, 0.07353663723576144), (607, 0.07351564974259156), (1760, 0.07282550637775068), (418, 0.07252469488996124), (1111, 0.07044756937478117), (1961, 0.0701714172744294), (1713, 0.07014440226907401), (2616, 0.07012420670938516), (1341, 0.06994887957469295), (10, 0.06933984601503365), (1813, 0.0690799487952031), (1821, 0.06872414524219397), (2740, 0.06870539974644428), (4596, 0.06809823772550946), (3654, 0.06798271222591373), (3741, 0.067903740134586), (960, 0.06714700950232448), (1578, 0.06697412884050319), (4071, 0.06625006176718878), (1321, 0.06547543977398322), (3294, 0.06490130144244513), (3070, 0.06483488412861357), (966, 0.064807506112904), (2363, 0.06442656557027754), (1844, 0.06433150214772353), (3584, 0.06422438957718582), (4338, 0.06411915388257915), (1784, 0.06375051166335245), (1700, 0.06337352809086627), (842, 0.06304137893163383), (2898, 0.06208253887094642), (3871, 0.06121930049694066), (2787, 0.06106020949954839), (3457, 0.06081253681638309), (477, 0.06033596700818116), (703, 0.06026280789767224), (94, 0.06015492134137827), (635, 0.058994162013718265), (2814, 0.058949237278250466), (4474, 0.058843621769306464), (2319, 0.0586981719764897), (553, 0.058613424032197894), (2697, 0.05855564976838822), (4589, 0.05683469896082489), (4553, 0.05677855256779211), (2927, 0.056717866018427446), (2287, 0.05650035819484206), (286, 0.056257766323063216), (561, 0.0556071466050752), (232, 0.05547881138448986), (2665, 0.054953622995399146), (2335, 0.054877765435626634), (2025, 0.05418964604788622), (3955, 0.05398487947285441), (1254, 0.05350842808896973), (2612, 0.053401473918631565), (1069, 0.053230361947692185), (4156, 0.05313489719476558), (3099, 0.05286058011051273), (4754, 0.052502460657811244), (1789, 0.05158079142140056), (130, 0.05141107818208096), (856, 0.05079222381308415), (599, 0.05032127702650355), (3361, 0.050315460632042036), (1296, 0.05019558904195613), (4679, 0.04979649079872735), (452, 0.049693523971016826), (465, 0.0495422638430842), (4726, 0.04907689102158947), (2732, 0.04898003355715306), (1701, 0.04893096728857825), (80, 0.048516847436023205), (600, 0.04850733703188578), (2442, 0.048336327288179624), (3970, 0.047897312648477), (4512, 0.04789069093504156), (4339, 0.04761530638325824), (1369, 0.04754042491953371), (2867, 0.047207734008045996), (327, 0.04645353751129631), (3445, 0.04602635989935554), (4070, 0.04560342791746086), (1798, 0.04524398317800535), (1698, 0.04511974098400141), (2843, 0.044890574037485316), (301, 0.044817905517412986), (2299, 0.04476876826955624), (2107, 0.044618918381294344), (1195, 0.044548721589423454), (1384, 0.04431000862255042), (2070, 0.044199364284556446), (1478, 0.04413845770255415), (108, 0.044033287351934305), (3463, 0.043803941091309924), (2177, 0.04376914224062376), (125, 0.04360358615369131), (671, 0.04344763323752408), (363, 0.04337678762859527), (1118, 0.04333225693615774), (3022, 0.04318246360836841), (1332, 0.042906614005504676), (3820, 0.042695293479842786), (1374, 0.042590089763833994), (1305, 0.042513310921700125), (4110, 0.04245307355406761), (1575, 0.04212338052830189), (2114, 0.042114832396941394), (1908, 0.041938673617610535), (269, 0.04182985581369839), (56, 0.04169576644080891), (4685, 0.04168416314149523), (1331, 0.04141780023922247), (2622, 0.04135262872140809), (340, 0.04124960082107551), (3330, 0.04124957342426326), (1825, 0.04117750887804275), (1841, 0.0407834462720464), (122, 0.04077090935532815), (1314, 0.04068785369139414), (87, 0.04060114515504767), (162, 0.04052994974706985), (1266, 0.040279288076257865), (2427, 0.04025827711800199), (1511, 0.04022012808339881), (2865, 0.0401858912200139), (2260, 0.04016144150942281), (3141, 0.040123379641617885), (3632, 0.03976435042946928), (1467, 0.03976015307392011), (4200, 0.039530878476305924), (3958, 0.03952695821779776), (3129, 0.03945145997184385), (908, 0.03932444212343189), (3901, 0.03922875327985304), (2944, 0.03913861103388736), (2102, 0.03911847681585955), (610, 0.03911529424576049), (2691, 0.039097533266920205), (2136, 0.03909334653026683), (3213, 0.0390300675956435), (4245, 0.039023411288089976), (2513, 0.038922343707302444), (3839, 0.038808735020022855), (67, 0.03852145159363771), (4188, 0.03851794618390697), (82, 0.03844027086937212), (3980, 0.038372383005346115), (3845, 0.038336384106669515), (1197, 0.038227888928779916), (1878, 0.038101910624434646), (639, 0.03800145261699078), (1707, 0.0379993681932491), (6, 0.03793166798489076), (676, 0.037905532562383125), (469, 0.03780900701508442), (3073, 0.037714905965907736), (1985, 0.03765784591816329), (1515, 0.03764676165313939), (57, 0.03760789094481344), (489, 0.037598973539447855), (1278, 0.03756775331384107), (501, 0.037329787291941294), (725, 0.037322138297777405), (496, 0.03718134810754217), (1934, 0.037079481656541846), (491, 0.036932445076092585), (1310, 0.03691817900724739), (3160, 0.036776243247615324), (1129, 0.03673411487944683), (3205, 0.03652886861138896), (957, 0.03648427297407968), (3179, 0.03641735624640135), (751, 0.03639369692805419), (3011, 0.0363254162768788), (296, 0.03627663312297293), (300, 0.03624742740398998), (330, 0.03614333460298691), (1465, 0.036090082775976966), (2239, 0.036054422295532254), (706, 0.03604504985233577), (1510, 0.0360126872316025), (510, 0.035955010215811295), (2211, 0.035868004167819836), (4181, 0.035821050925064296), (298, 0.03574164808857238), (3657, 0.03549815813170826), (1258, 0.035480973960720384), (2277, 0.035392750907081126), (413, 0.035357164533431205), (715, 0.03533167955697475), (2020, 0.03525831107963381), (1418, 0.035249003753192364), (1412, 0.035077995770781495), (1903, 0.035012930363601126), (3870, 0.03489490209367576), (1301, 0.03488814365780092), (3276, 0.034841095630671275), (401, 0.034673517089906444), (4390, 0.0344956821938345), (2074, 0.034344586903561534), (1649, 0.03433851187492421), (742, 0.03432531290661453), (3069, 0.03432214494629126), (3395, 0.03421991887047281), (1675, 0.03420528411774581), (4536, 0.034119132711220475), (263, 0.03410633513223948), (1175, 0.03406754679725259), (2016, 0.03401996173748347), (3536, 0.034012449140022716), (4382, 0.03389027065233788), (3253, 0.03387824188329888), (2819, 0.03351365535354947), (2753, 0.03350585499751402), (1216, 0.03346730816799762), (1401, 0.03345825255912596), (555, 0.0334001541523857), (1249, 0.033363572233267226), (1955, 0.033351747127782), (3932, 0.03325674523041209), (4101, 0.033191823462813894), (3456, 0.03316154937169663), (585, 0.033066951862878544), (683, 0.03304931108417031), (2762, 0.033045923781019663), (3578, 0.032976010558561156), (3518, 0.032936087724961496), (4224, 0.03291066153435524), (93, 0.03289387177027978), (1569, 0.03286807919712239), (102, 0.03273206207572453), (2902, 0.032694110345296096), (1346, 0.032614885366641574), (2572, 0.03260166876649989), (91, 0.032521461173077915), (756, 0.032491460252511484), (934, 0.032318722410511015), (1114, 0.032281744830679304), (1365, 0.03227530513505116), (538, 0.0322291488497201), (297, 0.032210124184404276), (2940, 0.03220356711200702), (1945, 0.032200400133490445), (2729, 0.03203734987684021), (3024, 0.031982554882507994), (1017, 0.03198188320325692), (2582, 0.03180381573585778), (640, 0.031754041535537056), (212, 0.03174070572714114), (2301, 0.03165260099642905), (249, 0.031651350076836796), (3797, 0.031556435479750566), (3695, 0.03154753980717787), (752, 0.03151595851451697), (3587, 0.031367196046679396), (3522, 0.03132240375445759), (2014, 0.031127719002990842), (2714, 0.031080642443191753), (4524, 0.031052559268224422), (2259, 0.031006156676565932), (4047, 0.03091500266691384), (2222, 0.030874972393871814), (1414, 0.03071745127975686), (2097, 0.030657814770671407), (613, 0.030650029489507014), (1845, 0.030571652643704525), (3993, 0.030545465546377694), (9, 0.03054488393984629), (4613, 0.030495235233846844), (69, 0.030471683576596242), (4052, 0.03041963022494233), (2322, 0.030385254003041408), (4199, 0.030374152243206318), (4744, 0.03034505641409913), (17, 0.030312059526870473), (2038, 0.03027040599189313), (2472, 0.030234918690070025), (3384, 0.030148006675515635), (4498, 0.030130067864147295), (3360, 0.030125033757920645), (3323, 0.03008099994166326), (2237, 0.03002650353601792), (3525, 0.030003272097558847), (2766, 0.029990781458061416), (2283, 0.029945116572515713), (3730, 0.029846915963056195), (472, 0.029825447688982543), (2688, 0.02981229418037588), (3027, 0.02980726491391136), (328, 0.02974577727987034), (257, 0.029745772621425047), (3782, 0.029695995777367323), (3718, 0.029685413268045392), (1255, 0.029670885305743314), (158, 0.029627363802330803), (3903, 0.02960159003034829), (3454, 0.029601388636566923), (1721, 0.029586767218349963), (1650, 0.02958647580830822), (2474, 0.029533334245550377), (1969, 0.02952895725613547), (2095, 0.029513738461262942), (1810, 0.02948833697757962), (1368, 0.02947031673397848), (283, 0.029410807856056702), (1818, 0.029367060059447624), (1501, 0.029318052414522927), (4576, 0.02930476133849498), (1413, 0.029288739958120123), (55, 0.02925084462866278), (4486, 0.029218076397033818), (2672, 0.02919178476861452), (1600, 0.029158587756375774), (4203, 0.029144268318563486), (2285, 0.029132878036613064), (2682, 0.029112276021256933), (2774, 0.029039130152749733), (1033, 0.029032323813335877), (1134, 0.02901755713886181), (3408, 0.028981503475066873), (878, 0.02895621669937259), (191, 0.028954597611652404), (1468, 0.0288630775258945), (4676, 0.02871690120165274), (3592, 0.028642917896603705), (1678, 0.028581108838551424), (4376, 0.02856654476103793), (2094, 0.02854207543530411), (2386, 0.028431250053367052), (4324, 0.028335064612722213), (2236, 0.028285457951978208), (779, 0.028281338198455235), (322, 0.028271108950716065), (2062, 0.028264793334871495), (3698, 0.02826395532567382), (2245, 0.028247735028029547), (4436, 0.028212735070387726), (1982, 0.02819516117174392), (1828, 0.028117360848657215), (4095, 0.0280730503670936), (3470, 0.028003003426145503), (4051, 0.027976980395109156), (4136, 0.027973773503862737), (3404, 0.027969467786040918), (861, 0.027969295353580326), (731, 0.027944357672420424), (2955, 0.02792326578388623), (3108, 0.027900813185474632), (1719, 0.027892888833805033), (609, 0.027880888706517726), (35, 0.027876531143603184), (1338, 0.027846155639079936), (1131, 0.02784003351385926), (1802, 0.027821332310888257), (231, 0.027811261771448693), (1577, 0.027810449115748648), (687, 0.027653408265756414), (3515, 0.027615607714587466), (862, 0.027590629459156517), (906, 0.027570755088895595), (3003, 0.02751790386235337), (829, 0.027505335599816202), (1931, 0.02746696674910689), (1179, 0.027466572134341068), (4055, 0.02745968989356097), (1812, 0.027444213924142112), (4609, 0.02741273678752284), (2198, 0.02740010311119939), (247, 0.02738867453281909), (347, 0.027356876304836467), (1728, 0.027299182121769763), (3284, 0.027288795216481893), (748, 0.027220437277926293), (3122, 0.027178402991056234), (700, 0.02713495169859508), (2013, 0.027111284839806255), (368, 0.02709974397886246), (849, 0.02700537834295722), (3342, 0.026986219347564802), (2330, 0.026982134428727537), (4269, 0.02697588621606214), (2715, 0.026921025472670196), (432, 0.026907409713768735), (2060, 0.026894140899698257), (1150, 0.026886946981538352), (2250, 0.026813150279146106), (1288, 0.026758998979741152), (1084, 0.02675406379662073), (2782, 0.026751462229259632), (1697, 0.026714510260135445), (3385, 0.026692251125920337), (539, 0.026666168280392213), (3210, 0.026660219067879617), (1579, 0.02661409395552258), (1399, 0.026588130368796786), (780, 0.026564162150726177), (2803, 0.026531793886179454), (3648, 0.026517626658024086), (2584, 0.026444606677559213), (467, 0.026417873326459108), (1709, 0.026397688858851097), (451, 0.026376731347441194), (1351, 0.0263453533923343), (2359, 0.026312562667068436), (1968, 0.02627213269530331), (1833, 0.026239231234775093), (674, 0.02622670967171692), (4581, 0.026206621420087325), (4194, 0.026196549220747673), (2642, 0.026182989971151874), (2443, 0.02617803945929307), (3181, 0.026118063203528122), (4059, 0.026114728758639176), (2882, 0.026107662586663957), (2632, 0.026103865440384632), (1453, 0.026091409095373344), (2428, 0.026065224905661655), (1293, 0.0260626501787741), (4739, 0.026035565354771528), (2817, 0.026021967084409327), (3642, 0.02600957419066628), (1262, 0.025924247200621312), (726, 0.02588898499913094), (3869, 0.025884146810929386), (2790, 0.025882474450256043), (4728, 0.025871806354274295), (692, 0.025833871109394755), (1396, 0.025794572404772464), (3386, 0.025786914166113215), (1840, 0.02576113045485752), (2482, 0.02575918879531234), (106, 0.025736978638048268), (1430, 0.02573505986640872), (4455, 0.025694579074424954), (4210, 0.025674220233774133), (299, 0.02567376107936788), (3206, 0.02567240991404987), (3444, 0.025638659185464548), (1696, 0.025635594734428883), (2954, 0.02561275911819137), (2640, 0.025569216370286148), (4218, 0.025548041607249473), (2109, 0.02554803597371062), (1664, 0.02552506833229131), (1526, 0.025453701383047388), (3875, 0.025420493984971544), (206, 0.025418867285286233), (3759, 0.025394544243982832), (1090, 0.02538997238904088), (2022, 0.02533925970146715), (2847, 0.025333266159078972), (1210, 0.025229694316765923), (3133, 0.025222101378576826), (1443, 0.025205816014418164), (3416, 0.025175092063808163), (2586, 0.025171605450784965), (179, 0.0251662172845983), (2045, 0.02516259782013473), (821, 0.025148067837946663), (1692, 0.0250794074066697), (1466, 0.02506459115012839), (1588, 0.02504179570967967), (4303, 0.02500604773338326), (775, 0.024921927093798285), (336, 0.02491449643397783), (1471, 0.024905357050403698), (62, 0.024883623555795265), (306, 0.024874610137939242), (1994, 0.02485341452203748), (3407, 0.02476846381957102), (1276, 0.024760684948139274), (569, 0.024760238924230862), (3913, 0.024697512688698433), (2110, 0.024665332461333747), (1068, 0.024634510301916775), (95, 0.024630692163412824), (963, 0.02459432281639956), (2294, 0.02456523591978462), (25, 0.024543747863124105), (2591, 0.024536221821413455), (187, 0.024513864212664487), (1087, 0.024408316549598956), (3569, 0.024396603309930417), (3965, 0.02437343637571494), (1997, 0.02435716871230498), (815, 0.02435567626091806), (2376, 0.024345181021834944), (4564, 0.024323116031352773), (4196, 0.02429678023365666), (1251, 0.0242577153166196), (1051, 0.024257048223405853), (266, 0.024244013572044303), (3464, 0.02422228976191859), (3277, 0.02421539140038231), (1257, 0.024194564933699543), (1325, 0.02417164338828862), (2100, 0.024154688209444834), (3472, 0.024153125108047797), (3639, 0.0241491119709577), (2527, 0.02412712934025189), (2793, 0.024111299164467834), (3690, 0.024076842630699), (90, 0.024062562307133523), (37, 0.024048513116780173), (71, 0.02402513815725196), (2749, 0.02401139242924892), (2950, 0.02399979495394431), (4240, 0.02395844728038374), (3834, 0.02393343806264318), (4201, 0.023811400325886217), (3231, 0.023785038924808873), (293, 0.023782534752238002), (1387, 0.023762451787801196), (1522, 0.023756331298233357), (785, 0.023756112508698694), (24, 0.023745784005604266), (1597, 0.02374382273195079), (768, 0.023709556789230184), (2532, 0.02366424308163287), (1472, 0.023650202524433166), (1307, 0.02363682442119669), (1554, 0.023622352246815605), (2241, 0.02362199357852922), (3469, 0.023613993594132385), (3743, 0.02356581650660599), (757, 0.02355218079570421), (407, 0.023495993028179715), (2668, 0.02343885588699323), (719, 0.02339973687816433), (1173, 0.02338533752122912), (4001, 0.023378515736685986), (1666, 0.02336154974339976), (3586, 0.023358641517302155), (994, 0.02334176116953946), (2730, 0.023314017564064878), (1335, 0.023260643509745157), (4624, 0.023243680640697463), (4171, 0.02321488149900682), (822, 0.02319263574344942), (65, 0.023190983641046003), (4722, 0.02317127190866744), (1408, 0.023151940228712205), (1592, 0.02312761335268493), (4064, 0.023120469797294978), (1738, 0.02311543778283919), (2067, 0.023110390009082778), (3995, 0.023101277053659917), (4312, 0.02304066651420699), (3397, 0.023033953827632594), (2962, 0.02302882349660229), (4091, 0.023009698614268596), (3448, 0.022973308267717405), (123, 0.022956496810602012), (2844, 0.022944933296945885), (390, 0.022842386099710392), (1637, 0.02283707696026254), (251, 0.02282431681571573), (1601, 0.02282344066470706), (685, 0.022813069695985205), (658, 0.022772224243043433), (713, 0.022768025846523092), (1259, 0.022744822541657883), (428, 0.022741775519055065), (1380, 0.022727419264837415), (310, 0.022726994403562902), (118, 0.022708466769844296), (493, 0.02267136598711519), (4152, 0.02265097376628792), (1007, 0.02264065412442952), (0, 0.022636771233239664), (2822, 0.02262611356125259), (977, 0.022612536121960708), (1797, 0.022573344223125808), (1764, 0.022559307061519183), (144, 0.022531477322408736), (3173, 0.022486256406351473), (1787, 0.022479638873405566), (1001, 0.022457078758811394), (3801, 0.0224439021778743), (1185, 0.022428856462678285), (208, 0.022426104289357176), (3420, 0.022419026117261057), (1616, 0.022404523875694478), (3541, 0.022402307769944348), (811, 0.022394914788540173), (433, 0.02238974638728468), (3306, 0.022387132286877644), (1244, 0.022363682845268986), (1539, 0.022346521444700913), (3752, 0.02234094271818331), (852, 0.02233679517211358), (3156, 0.022328727351338763), (895, 0.02231266566623217), (935, 0.022266738304335017), (2005, 0.02226187293435896), (540, 0.022250687863496398), (492, 0.022201401709946975), (928, 0.022198037122994153), (4566, 0.022193098418630222), (45, 0.02218260375258142), (3398, 0.02218209378248054), (3184, 0.022173579721844035), (981, 0.022163101447495007), (4454, 0.022157212209310172), (1101, 0.022146649839744032), (124, 0.022120846530370105), (2830, 0.022114407086487084), (2242, 0.02209979639487945), (911, 0.022092710552702954), (3616, 0.022067383395159144), (1881, 0.02204752460918971), (3426, 0.022032179682021313), (2992, 0.022028884138743283), (2759, 0.022010678920053203), (1926, 0.022003132952940166), (1184, 0.021977111968362148), (2920, 0.021973078588808485), (3264, 0.02195874921553205), (3866, 0.02195180895993572), (2991, 0.021902447235187913), (2647, 0.021901480207000154), (1099, 0.021891186260938313), (684, 0.021854493796592246), (4077, 0.021828731020442495), (2316, 0.02181975571236832), (2456, 0.021812222419290248), (3399, 0.021748194731153775), (3344, 0.021731374968165355), (952, 0.02172313065864404), (1743, 0.02171078710834066), (2646, 0.021665617676018406), (809, 0.021647288397045546), (3270, 0.021619263667011668), (3172, 0.021598439196282508), (653, 0.02157064997884102), (4351, 0.021569765510742016), (1964, 0.021563235858243386), (4257, 0.021562405553915857), (101, 0.02155964389340187), (60, 0.021555109235228305), (277, 0.021548834966930608), (3480, 0.02153223706051127), (3362, 0.021521370917215087), (1354, 0.021512866422073666), (4709, 0.021506155302953658), (78, 0.021483347172106843), (329, 0.02147789451453337), (2680, 0.021460948929241982), (3846, 0.021444369029281672), (1725, 0.021437488129449466), (1116, 0.021426146112703194), (2826, 0.021396398060753247), (3043, 0.021386854703725262), (763, 0.021359003469618467), (222, 0.021326093859342837), (1256, 0.02129654085157229), (1162, 0.021293154002851217), (3136, 0.021282752516738626), (2609, 0.021280313742431275), (2795, 0.02127202866568976), (3577, 0.0212690206717173), (4012, 0.021244389697901923), (2178, 0.02123923795576922), (1381, 0.021234138123379025), (1265, 0.021232847156907493), (1935, 0.021224945922314185), (3100, 0.021223923103549272), (3267, 0.021181985673375196), (1241, 0.02116891126497674), (177, 0.021128243714708485), (3773, 0.021120767628776578), (1022, 0.021119231250027615), (1603, 0.021113360824489398), (1572, 0.02109983419481716), (1779, 0.021084549974996314), (523, 0.021055517630304606), (4652, 0.02103487305183441), (2969, 0.021018207903235737), (4531, 0.021000763739013335), (762, 0.020979326640657908), (582, 0.020958378804070033), (1345, 0.02094785636006237), (3593, 0.020947138961235116), (1109, 0.020938759580329234), (859, 0.020927189391636104), (897, 0.020921273119601347), (912, 0.020906680908612356), (4119, 0.020904764638174915), (440, 0.020881574234837916), (3747, 0.020869605187439678), (1043, 0.020868933783592267), (566, 0.020837241764419374), (3858, 0.020822402624769816), (2065, 0.020814392262751003), (425, 0.0207578112330161), (424, 0.020729231575953033), (631, 0.020728124724370647), (1206, 0.020702435235987), (1850, 0.020689292331369666), (2118, 0.020664804129429924), (4046, 0.020641301979802403), (949, 0.02063894861579512), (4535, 0.020607653819258654), (664, 0.020580584739874598), (1974, 0.020575083538877683), (2641, 0.02057487101043786), (648, 0.020574869668227906), (2503, 0.020570058583313146), (54, 0.020555520424461377), (314, 0.020533345028344807), (2093, 0.020520707949710768), (3465, 0.020506245083205258), (891, 0.020505109743566882), (3058, 0.020498700595749268), (2708, 0.020493686127941488), (4031, 0.020442848335429253), (4175, 0.020400775631011378), (720, 0.020396432617016118), (1695, 0.020394401474910617), (2050, 0.020392180859931865), (1046, 0.020382690585817133), (1957, 0.020343901608009016), (242, 0.020323961287647088), (1936, 0.020310054062974214), (221, 0.020304643843766255), (666, 0.020297422916223173), (3728, 0.020288384401374808), (1002, 0.020255237564795414), (3008, 0.02025331545336223), (3492, 0.020251033045668283), (273, 0.02024323408433775), (2689, 0.020225190681227953), (20, 0.020190082002958472), (1172, 0.020184309124911898), (2698, 0.020183768193710455), (654, 0.02016757354209394), (4323, 0.0201667090761435), (1250, 0.020163376099512412), (1011, 0.02015973886391296), (1734, 0.02015872467210468), (150, 0.02015138326569276), (4118, 0.020151018278301517), (2951, 0.02014369280435617), (919, 0.020121255242176186), (3191, 0.020113075519404673), (1386, 0.02010737974573141), (2910, 0.02010177916043082), (3641, 0.020095217303793617), (2221, 0.020056848193188564), (618, 0.020044508271480105), (417, 0.02002070382980381), (615, 0.02002063780763355), (597, 0.020013391525932588), (2712, 0.0199870316240034), (4467, 0.019953484547456553), (252, 0.019943146812873694), (1271, 0.01993368388397141), (651, 0.019919619684180438), (1630, 0.019890787986540502), (2037, 0.01987649093948193), (853, 0.019871721493913114), (4099, 0.019869898431590663), (3930, 0.01984539010936308), (4405, 0.01984423074924302), (321, 0.01983122229416112), (4032, 0.019814431746685672), (1218, 0.019806750766444406), (1012, 0.01980146177430805), (182, 0.019752765254794587), (4401, 0.019728209885396288), (4158, 0.019715545151365307), (3211, 0.019706874442063912), (86, 0.01969515023596829), (4247, 0.0196760646571948), (923, 0.01965483715235618), (2205, 0.019653662443222693), (661, 0.019647909464510557), (1163, 0.01964528840454629), (3310, 0.019638987507771957), (4000, 0.01963408608914048), (2103, 0.019619578377083932), (3957, 0.019612250921470786), (4184, 0.01960302098018774), (356, 0.01959426654972847), (3638, 0.019518021217704427), (292, 0.019460639696255493), (3864, 0.01944995576855704), (3798, 0.019395871508112277), (2738, 0.019368885563184737), (3502, 0.019338166403519534), (3566, 0.01932983108295278), (1855, 0.019327081188342435), (3722, 0.019324880800808214), (4605, 0.019305353660851586), (4270, 0.019303767578372752), (2031, 0.019297599248083684), (2510, 0.01928954958045944), (1283, 0.01927050297451429), (1587, 0.01926932768466919), (1105, 0.019213897308670014), (201, 0.01920112827701151), (546, 0.019181081175882353), (1385, 0.01915898852173015), (2052, 0.019111490379236554), (1239, 0.019034606550284234), (1913, 0.01902632792861075), (2998, 0.019018570981293437), (3531, 0.0190085210024777), (918, 0.019003091201978337), (4519, 0.018996425752936686), (1306, 0.018994739970482157), (354, 0.018982894154828293), (3630, 0.018973727968729988), (119, 0.018968303540995473), (230, 0.018959534233808233), (2444, 0.018952059966744338), (3114, 0.018912247574842826), (189, 0.018898836043923548), (1645, 0.01888007656443957), (3963, 0.018861922669116914), (4646, 0.018819672785513504), (295, 0.018811161429923087), (375, 0.01878622259891475), (846, 0.01877694830297763), (4069, 0.01877414157229581), (803, 0.01877311675652857), (3244, 0.01877216102326393), (3865, 0.018768807818183724), (218, 0.01876389112789128), (2937, 0.01876182621996984), (2027, 0.018751039630337467), (3826, 0.01873774287879026), (619, 0.01873279857689246), (468, 0.01872104146405383), (1529, 0.018718168343932737), (1436, 0.018709014599013946), (3655, 0.01867679912573991), (1253, 0.018661111439731277), (264, 0.01865704748671039), (234, 0.018655132611336), (482, 0.018623124666755253), (2501, 0.018616660228673663), (545, 0.018615198721892004), (341, 0.01857847976826211), (2565, 0.01855512021229888), (3174, 0.01854755520828886), (3450, 0.018536755558999758), (3477, 0.018533653225092903), (3557, 0.018523268308203587), (3596, 0.018517550993616058), (1591, 0.018510214789845353), (3574, 0.01849264687919227), (334, 0.01847738771558197), (973, 0.018468068577997945), (909, 0.018443892522800306), (951, 0.018439606741909368), (4591, 0.01843282815987063), (1312, 0.018426333802204722), (1613, 0.018422689255443644), (3221, 0.018409906133291472), (530, 0.01840473762614412), (4061, 0.01838946341656198), (2426, 0.01837770917784697), (4009, 0.018362933108304183), (4283, 0.018355941777118398), (3823, 0.018346778981045406), (2625, 0.018334376984326342), (2660, 0.018333756210656273), (3748, 0.018330585906857343), (3568, 0.01831807832031912), (1308, 0.018297168219907685), (1223, 0.018293448726210637), (1224, 0.018282894386153055), (483, 0.018267490802523628), (2897, 0.018260743767013442), (1567, 0.018250496169103462), (984, 0.01824349555810465), (28, 0.01823528398079416), (2553, 0.018232538925392564), (128, 0.018207176619877426), (4112, 0.01820162962685208), (1060, 0.01819024279065384), (1809, 0.018190185649765524), (2185, 0.01818729247246477), (260, 0.018172224749784735), (1005, 0.018160535942645547), (455, 0.018138408922023876), (3126, 0.01812801651183979), (1988, 0.01812627507816053), (2265, 0.018081209250503844), (1726, 0.018080843017623888), (2524, 0.01807496006514607), (241, 0.018059743208209182), (3786, 0.018047513428143272), (3400, 0.01802481502629535), (4015, 0.018016787186610747), (3424, 0.018015694439106396), (152, 0.018012572147965172), (519, 0.018008840262421708), (3466, 0.017992724730965404), (1459, 0.01799152408196545), (261, 0.01798931198063723), (1493, 0.0179738567664427), (1714, 0.017971544438498317), (723, 0.01795295890368738), (736, 0.017945740949881897), (3083, 0.017939647441794788), (3065, 0.017930986596959755), (2919, 0.017905107408900514), (3877, 0.017867040270894766), (303, 0.01780387671214063), (2706, 0.017795584278536607), (4509, 0.017795140537979738), (3598, 0.017792880424040116), (1608, 0.017784253005774246), (4448, 0.01777001287497478), (1682, 0.017746702717163693), (1474, 0.017723730221797445), (3067, 0.01772119390154922), (3880, 0.017717986894610148), (96, 0.017714616480674163), (1041, 0.017695737556162536), (864, 0.017683251160126277), (3394, 0.017677946978289068), (3051, 0.017676682394330033), (446, 0.017612300258114784), (992, 0.01760389593726832), (3681, 0.017591882123546086), (3860, 0.017586124900810227), (2763, 0.0175668245613097), (2500, 0.017553180157052005), (3275, 0.017549301767649496), (68, 0.01750943770432509), (1870, 0.01750533191044605), (899, 0.01749919863819806), (2638, 0.017498770891601782), (788, 0.01749860676574435), (4586, 0.017481630592712738), (2121, 0.017479130421037346), (1192, 0.017477329406346248), (3096, 0.017474630928119465), (58, 0.017471104147035624), (1494, 0.01746967527519447), (4094, 0.017469422577477207), (511, 0.017462023520209497), (2044, 0.017460605307735907), (3784, 0.01745104195825891), (3723, 0.017434134004238613), (2559, 0.01742077501260648), (1379, 0.017415229267191128), (915, 0.01741304198898775), (3226, 0.017395442303010825), (3710, 0.017394015576865575), (1967, 0.017388687539306776), (1157, 0.01738408364175518), (2789, 0.017383658547807088), (2145, 0.017362023630558356), (142, 0.017319399247914813), (3998, 0.017315439994405785), (2168, 0.01730682793499537), (4610, 0.017304816173404628), (1914, 0.017239126965330535), (3742, 0.01722906899341918), (1895, 0.017220184716566285), (1858, 0.017212461490980685), (73, 0.017198142025046194), (2546, 0.017192938464341723), (3227, 0.01717329769381772), (1939, 0.017170651930884087), (284, 0.01716014853637439), (1194, 0.017155748172988056), (1425, 0.017153635773496084), (2777, 0.017117863236123472), (1104, 0.017107545485965447), (4045, 0.017104646599798212), (63, 0.01705804583556635), (1420, 0.016987503909120225), (382, 0.01698384764686557), (2338, 0.01697083071377231), (1586, 0.016934177447974638), (2160, 0.01692492201759151), (4611, 0.016921961842159685), (1626, 0.016919002970074804), (1500, 0.016868111657929064), (1329, 0.016834360841646013), (2075, 0.016832959080858422), (603, 0.016829206628796306), (2550, 0.016815156305447946), (3738, 0.01679428936809972), (1220, 0.016782730514060144), (3559, 0.01678028691978038), (594, 0.01676572914857554), (3907, 0.016753905856228078), (4272, 0.01675328452784232), (4721, 0.016752881813915016), (219, 0.01674641420443504), (4682, 0.01673768631101314), (4142, 0.016720530920853863), (411, 0.01670500753666781), (4168, 0.01669941721676105), (1627, 0.01669769372862305), (962, 0.01669498525820016), (1219, 0.01668215181752146), (1987, 0.016676281852191138), (871, 0.01667252839266652), (3914, 0.01661733670280396), (851, 0.016598987460211122), (3852, 0.016576313307016328), (168, 0.01657568094343415), (825, 0.01657470842281563), (287, 0.016569994979632945), (3393, 0.01656201184595246), (2096, 0.01653608716993496), (2568, 0.0165272637437044), (4406, 0.01651386141851895), (2957, 0.01649426570201023), (4571, 0.016483178657456563), (1171, 0.016476705874648508), (733, 0.016462423016296586), (681, 0.01645934997881737), (4205, 0.016450878779064912), (1772, 0.016449631399096973), (2637, 0.016445265781178168), (3778, 0.016396255477293294), (1535, 0.016390496965855945), (3458, 0.01637428996886786), (1352, 0.01637189483505773), (3303, 0.01635301047501838), (3453, 0.016336330216191016), (1815, 0.01632281729159928), (2530, 0.016300369456768077), (2964, 0.01628230799281766), (2024, 0.016261360668847535), (2175, 0.016244646485346816), (497, 0.01622594820069512), (1559, 0.016218925926828234), (2, 0.016191262264571463), (3982, 0.016188104289024372), (167, 0.016178616579035278), (1071, 0.016175212839999276), (589, 0.01615296742592882), (512, 0.016147689692314685), (2837, 0.016144322372383783), (1124, 0.01612364663105068), (2573, 0.01611384891140053), (259, 0.016093351499512656), (4747, 0.016082764210216774), (2481, 0.016052427867853183), (3152, 0.016048461123670355), (2058, 0.016032400052754553), (2696, 0.01602586993506516), (1403, 0.016024925641926695), (3744, 0.016022528615161957), (3364, 0.016019408878536895), (3435, 0.016003904116583898), (4106, 0.01599115018072749), (225, 0.01596641882110237), (4007, 0.01596235629413758), (2878, 0.015949514388665615), (1657, 0.015944355158748154), (2567, 0.015941602655219073), (749, 0.01592518405822487), (3483, 0.01592266485054033), (2526, 0.01590110064268601), (699, 0.01588704675758732), (2540, 0.01588448836300252), (1274, 0.015873913998202795), (1544, 0.01585196904781104), (3468, 0.015839814809115796), (1774, 0.015825936480660007), (38, 0.015820092983341465), (2071, 0.01579724613709088), (202, 0.015783171644489228), (193, 0.015779116996586812), (1212, 0.015769704537518144), (3387, 0.01574238181176486), (2479, 0.015736925663576685), (4223, 0.015734886874758602), (2286, 0.01572949766183588), (874, 0.015707097083022144), (48, 0.01570252863608343), (1843, 0.015691146433440138), (2895, 0.01568062288155177), (153, 0.015677467107957022), (2931, 0.015648637122289602), (1860, 0.01564398239520838), (1091, 0.01562824931736296), (3251, 0.01561897541244867), (4482, 0.01560739755885994), (727, 0.015605279702094303), (3223, 0.015569782793400705), (1168, 0.015542265867261155), (2707, 0.01553050987362671), (1629, 0.015516489940401352), (1547, 0.015455524774530657), (3425, 0.01544460054964817), (4690, 0.015438781620503404), (4292, 0.015433932413072948), (3062, 0.015416422965300942), (1986, 0.01541302692159597), (3419, 0.015404958083325905), (4325, 0.015403112884076819), (353, 0.015398302819187509), (1437, 0.015355196895652744), (294, 0.015342535969784295), (4410, 0.015341099246485421), (2982, 0.015337892170491476), (1506, 0.015334974761415626), (4468, 0.015320612571799959), (2791, 0.015300864624882933), (4674, 0.015299673984907365), (3438, 0.015289283223762298), (3293, 0.015282030706254671), (397, 0.015267890470027332), (3089, 0.015248937445916861), (1398, 0.015247007775434217), (2296, 0.01523662549168332), (4440, 0.015200117696284338), (3618, 0.015193530528354935), (500, 0.015191898758017842), (1377, 0.015179188797592865), (1756, 0.015168428661247652), (689, 0.015164089591298432), (53, 0.01515442975570288), (12, 0.015148504148406846), (282, 0.015147311764493493), (2975, 0.015145544385460638), (486, 0.015137665476756278), (1659, 0.015136741857597686), (2956, 0.01513619076203963), (3302, 0.015128204872236747), (4238, 0.015124374813386247), (764, 0.015123065165096539), (848, 0.015112811619037088), (2164, 0.015095105644794844), (840, 0.015094347490079952), (2858, 0.015088518692475617), (3560, 0.01508472458736958), (1553, 0.015077209221068612), (2981, 0.015070392670436946), (2959, 0.015060466856897575), (4005, 0.015014507906062825), (1475, 0.015001148350961415), (1460, 0.014992042473681522), (85, 0.014970209499640449), (403, 0.014959225782686596), (1911, 0.014953866580886833), (288, 0.014951268396959032), (1067, 0.014935359191209176), (2888, 0.01489050857169185), (1883, 0.014851216461219764), (1240, 0.014847390113174229), (1031, 0.014844368228397974), (2224, 0.014836791395359825), (414, 0.01482083939313925), (3180, 0.014801317007288334), (4019, 0.014796459932619143), (332, 0.014796091697868174), (4344, 0.014790541182401919), (3, 0.014783383508613974), (612, 0.01477747737804516), (1519, 0.014776932754344756), (1864, 0.014760574480330177), (1949, 0.014756058167931331), (3532, 0.014751894777715456), (3908, 0.014724118981243121), (1270, 0.014689294316356311), (3201, 0.014687000990457198), (2381, 0.014677055213666116), (1615, 0.014669533686601812), (4239, 0.014669328009858632), (2356, 0.014666589919524665), (3516, 0.014657291302844998), (2066, 0.014657290761198044), (3950, 0.014656815681460158), (2404, 0.014652424428950839), (3246, 0.014650206740620196), (2398, 0.0146461148666341), (1164, 0.01463714854072242), (4222, 0.014632910855889053), (2514, 0.014622792058468975), (716, 0.014611475972695461), (2269, 0.01460904286175246), (1056, 0.014605617603342972), (441, 0.014603173548184724), (3972, 0.014592135425241287), (1502, 0.01457447942655153), (4661, 0.014573653281030581), (3840, 0.014569495754143881), (921, 0.014567325608032682), (4493, 0.014551141245661517), (2574, 0.014537905630609377), (710, 0.014531063575953681), (3889, 0.014526314807918524), (3346, 0.014523206827600402), (2555, 0.014486037944422152), (1106, 0.014485785934622642), (2411, 0.014480252106552542), (4290, 0.014477350181334697), (3202, 0.014470056421224519), (3602, 0.01445595960972943), (19, 0.014451538578964914), (228, 0.01444908061458879), (3736, 0.014437676680610013), (2119, 0.014427956412181907), (1758, 0.014426221129073213), (1280, 0.014413106720791572), (3163, 0.014408575466158549), (1904, 0.014406530528259963), (272, 0.014403778936688115), (3534, 0.014402677031149797), (3159, 0.01439956698010829), (630, 0.014393220931231824), (1708, 0.014384138214760861), (3937, 0.014371542609647422), (1640, 0.014361885914421032), (551, 0.014359663631197811), (1050, 0.014355142781552437), (807, 0.014352742495803147), (3484, 0.014349976494354709), (1705, 0.014349831770554839), (2039, 0.014344042679318388), (2318, 0.014340061069384867), (1014, 0.014336994023472601), (4395, 0.014335438261854773), (159, 0.014331545750992866), (1836, 0.014288168889624865), (3132, 0.014287041136563677), (4125, 0.014283115419706931), (3009, 0.014270663088060853), (550, 0.014262853674435139), (3787, 0.014262839258658722), (2522, 0.014257145495622365), (2860, 0.014255689650993896), (4419, 0.014246021518228923), (4346, 0.014238438432993182), (79, 0.014230128341359546), (3751, 0.014229856023997265), (3551, 0.01422975476720183), (3977, 0.014226668271195723), (2455, 0.014225726103780516), (3697, 0.014216075772287666), (2072, 0.014207600554554282), (2627, 0.014196831095483576), (691, 0.014193631994270131), (2506, 0.014191597560238134), (1584, 0.014190317819941674), (4114, 0.014189209345394594), (1570, 0.014184765425607981), (2043, 0.014167430742153942), (3076, 0.014164761584221362), (826, 0.014160334413619075), (1653, 0.014159457078765907), (2371, 0.014148532744934215), (4378, 0.014143941431068646), (1142, 0.01414130782495097), (4128, 0.01412392145857895), (15, 0.014114842406579996), (1328, 0.014106416091359188), (1023, 0.014105393509293308), (40, 0.014102611470655446), (3684, 0.014100337589817089), (1350, 0.014087749401206728), (956, 0.014075343511358055), (4062, 0.014072092582995308), (1225, 0.01406925154849148), (794, 0.014066187528526519), (2583, 0.014064355363397021), (4503, 0.014051754707204428), (169, 0.014038592990928835), (412, 0.014031200426131884), (2246, 0.014020887201008546), (4289, 0.014020750380628687), (3162, 0.01401357352459412), (875, 0.014010643872014946), (2755, 0.014007664501981511), (3365, 0.01400065024583345), (990, 0.013993881414734982), (872, 0.013987875716803138), (2015, 0.01398312734932369), (3656, 0.013982361197510723), (4334, 0.013970770598724083), (1483, 0.01396680875466923), (2645, 0.013956465322123347), (463, 0.013948687902857573), (1232, 0.013923109794310528), (3979, 0.013919221218512273), (2413, 0.013912977158933944), (3491, 0.013909192697294669), (2473, 0.013900765868888235), (887, 0.013895096565288593), (165, 0.013881147887768213), (3354, 0.013878415440672334), (3661, 0.013867097115902583), (814, 0.013859368454131535), (537, 0.013857381617984776), (3060, 0.013846034700844797), (4557, 0.01384308493520435), (1044, 0.013841246125218188), (2208, 0.013832570311858956), (110, 0.01383192275156844), (1166, 0.01382543718124139), (151, 0.013821724963655637), (2432, 0.013816979616300162), (3134, 0.013808850407377334), (867, 0.013804266154709185), (3647, 0.013791412265382096), (4211, 0.01378944687535503), (657, 0.013779523903454076), (2412, 0.013769809619434428), (437, 0.01375468625118316), (2340, 0.01375174198123564), (3508, 0.013750867010999004), (1486, 0.013749950154929826), (1141, 0.013743653643412256), (1901, 0.013738943429840377), (2554, 0.013733693039535665), (1571, 0.013729335786376355), (75, 0.01371752961539535), (36, 0.013711814660840304), (4294, 0.013711145712961254), (1871, 0.013709660287602836), (3706, 0.013708768712067946), (394, 0.013706426966846864), (386, 0.013700583755676989), (4056, 0.013693568629783843), (1327, 0.013687233570103308), (3968, 0.01368295411269893), (1108, 0.013681769487740789), (3849, 0.013679886453059394), (3812, 0.01366791790429386), (961, 0.01365871482460694), (1993, 0.013658592508270555), (1514, 0.013656813600790914), (2353, 0.013648271378440036), (4115, 0.013643560572743687), (938, 0.01361727271319926), (2234, 0.01361251787920464), (4107, 0.013610424034961951), (84, 0.01360044962998511), (2339, 0.013600025708980503), (965, 0.01359586113787183), (439, 0.013593801311110295), (3299, 0.013588490624817111), (793, 0.013586323574103956), (3461, 0.013586317352332821), (4254, 0.013582322049671415), (1214, 0.013579238523009317), (1796, 0.013572240996802655), (320, 0.01357010515824483), (4665, 0.013566626893395857), (4688, 0.01355778487659518), (3144, 0.013552900867598142), (2562, 0.013551520902856162), (1028, 0.013540756675671204), (2086, 0.013537009368623327), (2713, 0.013522535377586865), (1045, 0.013519513416041962), (847, 0.013516347423632979), (3124, 0.01351607128179879), (2040, 0.01351420572828932), (258, 0.013511192870593951), (456, 0.013505457238982468), (1376, 0.013503985897445503), (2167, 0.01348581740012915), (2125, 0.013462892831145074), (4076, 0.013459901556393736), (946, 0.013433996136333521), (400, 0.013428646004042413), (1981, 0.013424415425965047), (4403, 0.013421898248458767), (343, 0.013417443926686154), (2408, 0.013417416413199833), (665, 0.013414524058798566), (868, 0.013414202723162322), (2195, 0.013413155762914755), (1781, 0.013408234053427736), (374, 0.013395006950256933), (72, 0.013377599579611566), (223, 0.013376121276657823), (4409, 0.01337608017039692), (1683, 0.013375094895713431), (592, 0.013373484700846374), (358, 0.013359047021876758), (732, 0.013352925709861505), (988, 0.013348854018143657), (4103, 0.013341573604211931), (141, 0.013340969443269506), (528, 0.013339851788657806), (883, 0.013338852435375971), (914, 0.013337620996834906), (50, 0.01332992910478383), (1440, 0.013327488877851273), (1925, 0.013327367441743534), (948, 0.013325292370387872), (3467, 0.01332414462891145), (498, 0.013310584966065513), (1771, 0.01330599142091282), (714, 0.013296905202253623), (1269, 0.013294306924024956), (4450, 0.013286314813292715), (1617, 0.013284555286420042), (3558, 0.013283633342152252), (2436, 0.013277222559748971), (3427, 0.01327204408133575), (1211, 0.013267781010145136), (2549, 0.013265426308122698), (349, 0.013255865824576408), (2504, 0.013251520043067764), (1742, 0.013250790975825285), (2873, 0.01324810168042146), (1680, 0.013247110140816892), (1782, 0.0132398436206103), (204, 0.013238611700633134), (138, 0.013235025484477834), (2253, 0.013230531367582527), (3093, 0.013230033791005789), (2725, 0.013220224832032572), (1811, 0.013218678678173463), (430, 0.013196381754088304), (4226, 0.013194234478269184), (1876, 0.013186242267493454), (59, 0.013185694271754388), (572, 0.013159234248838747), (3520, 0.01315646495350937), (620, 0.013148225012681742), (1654, 0.013141090356360673), (3597, 0.013132952223192013), (737, 0.013110154257058405), (2418, 0.01309459458297791), (3539, 0.01308372063178849), (548, 0.013083038122575684), (936, 0.013081658561927941), (2581, 0.013074832584032522), (2064, 0.013060387943764911), (3218, 0.01305605819732145), (819, 0.013056001995735223), (3713, 0.013054031478424166), (1604, 0.013053027229852066), (2892, 0.013051171780935815), (4472, 0.013044286653957203), (2869, 0.013036711785185675), (4439, 0.013028885668197161), (3700, 0.01302811804650527), (2153, 0.013024022133869183), (4550, 0.013019575143462088), (1015, 0.013017793787653737), (1846, 0.013003976213267706), (3239, 0.012996896829519784), (4477, 0.012990060125743014), (3102, 0.012971875826711807), (2112, 0.01295748162989344), (3338, 0.012946611483919013), (3917, 0.012942676406398401), (4552, 0.01294204398660707), (4374, 0.01292318509784702), (2298, 0.012921104552985688), (1998, 0.01291546543481122), (3203, 0.012914976935662256), (3822, 0.012913047861099612), (238, 0.012910158027581192), (3367, 0.01290794771225017), (3629, 0.012905003567688022), (997, 0.01290489994991876), (305, 0.012901908607541548), (342, 0.012893099593631031), (2868, 0.012892658318720341), (3919, 0.012890523737295222), (2552, 0.01288836657237682), (1315, 0.012883493755209667), (315, 0.012882221152478019), (3847, 0.012871103041607077), (975, 0.012864915157865846), (1718, 0.012864538977296633), (1992, 0.012843760971251846), (3582, 0.01284301870830834), (2813, 0.012837945896988869), (1487, 0.012836730298777143), (3127, 0.012836297390309313), (1533, 0.012833335384607389), (4117, 0.01282961856330283), (586, 0.012826865488241733), (3345, 0.012824156478256587), (3633, 0.012817445560699532), (3563, 0.012804243361569063), (2652, 0.01279096447560018), (2073, 0.012784777132020612), (1951, 0.012776732286588047), (1562, 0.012776079225331364), (3841, 0.012770790393987139), (2367, 0.012770234100082378), (359, 0.012748709093052075), (1207, 0.012706610579341318), (2303, 0.012691804064045051), (2544, 0.01268636847276181), (291, 0.012681561270596182), (2117, 0.01268119622118443), (4255, 0.012678285452499466), (1135, 0.012661941700993082), (4145, 0.01265304199256289), (2487, 0.012651500436347385), (721, 0.012641759472878676), (4695, 0.01263985914790133), (1373, 0.012638897627830608), (1378, 0.012637748001857034), (954, 0.012637641533294828), (404, 0.012636388548927409), (2798, 0.012635190668849314), (1503, 0.012613028148380452), (2150, 0.012602896427922863), (968, 0.012601957505999987), (2816, 0.01259963598770099), (1302, 0.012581778514056348), (2656, 0.012581391853071179), (1898, 0.012560695202764056), (3709, 0.012557557574014853), (2445, 0.012556266189855425), (577, 0.012555129908254206), (4023, 0.012552385807424168), (1006, 0.012551411209688172), (4141, 0.012551264539383633), (3643, 0.01254370633727463), (2134, 0.012538662653914788), (3783, 0.012536382820453305), (2525, 0.012524083416070933), (4182, 0.01251449710889446), (3599, 0.012512771894659581), (820, 0.012510959778393558), (3795, 0.012508721541541161), (3232, 0.012507673906824592), (1619, 0.012505861441931256), (2139, 0.012485600696406618), (171, 0.012483722762660573), (3495, 0.012482449385603745), (339, 0.012479412674321082), (4193, 0.012474698784829066), (2276, 0.012473577567258257), (3711, 0.01245814151461809), (3609, 0.01244806954593933), (614, 0.012447820142226625), (3689, 0.012437146310734042), (161, 0.012436847615252834), (369, 0.012427593285180397), (1688, 0.012425632731766008), (1190, 0.012418553863483495), (2494, 0.012416084944509215), (1750, 0.012404673170280895), (1633, 0.012401902660979658), (1672, 0.01239224193806936), (4025, 0.012391043270256516), (1245, 0.012382007662528335), (137, 0.012374145776358182), (3318, 0.012368493591668521), (4607, 0.01235870624865005), (4432, 0.012357042995799436), (1226, 0.012353330163644519), (1048, 0.012351944837303225), (3121, 0.012350826744419667), (2478, 0.012330642118786173), (46, 0.012328863570354336), (898, 0.012318680511429172), (1363, 0.012311683121078979), (1610, 0.012302998684756228), (4011, 0.01229928416484565), (1074, 0.012295512370893345), (61, 0.0122889273513384), (3135, 0.012279141786735984), (316, 0.012274413570602341), (317, 0.01226780852530673), (2720, 0.012265180034222455), (243, 0.012260050727583693), (2180, 0.01225976705083783), (1261, 0.012256316862285994), (880, 0.012252615491966448), (1146, 0.012242133887523599), (1461, 0.012228901088227627), (2575, 0.012221439846739157), (3594, 0.012221137612433968), (1196, 0.012214913297415982), (3265, 0.012206943777984433), (1077, 0.012194980779587248), (4236, 0.012193640869231819), (1552, 0.012170436461343113), (808, 0.012162569732043552), (2193, 0.012156642361849743), (207, 0.012154786059865808), (4153, 0.012133316886353825), (323, 0.012126480697475066), (881, 0.012125802229338213), (443, 0.012123770717243564), (3923, 0.012116782027343124), (4133, 0.012116719564143664), (1275, 0.01209498451250179), (116, 0.012092852925646255), (409, 0.012091895663906387), (1273, 0.012091127448521324), (521, 0.012082533759743053), (2452, 0.01207430767392538), (3033, 0.012073068618992419), (3007, 0.012064440560749765), (1551, 0.012062769705664523), (426, 0.012056905785857837), (64, 0.01205619257475245), (3328, 0.012048374481992833), (2433, 0.012038979741095968), (2012, 0.012035996413802715), (2903, 0.012031637446382026), (2320, 0.012029801177824592), (1096, 0.012024992966605641), (2389, 0.012021372448522093), (4680, 0.012009373752227017), (345, 0.01200253783569396), (2921, 0.011996519633293273), (4523, 0.011950377495661533), (3085, 0.011940643186043817), (355, 0.011939375849882151), (4180, 0.011938413222132396), (3237, 0.01193169314937911), (1, 0.01192230062237528), (346, 0.011921160845873666), (1243, 0.011907857658963772), (3066, 0.011907692867326642), (1366, 0.011900937538357203), (2561, 0.011900109261003275), (2808, 0.011893634152505436), (813, 0.011885523261122358), (3816, 0.011877597887739937), (1754, 0.01187533849257097), (3405, 0.011870803442373875), (2047, 0.011865770144333983), (1848, 0.011860320858260255), (2935, 0.01185449302817169), (3151, 0.011853757643026808), (2854, 0.011851853114008935), (3948, 0.011851751689559816), (2181, 0.011844148684197094), (2447, 0.011833700290357851), (2170, 0.01183344684905517), (290, 0.01183288112650943), (2751, 0.011818783809812775), (2480, 0.011797353096162996), (1670, 0.01179136924594935), (3279, 0.011788546810860648), (2056, 0.011774620893255329), (4189, 0.011767726341307764), (2348, 0.011767402730581737), (3921, 0.011760836435093852), (2485, 0.011752695053010636), (2345, 0.011743281499300727), (1521, 0.01173470686411263), (1458, 0.011733481074342043), (870, 0.011730405565971925), (3704, 0.011721397560537198), (1055, 0.01171635789209217), (29, 0.01171289632880789), (3548, 0.011699736616973965), (1896, 0.01169947787175143), (4237, 0.011697059878743659), (601, 0.011694018280952147), (4649, 0.011693157187111811), (136, 0.011690032406758769), (882, 0.011687359760686904), (1089, 0.01168235616970882), (943, 0.011681908196176902), (1745, 0.011681859946897933), (7, 0.01167660203435437), (1446, 0.011673274118477586), (4097, 0.011670993401439416), (4669, 0.011665064453438739), (2084, 0.011663496424912406), (2930, 0.011656648346036986), (3619, 0.011634418160411886), (4217, 0.011621250634483434), (1452, 0.01161180958256776), (2615, 0.011605329232569114), (371, 0.011604500997565237), (1392, 0.01158656531903776), (1537, 0.011569350504150006), (3414, 0.011569185984822962), (3046, 0.011566483676951084), (1565, 0.011562108466460224), (4716, 0.011560224080050245), (669, 0.011559491099353588), (2662, 0.011552156017403238), (4286, 0.011545406336085888), (262, 0.011545373599033662), (1793, 0.011542937592758085), (1137, 0.011534719371051255), (643, 0.011507030726749929), (2742, 0.011502183172142647), (4658, 0.0114786474499231), (3259, 0.011473847561184882), (3240, 0.01146968655485775), (2859, 0.011469359864514379), (3374, 0.011465459147409438), (602, 0.011458902342275935), (2053, 0.011458436624648656), (3768, 0.011448304414614129), (34, 0.011440286560292298), (2630, 0.011434583111427022), (2963, 0.011428879987338394), (3916, 0.011420297702438624), (3699, 0.011418090624156182), (1564, 0.011413085423588003), (1159, 0.011412078404289119), (4038, 0.01140662385682891), (4626, 0.011398157821686811), (3327, 0.011395912667724543), (2566, 0.01139377349151401), (1309, 0.011386557716939829), (4629, 0.01138194664477915), (3677, 0.01137539761567039), (2377, 0.011370042334412868), (1222, 0.011366452686261783), (3447, 0.011365245294346588), (1115, 0.01135343267010697), (2291, 0.011350660511384461), (4379, 0.011344967562918702), (1125, 0.01134418133405527), (2495, 0.011338763313846189), (913, 0.01133604824084146), (2531, 0.011325650614834442), (1057, 0.01129984291644988), (1267, 0.011299014447525756), (1746, 0.011292875836214168), (830, 0.011280523774041236), (3234, 0.011279663345422948), (1405, 0.011277288471796926), (1930, 0.011265482441184154), (1662, 0.011255379328392965), (836, 0.011225224396462861), (2252, 0.011220543459392097), (480, 0.011219508077119304), (4319, 0.011215560285452085), (3507, 0.0112139684045278), (2387, 0.011211070745092873), (2439, 0.0111906535872318), (2148, 0.011187182818509807), (220, 0.011184600488427319), (4459, 0.011182837894520617), (3825, 0.011181035395102588), (573, 0.011180007376758169), (3803, 0.011172781218313296), (800, 0.011146415218035083), (1594, 0.01114381619471881), (1339, 0.011140245757244188), (1299, 0.01113210096019053), (1227, 0.011124841447458067), (4404, 0.011097242156503767), (527, 0.011079111189815841), (3389, 0.011076563576129113), (2917, 0.011075616203662998), (4755, 0.011074313952594929), (641, 0.011065387675567365), (3878, 0.011061384422127582), (4431, 0.011057142825727315), (1370, 0.011035252051863365), (1477, 0.0110160414952236), (4057, 0.011006903608720166), (2820, 0.011000853314845946), (74, 0.010971721726270091), (4089, 0.01096950157585466), (4332, 0.010968743320920219), (560, 0.01096465395509998), (3579, 0.010955821301862432), (1943, 0.010949108616648835), (583, 0.010944596485874064), (1602, 0.01094196957828771), (1326, 0.010934518221141293), (3297, 0.010923150570319989), (2010, 0.010922167263507875), (289, 0.010892894113675371), (2853, 0.010883314694555404), (832, 0.010867137990984163), (3215, 0.010866274712200936), (1886, 0.010854742886032616), (3368, 0.010849059320120829), (1762, 0.010847627696842246), (718, 0.010838390325201498), (2996, 0.010836068129425043), (787, 0.010828043865674465), (4640, 0.01082173455880906), (1095, 0.010820833167788087), (2841, 0.010810500654756834), (81, 0.010804197171845682), (1136, 0.010766163042491082), (4068, 0.01075825506344361), (1476, 0.01075455649153461), (4081, 0.01074429174590506), (1919, 0.01073033907865482), (494, 0.010724457816464902), (2018, 0.010721810044175608), (3626, 0.010715070476604409), (135, 0.010714554919694402), (490, 0.010713835198366968), (2197, 0.010705082636983155), (2061, 0.010704406966785263), (2587, 0.01070347601705848), (562, 0.010701270955795289), (4587, 0.01068972740417814), (2156, 0.010684775373512763), (3282, 0.010672466005290716), (3765, 0.01066761105775953), (44, 0.010667201517099056), (4206, 0.010663673210969343), (1112, 0.010647181634326083), (1906, 0.010632136094970407), (2942, 0.010631692512596064), (3720, 0.01062786308485693), (3091, 0.010624532158064947), (2933, 0.010623830983810909), (1442, 0.010594630808384482), (2965, 0.010588351706061571), (4020, 0.01058045295262179), (4748, 0.010578190428384558), (1953, 0.0105508679084096), (39, 0.010548946262077329), (3343, 0.010547165737697355), (3942, 0.010514648343906731), (2492, 0.010502207268521847), (2068, 0.010488891131003533), (1018, 0.010477078416058673), (1921, 0.010470965293307542), (854, 0.010469371530964378), (4660, 0.010467084397477643), (3409, 0.010463315456374248), (4345, 0.010450199273439483), (4209, 0.010444893588893294), (4002, 0.010442160809073965), (1215, 0.010437747216338798), (4328, 0.010437084470390292), (4600, 0.010423090553121645), (541, 0.010418578618029868), (1517, 0.010418394118927147), (690, 0.010415110057684685), (1496, 0.010401644690898913), (1669, 0.010371895689629117), (2756, 0.01035958908344268), (381, 0.010359016592987068), (1556, 0.01034613186224013), (3844, 0.010337102083320544), (3079, 0.010335964680675692), (1915, 0.010328807369137964), (2603, 0.010328638533631793), (1191, 0.010327644216871186), (237, 0.010325559328640621), (2422, 0.01031372128868879), (4594, 0.010309190667821792), (1319, 0.01028994181468492), (4327, 0.010273819497298619), (924, 0.010264294776596836), (866, 0.010261337261934242), (953, 0.010260536387670069), (3439, 0.01025251869773762), (3821, 0.010251045169082432), (1651, 0.01024047391897447), (3731, 0.010240052892890737), (1973, 0.010233726706269038), (3222, 0.010226653754354564), (2324, 0.01022628077609316), (3890, 0.010212380743036861), (974, 0.010189728466156723), (2862, 0.010189373951977374), (1304, 0.010186288707695772), (1066, 0.010178796414012578), (3946, 0.010176134513865252), (460, 0.010174495309237709), (2985, 0.010145330955357645), (3589, 0.010139438103910388), (2215, 0.010126442192013465), (1279, 0.010118217845232765), (1950, 0.010098332577364366), (2272, 0.010094827387772719), (367, 0.01007722526595177), (436, 0.010065912277341988), (776, 0.010057344940228152), (2498, 0.01005637110940296), (672, 0.010048090948929951), (2908, 0.01004505881644989), (1814, 0.010033042740722834), (3311, 0.010031300721639796), (1200, 0.01002677838933962), (4220, 0.010000320374373609), (4359, 0.009986961344714038), (4633, 0.009985382969093062), (2036, 0.009970963701294843), (1054, 0.009969808154067082), (1498, 0.009959840317873924), (590, 0.009945883021951587), (4701, 0.009945019585465462), (271, 0.009944728199368282), (2765, 0.009943153543658), (1000, 0.009902954036438165), (863, 0.009901875568085104), (1606, 0.009887537308452096), (995, 0.009887207377394234), (1668, 0.009882605851788163), (4134, 0.00987927044149866), (1417, 0.009876521042586097), (1823, 0.00987110159252801), (2229, 0.009870373752962692), (1480, 0.009862007318436146), (4463, 0.009854955226686718), (798, 0.009848145244556973), (3884, 0.009835165719609254), (4192, 0.009834217712968552), (4164, 0.009824091649925645), (309, 0.009821117300807767), (3754, 0.009796844044636273), (3410, 0.009794136221952549), (4282, 0.009770937851035309), (148, 0.009751699108923243), (2771, 0.009740549171983299), (1383, 0.009717173391437862), (4150, 0.009707364644903052), (3506, 0.00970401098345897), (2721, 0.009681528426666492), (1291, 0.009678750587687204), (1546, 0.009676188851039297), (4418, 0.009669002222050466), (791, 0.009666382218647808), (1029, 0.009654329094685946), (107, 0.009641054649904193), (4087, 0.009628952391447839), (3546, 0.009627657595201022), (4373, 0.009620335055464006), (1971, 0.00961800302977446), (3933, 0.009614122484443675), (214, 0.009609901668246672), (1423, 0.009593890533464178), (2400, 0.009589001684918117), (858, 0.009585139514360954), (3336, 0.009582975806748282), (4593, 0.00957463349294431), (4595, 0.009560509233100345), (1724, 0.00954808409006962), (3109, 0.0095447567093949), (1450, 0.009542759939448343), (2799, 0.009531410969012093), (1924, 0.009514854812355691), (524, 0.009510351703217314), (1786, 0.00949981802057059), (4590, 0.009494412732913746), (2384, 0.009468690644996813), (678, 0.009455084789451913), (3316, 0.009454896584378609), (4656, 0.009450892269739419), (3238, 0.00942806852907066), (1928, 0.009426471929883882), (89, 0.009421868199064942), (253, 0.009412515502516351), (1716, 0.009399431671077816), (4602, 0.009399130500497434), (712, 0.009374765163559817), (4355, 0.00937269250453053), (1246, 0.009371978610992204), (1829, 0.009371114534584338), (3207, 0.009368578406608393), (3873, 0.009367978226646622), (4396, 0.009365324188218341), (1371, 0.009344181894519485), (3983, 0.009320881328063899), (802, 0.009320522026134318), (1805, 0.009292871308085673), (1409, 0.009288974620645775), (3668, 0.0092651279175287), (4078, 0.009259930622891944), (2724, 0.009256466962266454), (1518, 0.00923798185155206), (2375, 0.0092316319198515), (2161, 0.009226316323621845), (357, 0.009224706539815554), (3101, 0.009223917588901643), (3235, 0.009220486236784904), (2617, 0.009201113601107395), (1835, 0.009191782119865146), (841, 0.009190097493455191), (675, 0.009176650728563343), (3658, 0.009169580522022637), (4659, 0.009161698217706545), (4601, 0.009139569043149914), (1530, 0.009133702110106303), (774, 0.009127716635536314), (1039, 0.009114674449519432), (4517, 0.00911328608521096), (1364, 0.009096981270068949), (3493, 0.009058324450200623), (1463, 0.009053439467565084), (1918, 0.009047574109867621), (2509, 0.009027623304518916), (884, 0.009018920924567535), (2230, 0.009003120411952621), (88, 0.008980620634302192), (23, 0.00893744166849155), (680, 0.008932168395488637), (1234, 0.008930071084388985), (3388, 0.008924663771324049), (1902, 0.008917295468189505), (319, 0.008887960075316947), (2106, 0.008884729193055977), (4662, 0.008871220898233246), (3378, 0.00886314683375131), (1464, 0.008859247682739548), (3382, 0.008848602187261736), (3377, 0.008835912279402256), (738, 0.008825990218796015), (2046, 0.008820942629584806), (419, 0.008809071300675497), (1534, 0.008793356063651336), (3564, 0.008792037363439604), (588, 0.008780699448145196), (4516, 0.008772446132758295), (4678, 0.008750504303021793), (1435, 0.008750027818209008), (2746, 0.008732072623759336), (980, 0.00872453371658429), (226, 0.008723996099895662), (4266, 0.00871593160858935), (4705, 0.00871056306781094), (2685, 0.008708999799870302), (660, 0.008706029354492235), (2904, 0.008694934442110886), (1047, 0.008692130208800473), (2396, 0.008684616427664174), (2321, 0.00866850723376091), (4086, 0.008661539380389), (461, 0.008659265834503849), (4088, 0.008653570880627296), (387, 0.0086532806498467), (2806, 0.008652196336097397), (3188, 0.0086244509488891), (1831, 0.008624012701136158), (3517, 0.008618779206590132), (4380, 0.008614434658942387), (3644, 0.008610476174026693), (2374, 0.00859026572648991), (2290, 0.00858574636523767), (4160, 0.008566453353118014), (1655, 0.008556557913344445), (3490, 0.008535149028910127), (4736, 0.008521864083093363), (2306, 0.00848368607634444), (2677, 0.008480292597265356), (365, 0.008462851778853617), (4491, 0.008458363585673178), (4130, 0.008456913938195325), (1804, 0.008452100732129653), (686, 0.008450778500196007), (2839, 0.008448472356093261), (770, 0.008444076152802498), (1999, 0.008438419805465825), (389, 0.00842750395486189), (2280, 0.008421694751021567), (1509, 0.008420759328604657), (4034, 0.008410004010410565), (3817, 0.008406272397497593), (2551, 0.008401891260197443), (1421, 0.008397244427051469), (1247, 0.00838793528455297), (3881, 0.008381696773789906), (3628, 0.008362889066540518), (789, 0.008343009446184437), (4305, 0.008341378644202039), (2154, 0.008341034232961541), (3390, 0.008340191763508862), (1284, 0.008336260830201099), (3703, 0.008330303014456352), (929, 0.008308559370873879), (818, 0.00829570283338818), (759, 0.00828242231530947), (2207, 0.00827994392110609), (591, 0.00827771240342408), (2402, 0.00827628932914316), (2699, 0.008269791558749112), (2960, 0.008269534124683214), (1030, 0.008262639858417384), (4356, 0.008261634481072625), (127, 0.008236883246227993), (1790, 0.008229578524702219), (402, 0.008206989767982498), (3256, 0.008199307337405459), (3115, 0.00819286724681466), (3951, 0.008190468828602067), (3732, 0.008166440127088455), (3712, 0.008145271127912404), (362, 0.008139815083355907), (3185, 0.008131085469084592), (4643, 0.008123293582642865), (2337, 0.008118770803946828), (2023, 0.008110797605204792), (2135, 0.008102291773009487), (2451, 0.00809783641660009), (2327, 0.008093721856817171), (947, 0.008091744207689116), (3423, 0.008086353420459278), (2505, 0.008084087548981687), (3228, 0.008083715912653973), (1932, 0.008070016185021085), (1631, 0.008068177892265336), (3824, 0.008062780508557877), (1731, 0.008055664840479612), (4478, 0.008053155542818116), (903, 0.008052770346357256), (3788, 0.008052120018044362), (1375, 0.008048410941274495), (1388, 0.008048379146118776), (1372, 0.008038700108428455), (659, 0.008038318006809209), (1658, 0.008034010235775805), (3272, 0.00802331091232296), (2048, 0.008018224697876877), (3208, 0.008017900715867792), (3460, 0.008012814913625323), (1324, 0.008002300496697479), (4501, 0.008001367865936797), (4202, 0.007993728584832542), (1470, 0.007990827773801508), (2605, 0.00798286358613485), (4441, 0.007976299890410793), (2417, 0.00797404255557826), (2769, 0.00796571777495788), (893, 0.007963594898606874), (4703, 0.007954329699303963), (1648, 0.00795336976221772), (3550, 0.007952805060763974), (2051, 0.007949139923634383), (3094, 0.007947883007776423), (4541, 0.007947521436334821), (4664, 0.007946547616550084), (1013, 0.007941553214278993), (361, 0.0079218728198038), (4492, 0.007921204777076066), (4288, 0.007916904192665934), (2936, 0.007914831187354766), (2403, 0.00791186185609393), (4620, 0.007909929443798402), (1389, 0.007905631135182325), (3524, 0.007901159278999216), (3735, 0.007897756628457034), (3986, 0.007892405081709637), (4558, 0.007891287406464819), (4165, 0.007885563774708485), (1996, 0.007883588245734941), (1236, 0.00787956029165907), (2667, 0.007867261913064765), (1827, 0.007859106412600911), (3775, 0.007855785714099188), (4347, 0.007843555957569047), (4457, 0.007841349826404616), (4554, 0.007837738973782744), (3482, 0.007836156049489383), (2249, 0.007835427887619326), (805, 0.007828333103082013), (3157, 0.00781632929512836), (2569, 0.007799574578133245), (3304, 0.007799363205300657), (996, 0.007792360621207296), (1889, 0.007789506400971616), (1165, 0.0077813648925006045), (1965, 0.007780212178364542), (2768, 0.0077698887795599695), (3039, 0.007767889137450241), (2049, 0.007761354841676115), (4533, 0.007753614012353274), (4364, 0.007748770434823084), (2657, 0.007741294978835981), (2659, 0.00773459432704491), (2209, 0.0077275543259546844), (4366, 0.007724239924114037), (3805, 0.007718525197797653), (1770, 0.007718187799609094), (1198, 0.0076980134651538435), (27, 0.0076914473143334895), (2915, 0.007688260338175961), (2240, 0.0076820358896464635), (1199, 0.007680460945150944), (4466, 0.007666896745804114), (4725, 0.007661747755911372), (1712, 0.007642287475128595), (1186, 0.007641879944670341), (2887, 0.007637262271135004), (2539, 0.007634392856110168), (2990, 0.007619252558411867), (2116, 0.00759966034493572), (4195, 0.007598068471851136), (2101, 0.0075949049802148325), (2976, 0.007584046098702015), (4663, 0.007581441849512523), (2545, 0.007576398073608451), (1287, 0.007575060117397061), (3715, 0.007562589580966458), (724, 0.007555422136587259), (4428, 0.007539307831462671), (2275, 0.007534727171849641), (3635, 0.007529791855667959), (4036, 0.007511536863728917), (1897, 0.007495245322924157), (2019, 0.007495233328810107), (1706, 0.007494951831436114), (3286, 0.007478513287320125), (1583, 0.007478010642216238), (2450, 0.007477014713347404), (3685, 0.007475135833927087), (3254, 0.007467296121044528), (2922, 0.007466619809205161), (4444, 0.007444372991781053), (1566, 0.007431872813474687), (1272, 0.007431185247293495), (1685, 0.007424693077340344), (2244, 0.007419118232241568), (3806, 0.007410767726817318), (3105, 0.0074067489816823755), (1598, 0.007399163993151822), (2590, 0.007387189448495714), (1490, 0.00737648880632502), (2601, 0.007360558764598544), (1182, 0.007356979804495432), (4337, 0.007355289875188794), (2600, 0.007353584439633032), (4606, 0.0073528367881655985), (4371, 0.007352305151251537), (3200, 0.00734603539498037), (2157, 0.007340616639698109), (2818, 0.007336478926896215), (1042, 0.007326557314407125), (3056, 0.007326048515761909), (4588, 0.00731837848888792), (4367, 0.00730625275418427), (2309, 0.00728933756105932), (1737, 0.007285779905426081), (470, 0.00727638238431556), (4008, 0.007274548290780238), (1358, 0.007274044565920928), (3347, 0.007271629971145235), (2877, 0.007271525947896833), (3991, 0.007267734231014256), (1382, 0.007255681872158159), (3855, 0.007250186016971004), (3095, 0.00724927633356694), (2521, 0.007247284676309645), (1607, 0.007243102017733391), (209, 0.00723323115657902), (844, 0.0072291256008716305), (2988, 0.007213383730017367), (3430, 0.007205802866340146), (131, 0.007196610032803619), (1300, 0.007193395739444464), (1359, 0.0071925923451552), (3973, 0.0071889721593146405), (778, 0.007186494168893717), (3726, 0.007178455151830344), (2415, 0.007168483025251264), (4723, 0.007163537975494174), (782, 0.007162291904734947), (2534, 0.007155150173459104), (1407, 0.007149808979988302), (4336, 0.007145257694423685), (4569, 0.007138056384923175), (4122, 0.007137208614140575), (4631, 0.007122579878764216), (4221, 0.007118973559021222), (1505, 0.007111197717202053), (2441, 0.007107380687307024), (1942, 0.007102514872613581), (4603, 0.007099061930395865), (3553, 0.00709503604391352), (174, 0.007088853422906313), (2183, 0.007087689424146879), (173, 0.0070843398386769086), (3538, 0.007079468133037825), (1094, 0.007077245434593373), (1344, 0.0070731165271082945), (3142, 0.007071788098257333), (2744, 0.007070395182101867), (1761, 0.007061148590845478), (608, 0.007054737640186152), (2726, 0.007047652521142731), (3733, 0.007041797392092818), (313, 0.007028411517890119), (2977, 0.007023473649286038), (817, 0.007021437529660409), (2741, 0.0070189683123237), (2144, 0.007011311833595171), (1019, 0.007008069361086215), (2864, 0.007007667562783353), (83, 0.007006564745752658), (1079, 0.00700353899803435), (920, 0.007003384773289136), (4698, 0.006991004638683242), (464, 0.006987523471813783), (406, 0.006984386053160107), (3145, 0.006971706860232378), (697, 0.006965448733419736), (2155, 0.006965171133430103), (2463, 0.006960336461024512), (280, 0.006960189744097331), (1020, 0.0069487414205431685), (745, 0.006939177182147384), (1773, 0.006924972188423882), (1242, 0.00692442335244505), (1873, 0.006922365454163856), (4388, 0.006921883947374434), (1075, 0.00692080498499682), (1397, 0.006892953344952435), (421, 0.006892322641395066), (3288, 0.0068823488878186345), (850, 0.006875524980781494), (1644, 0.006870665151398688), (1730, 0.006869617178792842), (3926, 0.006869402952735652), (457, 0.006867294397253043), (2378, 0.006861039070454855), (2778, 0.006859426969397576), (4490, 0.006856734677572493), (3785, 0.006849620671054652), (2087, 0.006844566825381224), (1612, 0.006841102594339249), (2008, 0.006834137779111122), (1238, 0.006832569735454172), (2980, 0.006826831897644011), (4511, 0.006825850346559099), (1128, 0.0068185075965860095), (3168, 0.006815470117091941), (4144, 0.006807948665962044), (104, 0.0068034959542575555), (834, 0.006803440379862459), (758, 0.006802673880393972), (2831, 0.006800853333689511), (1852, 0.006798456524325446), (22, 0.006797485324205564), (109, 0.0067970166962481055), (1867, 0.006793745336836676), (364, 0.006790144499652654), (4738, 0.006785319747498716), (1807, 0.006778346786564627), (1016, 0.006777467684751372), (1849, 0.006776924888336076), (2174, 0.0067689936585734215), (4619, 0.006764869554404861), (4443, 0.006762761971453193), (670, 0.006758866760464884), (2077, 0.006753022907980239), (3588, 0.006729971722366128), (1021, 0.006724157149712948), (1710, 0.006723471950426438), (4653, 0.006714019372502873), (2352, 0.00671281477113853), (2202, 0.0067079589729239645), (164, 0.006706149588144031), (2772, 0.006690575564217807), (4035, 0.006689846933732422), (3165, 0.006684643313804509), (2468, 0.006682735484689495), (3947, 0.006680687581230853), (4244, 0.006664610784699912), (197, 0.006664308358673368), (838, 0.006662699675584635), (3309, 0.006646100843385902), (3708, 0.006644390460327963), (2188, 0.006630307394136267), (3023, 0.00662035118391271), (833, 0.0066009314235048995), (3064, 0.00659130876121832), (4612, 0.006583945821578307), (2671, 0.006580715723026097), (2459, 0.006576177375950941), (812, 0.006574013191708125), (3504, 0.006573958604779373), (3263, 0.0065736608388115665), (4293, 0.0065624852563962634), (4285, 0.00655414649148206), (835, 0.0065483038603467835), (248, 0.006543987861559332), (2653, 0.006542679737341282), (2006, 0.006535723394428673), (795, 0.006534376881513466), (3680, 0.006526504061627016), (4642, 0.006525155225700631), (958, 0.006523708694214768), (3909, 0.006520780632754722), (2517, 0.006515428214178218), (1941, 0.006505238653054451), (449, 0.0065036789468299935), (2676, 0.006492311871636033), (2143, 0.006492011413522026), (1581, 0.006477546021163635), (1723, 0.006475736774772837), (2881, 0.006470826596750604), (185, 0.006468444952262514), (2670, 0.00646535235793239), (1009, 0.006461952477985199), (2034, 0.006460509545854796), (1548, 0.006460226062818281), (734, 0.006457831966073681), (900, 0.006456032196299717), (3059, 0.00645595769820575), (4276, 0.0064504866916728085), (2673, 0.006448657225006355), (2127, 0.0064472191097216785), (2364, 0.006429928850190007), (3954, 0.006427939097218053), (4131, 0.0064277293503747415), (2476, 0.006406381263910852), (1560, 0.006397513186164932), (458, 0.006392971854285019), (753, 0.0063919051282294035), (4453, 0.006384491116233589), (3044, 0.006378635078413725), (533, 0.006374681530123373), (916, 0.006371702084756292), (2607, 0.0063648685336847415), (4121, 0.006363019448066505), (2547, 0.006361377600779089), (3312, 0.006360603637186896), (3829, 0.006355249063509819), (4242, 0.006352704025285386), (307, 0.006350997165284142), (2493, 0.006345555169242089), (1538, 0.006339983752745827), (766, 0.006337493044318873), (4342, 0.006332977258017985), (2754, 0.00632992583418681), (2082, 0.0063282509758799494), (1647, 0.006327724222598337), (2203, 0.006325693298834921), (1316, 0.006321705484716074), (2576, 0.006320516769694546), (3750, 0.0063119450248026185), (1208, 0.006309811679644205), (2943, 0.00630844119529838), (183, 0.006306318097313221), (1875, 0.006298628870240107), (2947, 0.006297291577312977), (143, 0.006290482464374866), (2710, 0.006280209079694113), (2840, 0.006275440240408498), (2874, 0.006275030235081017), (3634, 0.006274685550130633), (1715, 0.006272887154539764), (3329, 0.006271386635394965), (199, 0.0062704397545223925), (2834, 0.0062585478805425344), (514, 0.006239218080334354), (1690, 0.006234030497264575), (139, 0.006232675090016323), (3802, 0.006230621087068301), (1684, 0.006230021840775231), (3373, 0.006229839006664081), (2011, 0.006227297517431335), (1920, 0.0062188528155517914), (3767, 0.006204981746980973), (2929, 0.006204272090119921), (3421, 0.006200646101459961), (2383, 0.006192738755070722), (4116, 0.006182018791689315), (350, 0.006179443831004184), (4098, 0.006174032734291978), (147, 0.006166858921086146), (2021, 0.006164940304478477), (1989, 0.006163318118527076), (688, 0.0061617503268369634), (1822, 0.006159698579401876), (2243, 0.006148959880083571), (43, 0.006147122925320868), (210, 0.006141739195588629), (1894, 0.006131957088486366), (729, 0.006125272809884931), (705, 0.006124603934895683), (970, 0.006123115970658645), (3112, 0.006122038023775257), (979, 0.006120012250577462), (3862, 0.006116847511840821), (1976, 0.0061155187167681625), (2880, 0.006105121759244737), (3692, 0.006098468465803329), (3676, 0.006097095242972069), (629, 0.006094097396645176), (41, 0.006089482490862445), (448, 0.006086387116340147), (4384, 0.006086358171885006), (2351, 0.006082407016939529), (4249, 0.006080303325859305), (180, 0.00607611508300781), (1687, 0.006075308247095586), (1343, 0.006069454051398151), (445, 0.006066483985365963), (3610, 0.00605817827560534), (1513, 0.006054862799198647), (4630, 0.006054348683843071), (2626, 0.006052935235809042), (534, 0.006052729381936882), (3997, 0.006042296505857479), (2811, 0.006041961688276147), (824, 0.006041843065257332), (2692, 0.006037966036721979), (3509, 0.00603562725132587), (673, 0.006022250847560235), (1432, 0.00601679458627749), (2098, 0.006011880971200097), (1174, 0.006007039685651924), (2458, 0.006006969285171046), (986, 0.006006023897541842), (3097, 0.006005657528102057), (2780, 0.006005648734134701), (1492, 0.006002774199648356), (926, 0.006000584792142443), (1393, 0.005998020113455203), (2085, 0.0059963237669612484), (595, 0.005993366135941041), (3771, 0.005987277031688755), (1454, 0.005986002644534723), (2088, 0.0059827606352418385), (4430, 0.005978555112704817), (1863, 0.005975832305390163), (728, 0.005971573649633118), (1727, 0.005971314772671477), (4093, 0.005966053011350827), (513, 0.005961963221190877), (3451, 0.0059547826158067585), (4267, 0.005949948412061844), (4281, 0.005946740327596567), (3604, 0.00593992309185436), (4392, 0.005937443865862091), (4385, 0.005931000356213467), (1853, 0.00592587861504143), (740, 0.005925735817602515), (175, 0.005924524472817743), (3927, 0.00592440932629737), (1229, 0.005920407227651251), (4033, 0.005919493564250583), (1516, 0.005914538296752313), (2233, 0.005909329007678877), (3591, 0.005908483118849361), (3623, 0.005904540143163366), (3850, 0.005901194988369286), (4435, 0.005894477230164726), (517, 0.005892024530637905), (4100, 0.005890610527415031), (3392, 0.00589006361706775), (2083, 0.00588271109313609), (1024, 0.005881111089894549), (2621, 0.0058738861400841865), (547, 0.005869915767066246), (2091, 0.005868749314094171), (2032, 0.005862733737275969), (1037, 0.0058623447755505095), (656, 0.005854629643814298), (3225, 0.005852724285306662), (3514, 0.0058524708178812855), (3432, 0.005852281136644298), (3603, 0.005851861641641193), (2081, 0.005849740120339045), (3651, 0.00584760977820302), (3241, 0.005842240706438001), (3486, 0.005833461366886145), (1887, 0.005821688431999944), (2124, 0.00581788382070141), (1317, 0.005812323070386578), (1122, 0.005809637591447173), (2563, 0.005804055278839099), (1599, 0.005801731311745868), (4460, 0.005798437598455792), (3164, 0.005797032323548217), (845, 0.005785938232370618), (4456, 0.0057852083736114135), (244, 0.005784904018231746), (2079, 0.005784538867356246), (3513, 0.005783541488995741), (1484, 0.005781547995949438), (701, 0.005779515135610605), (4549, 0.005779230332092165), (2518, 0.005775442848646515), (380, 0.00577330932205754), (3332, 0.005772844989202728), (2217, 0.0057580687558379555), (1847, 0.005757572481047032), (3443, 0.005755674791682928), (4248, 0.005755651075380924), (1504, 0.005755189201342287), (2788, 0.005747926656349389), (843, 0.005743020784696427), (1469, 0.005742636017850271), (4684, 0.005738092087579787), (1322, 0.005734451014049614), (616, 0.005733874532135579), (3131, 0.005733313599860735), (4363, 0.005725076597084438), (2560, 0.005723847669724091), (3169, 0.0057210256366154715), (3814, 0.005709194102819193), (1512, 0.005704171758466308), (1349, 0.0057019800276603885), (1419, 0.005701072828566941), (1252, 0.005699925250137973), (3897, 0.005698338176929329), (3807, 0.0056969476691286144), (113, 0.005691221388588086), (902, 0.00569102964252627), (1127, 0.005686185759477141), (4708, 0.005682364692407616), (1733, 0.005682187935892902), (508, 0.005680441723476087), (3940, 0.00567741748712533), (1740, 0.005673415257222849), (869, 0.005671383306880127), (1536, 0.00566615588718371), (2212, 0.0056588133095452995), (250, 0.005655868367183177), (516, 0.005655351729814002), (233, 0.005654999516333651), (4462, 0.005642508851975189), (1702, 0.0056403042381475655), (3441, 0.005637576480100058), (1952, 0.005631557522473066), (3920, 0.00562853136818153), (156, 0.0056272089561340746), (1455, 0.005624315917384376), (4330, 0.005622252482957907), (3978, 0.005620454029945852), (2815, 0.005619410347969194), (3924, 0.005613196172063397), (1285, 0.005607920154152093), (4515, 0.0056028924668247194), (4621, 0.005600949867725154), (181, 0.005599439804813953), (3780, 0.005598986602589642), (1406, 0.005594942013279731), (677, 0.005586951172456891), (1151, 0.005585137377506174), (747, 0.005583351258059769), (3555, 0.0055816757353896644), (4543, 0.005576054983156623), (1144, 0.005575640981993314), (1138, 0.00557151211759132), (2918, 0.005567877598993533), (3857, 0.005565723842408432), (2885, 0.0055635947704743526), (1704, 0.005563198925358676), (2263, 0.0055599179802481935), (2218, 0.0055592686922103125), (1907, 0.005556847106687903), (4037, 0.005555762534781336), (1937, 0.005555715169982565), (4310, 0.005555318236956182), (3810, 0.005555170429680631), (1282, 0.005553240414672688), (1520, 0.00554984207481733), (2850, 0.005545393863113459), (4732, 0.005542470012119382), (4041, 0.005538641235790625), (4148, 0.005538202696909163), (1337, 0.005536339154605593), (1527, 0.005536317361030233), (982, 0.0055347361984586715), (2675, 0.005532337125085213), (554, 0.005526234425976668), (2825, 0.005523776137825268), (1893, 0.005521428437783775), (2210, 0.005521146197903186), (1679, 0.005520592820898813), (4264, 0.005520461307262587), (3959, 0.005513863027153397), (4108, 0.005510781887474543), (3161, 0.005510296853947295), (3605, 0.005510136895908918), (1749, 0.005502455335006875), (1851, 0.00550158211279258), (1390, 0.0055007684662967), (2232, 0.005500242911181988), (2911, 0.00549118141482159), (532, 0.005489674645165145), (4044, 0.005487891189807419), (4743, 0.005486472270032777), (1263, 0.005483366499753822), (4039, 0.005471806509274466), (2147, 0.005469114483427333), (2206, 0.00546871149714739), (2334, 0.005467626786036831), (704, 0.005467190682898615), (2634, 0.005459187385213828), (4673, 0.005457909707718716), (4551, 0.00545737888564616), (792, 0.005456317365981743), (1747, 0.00545449754542887), (1063, 0.005454156313234449), (3734, 0.005453169430501117), (3595, 0.005450915292725347), (2469, 0.00544945477784703), (4481, 0.005449152262007325), (2184, 0.005447336655567569), (3612, 0.0054435082622337), (4447, 0.005440423447871628), (567, 0.005435154827191638), (890, 0.005430861972868785), (2126, 0.005429443966852977), (1230, 0.005429331997647376), (192, 0.005423512591988701), (4265, 0.005417552759230799), (930, 0.005417341437303253), (2674, 0.005414653940191883), (1545, 0.0054114015353989445), (4262, 0.005410990581574052), (2429, 0.005408231162678978), (3678, 0.005407020644296555), (344, 0.0054064444857806985), (217, 0.005406262367952067), (2166, 0.005404990573479529), (1665, 0.005404937660539728), (717, 0.005402572515640419), (4013, 0.005401171181215757), (781, 0.005400898055644169), (3600, 0.005389607442194174), (1154, 0.005388407081841978), (2809, 0.005387028154673961), (239, 0.005382879665809404), (2610, 0.005381256277150351), (3283, 0.005380551903376197), (2900, 0.005380547711030838), (1183, 0.005379490457013206), (4534, 0.005379488127926966), (1082, 0.0053770062331705785), (11, 0.005374522119125775), (3660, 0.0053737945769459835), (3233, 0.00537114003321842), (1660, 0.005360901369593691), (3549, 0.005359734688342927), (1140, 0.005356856989453652), (3794, 0.0053523882471559255), (2431, 0.005351075210587333), (216, 0.005346094023470619), (827, 0.0053398505219969935), (2711, 0.005333036595663652), (4274, 0.005329756770450547), (3526, 0.005323814039542995), (525, 0.005323093173388291), (1402, 0.005320490337439135), (2971, 0.005310656749824206), (2511, 0.005306552921838961), (3667, 0.005297328589681679), (2424, 0.00529242371856459), (1447, 0.005291688508088108), (2416, 0.005289349047922649), (1155, 0.005286547781604304), (3125, 0.005285079512733557), (2278, 0.005281676917517381), (931, 0.005280263986625704), (2899, 0.005276466832852502), (1357, 0.005274188317077443), (1751, 0.00526834438895685), (4686, 0.005266594997794708), (92, 0.0052644960217064374), (1689, 0.005264150372426563), (2792, 0.005260787650139822), (504, 0.005258992073323193), (1065, 0.005256657746550608), (971, 0.005256017919271582), (1076, 0.005249784229606797), (4608, 0.005246575758530619), (1411, 0.005241526258789991), (1525, 0.0052385248629792), (2807, 0.00523446623356808), (3018, 0.005234338915503898), (3321, 0.005233171980279287), (3446, 0.005232306093802647), (3150, 0.005230593851788005), (632, 0.0052272462030101795), (2003, 0.005227104807247767), (4592, 0.00521999588699597), (3818, 0.00521041781047003), (4186, 0.0052091645307727795), (3650, 0.005204271381683578), (529, 0.005201254267562273), (2268, 0.005196903702010873), (2414, 0.005189738090291238), (515, 0.005185448737489481), (2169, 0.005179837878994747), (2718, 0.005177451345381552), (155, 0.005177011920814193), (2017, 0.00517446822373666), (3701, 0.0051742689146258925), (4135, 0.0051711196546392136), (3193, 0.005165864628822209), (993, 0.005165170313882253), (2399, 0.005162863412337731), (160, 0.0051620621216892015), (1768, 0.005158207392857809), (2315, 0.005150311455608061), (3143, 0.005145826259982124), (4687, 0.005143289013799846), (1035, 0.0051416943360409065), (3053, 0.005139451235030676), (769, 0.005137350951311186), (427, 0.005133648719711702), (804, 0.00513158434723355), (4429, 0.005131561254912278), (894, 0.005126483928203547), (1092, 0.005122287528263869), (105, 0.005121275659473273), (3247, 0.00511479848745063), (1857, 0.005108761856896422), (4157, 0.005105069096454037), (1620, 0.005101520077737701), (3966, 0.00509661005193159), (565, 0.005093977700610164), (3739, 0.005090037868291332), (1281, 0.005088499757437416), (3746, 0.005086399904370004), (1794, 0.005085695862354588), (4137, 0.00508126417959169), (4504, 0.005081254926894857), (3567, 0.005073948886410892), (1888, 0.005071785699187108), (2274, 0.005070063462368113), (1059, 0.005069556004853712), (348, 0.00506825221083823), (1984, 0.005062912546353716), (379, 0.005060548274910961), (1348, 0.005059637825289392), (2317, 0.005059447590090485), (3637, 0.0050586402917025194), (3693, 0.005056883613990313), (112, 0.005053197954628725), (4438, 0.005047726567425352), (2329, 0.005047624800131972), (3260, 0.005044802053612115), (3868, 0.005043138231163836), (2128, 0.0050425281696955876), (3994, 0.005041190937672222), (1431, 0.005040936752747707), (2938, 0.005040271664649215), (1977, 0.005033624669349081), (507, 0.005032588511381079), (2131, 0.0050274362110036734), (2430, 0.005023621037294216), (2033, 0.005021720068558793), (1290, 0.0050195990477343265), (3819, 0.0049994175509619), (2227, 0.004997832183772615), (3295, 0.0049945458159186785), (333, 0.004993311127983043), (4647, 0.0049917944808367185), (3696, 0.004991197252976087), (4442, 0.004988815929814413), (3886, 0.0049881769262567635), (3010, 0.004984906561599272), (4353, 0.004981537325002226), (2029, 0.00498101093640612), (4548, 0.004980019871690323), (2409, 0.004969914754289567), (790, 0.004960258820790189), (1130, 0.004957967555912693), (4733, 0.004957606915761902), (3556, 0.004956763447698518), (773, 0.004955933892777779), (3646, 0.004951637189810144), (2446, 0.004950461816671282), (1132, 0.004949914495621704), (3891, 0.004949433662607776), (3562, 0.004947943040852742), (3776, 0.004941068032739116), (215, 0.004935078660213977), (3149, 0.004934596395901777), (1360, 0.004928475812838338), (3320, 0.004928308890996951), (388, 0.004914446631452964), (1404, 0.0049129376974592085), (1778, 0.004912930768942738), (2913, 0.004905423949668466), (3412, 0.0049030148528993785), (2666, 0.004898477824397866), (1642, 0.0048896693305113675), (3028, 0.004889043727704237), (907, 0.004887433909023373), (408, 0.004886385387002657), (3339, 0.004885268233693841), (3481, 0.004883677933058731), (4399, 0.004882931524327782), (549, 0.004876211257016127), (1451, 0.004872863388588416), (3894, 0.004867278677405088), (2631, 0.004863339401613633), (372, 0.004862125586977358), (940, 0.004856957733320379), (1824, 0.004850332038063924), (240, 0.004847348790358986), (4634, 0.004838617848692292), (4155, 0.004838552161487457), (18, 0.004830089580523253), (4176, 0.004827460864845677), (2311, 0.004823493423798284), (76, 0.004822981759062453), (4174, 0.004822234803037302), (4689, 0.0048213028428845135), (3854, 0.0048067171786129), (4473, 0.004805194096792876), (2491, 0.004796546254648462), (1052, 0.004793959023710324), (3071, 0.004790598408158531), (1555, 0.004790125017477461), (1482, 0.004785022156886572), (442, 0.004780492263710124), (4348, 0.004777678428125748), (279, 0.0047745137501518575), (338, 0.004773302165681833), (621, 0.004771414646816208), (14, 0.004764094488697137), (4402, 0.004759829744417771), (4568, 0.004759660552082954), (454, 0.004756213257293011), (575, 0.004750173560822724), (2608, 0.004744685395042586), (1568, 0.004744227567845215), (324, 0.004740171490199402), (1010, 0.00473567074522647), (1025, 0.004735608008840823), (1817, 0.0047318953750867575), (352, 0.004725832111542972), (1808, 0.00472404611476313), (810, 0.004711764984712979), (1990, 0.004710319242085607), (1456, 0.004709313743692034), (184, 0.0047066196627422495), (2855, 0.0047016976330604004), (744, 0.0046998023839591166), (4143, 0.004696823962466122), (2906, 0.004696489246555492), (3645, 0.004692404180598664), (3411, 0.004689622277789631), (4297, 0.004684780177377893), (2262, 0.00468302192421896), (885, 0.00467429030568896), (3045, 0.004673670990714266), (410, 0.004673089490425964), (2611, 0.004665170659603276), (1576, 0.004658734267314221), (1320, 0.004657707362175924), (166, 0.004656493758845346), (4109, 0.004652025430668308), (722, 0.004649217069868562), (1816, 0.0046467064638109614), (978, 0.004643749332641288), (2654, 0.004620656095894589), (33, 0.0046134318772232666), (4074, 0.004596670933366755), (435, 0.00458013923260173), (3928, 0.004563944078536077), (2078, 0.004558475312377642), (3403, 0.004545729434811652), (3835, 0.004535463923096013), (2801, 0.004531116451612388), (1524, 0.00452672416069051), (3944, 0.004526673510593581), (3111, 0.004524811715616852), (97, 0.004516233633063189), (1120, 0.0044994979628632786), (1394, 0.004483134901708787), (1910, 0.004473670537968422), (2767, 0.004453948434223095), (3674, 0.004444510937122315), (1178, 0.004443472121370919), (2842, 0.0044331991467332936), (195, 0.0044329976074150785), (2204, 0.004429695976897238), (186, 0.004417166929107679), (2761, 0.0043695687138750995), (1221, 0.004358401045886264), (2326, 0.004356505562549364), (1691, 0.004341648586887378), (4414, 0.0043165152409393925), (3317, 0.0042671617444165035), (1395, 0.00424022553591563), (1153, 0.004194223227669041), (4261, 0.004185893026609652), (2734, 0.004161610139793054), (3199, 0.004100062251084757), (3429, 0.004079244674093786), (2636, 0.003871148527081479), (475, 0.0024907982927746338), (4, 0.0), (5, 0.0), (8, 0.0), (13, 0.0), (16, 0.0), (21, 0.0), (26, 0.0), (30, 0.0), (31, 0.0), (42, 0.0), (47, 0.0), (49, 0.0), (51, 0.0), (52, 0.0), (66, 0.0), (70, 0.0), (77, 0.0), (98, 0.0), (99, 0.0), (100, 0.0), (103, 0.0), (111, 0.0), (114, 0.0), (115, 0.0), (117, 0.0), (120, 0.0), (121, 0.0), (126, 0.0), (129, 0.0), (132, 0.0), (133, 0.0), (134, 0.0), (140, 0.0), (145, 0.0), (146, 0.0), (149, 0.0), (154, 0.0), (157, 0.0), (163, 0.0), (172, 0.0), (176, 0.0), (178, 0.0), (188, 0.0), (190, 0.0), (194, 0.0), (196, 0.0), (198, 0.0), (200, 0.0), (203, 0.0), (205, 0.0), (211, 0.0), (213, 0.0), (224, 0.0), (227, 0.0), (229, 0.0), (235, 0.0), (236, 0.0), (245, 0.0), (246, 0.0), (254, 0.0), (255, 0.0), (256, 0.0), (265, 0.0), (267, 0.0), (268, 0.0), (270, 0.0), (274, 0.0), (275, 0.0), (276, 0.0), (278, 0.0), (281, 0.0), (285, 0.0), (302, 0.0), (304, 0.0), (308, 0.0), (311, 0.0), (312, 0.0), (318, 0.0), (325, 0.0), (326, 0.0), (331, 0.0), (335, 0.0), (337, 0.0), (351, 0.0), (360, 0.0), (366, 0.0), (370, 0.0), (373, 0.0), (376, 0.0), (377, 0.0), (378, 0.0), (383, 0.0), (384, 0.0), (385, 0.0), (391, 0.0), (392, 0.0), (393, 0.0), (395, 0.0), (396, 0.0), (398, 0.0), (399, 0.0), (405, 0.0), (415, 0.0), (416, 0.0), (420, 0.0), (422, 0.0), (423, 0.0), (429, 0.0), (431, 0.0), (434, 0.0), (438, 0.0), (444, 0.0), (447, 0.0), (453, 0.0), (459, 0.0), (462, 0.0), (466, 0.0), (471, 0.0), (473, 0.0), (474, 0.0), (476, 0.0), (478, 0.0), (479, 0.0), (481, 0.0), (484, 0.0), (485, 0.0), (487, 0.0), (488, 0.0), (499, 0.0), (502, 0.0), (503, 0.0), (505, 0.0), (506, 0.0), (509, 0.0), (518, 0.0), (520, 0.0), (522, 0.0), (526, 0.0), (531, 0.0), (535, 0.0), (536, 0.0), (542, 0.0), (543, 0.0), (544, 0.0), (552, 0.0), (556, 0.0), (557, 0.0), (558, 0.0), (559, 0.0), (563, 0.0), (564, 0.0), (571, 0.0), (574, 0.0), (576, 0.0), (578, 0.0), (579, 0.0), (580, 0.0), (581, 0.0), (584, 0.0), (587, 0.0), (593, 0.0), (596, 0.0), (598, 0.0), (604, 0.0), (605, 0.0), (606, 0.0), (611, 0.0), (617, 0.0), (622, 0.0), (623, 0.0), (624, 0.0), (625, 0.0), (626, 0.0), (627, 0.0), (628, 0.0), (633, 0.0), (634, 0.0), (636, 0.0), (637, 0.0), (638, 0.0), (642, 0.0), (645, 0.0), (646, 0.0), (647, 0.0), (649, 0.0), (650, 0.0), (652, 0.0), (655, 0.0), (662, 0.0), (663, 0.0), (667, 0.0), (679, 0.0), (693, 0.0), (694, 0.0), (695, 0.0), (696, 0.0), (698, 0.0), (702, 0.0), (707, 0.0), (708, 0.0), (709, 0.0), (711, 0.0), (730, 0.0), (735, 0.0), (739, 0.0), (741, 0.0), (743, 0.0), (746, 0.0), (750, 0.0), (754, 0.0), (755, 0.0), (760, 0.0), (761, 0.0), (765, 0.0), (767, 0.0), (771, 0.0), (772, 0.0), (777, 0.0), (783, 0.0), (784, 0.0), (786, 0.0), (796, 0.0), (797, 0.0), (799, 0.0), (801, 0.0), (806, 0.0), (816, 0.0), (823, 0.0), (828, 0.0), (831, 0.0), (837, 0.0), (839, 0.0), (855, 0.0), (857, 0.0), (860, 0.0), (865, 0.0), (873, 0.0), (876, 0.0), (877, 0.0), (879, 0.0), (886, 0.0), (888, 0.0), (889, 0.0), (892, 0.0), (896, 0.0), (901, 0.0), (910, 0.0), (917, 0.0), (922, 0.0), (925, 0.0), (927, 0.0), (932, 0.0), (933, 0.0), (937, 0.0), (939, 0.0), (941, 0.0), (942, 0.0), (944, 0.0), (950, 0.0), (955, 0.0), (959, 0.0), (964, 0.0), (967, 0.0), (969, 0.0), (972, 0.0), (976, 0.0), (983, 0.0), (985, 0.0), (987, 0.0), (989, 0.0), (991, 0.0), (998, 0.0), (999, 0.0), (1003, 0.0), (1004, 0.0), (1008, 0.0), (1026, 0.0), (1027, 0.0), (1032, 0.0), (1034, 0.0), (1036, 0.0), (1038, 0.0), (1040, 0.0), (1049, 0.0), (1053, 0.0), (1058, 0.0), (1061, 0.0), (1062, 0.0), (1064, 0.0), (1070, 0.0), (1072, 0.0), (1073, 0.0), (1078, 0.0), (1080, 0.0), (1081, 0.0), (1083, 0.0), (1085, 0.0), (1086, 0.0), (1088, 0.0), (1093, 0.0), (1097, 0.0), (1098, 0.0), (1100, 0.0), (1102, 0.0), (1103, 0.0), (1107, 0.0), (1110, 0.0), (1117, 0.0), (1119, 0.0), (1121, 0.0), (1123, 0.0), (1126, 0.0), (1133, 0.0), (1139, 0.0), (1143, 0.0), (1145, 0.0), (1147, 0.0), (1148, 0.0), (1149, 0.0), (1152, 0.0), (1156, 0.0), (1158, 0.0), (1160, 0.0), (1161, 0.0), (1167, 0.0), (1169, 0.0), (1170, 0.0), (1176, 0.0), (1177, 0.0), (1180, 0.0), (1181, 0.0), (1187, 0.0), (1188, 0.0), (1189, 0.0), (1193, 0.0), (1201, 0.0), (1202, 0.0), (1203, 0.0), (1204, 0.0), (1205, 0.0), (1209, 0.0), (1213, 0.0), (1217, 0.0), (1228, 0.0), (1231, 0.0), (1233, 0.0), (1235, 0.0), (1237, 0.0), (1248, 0.0), (1260, 0.0), (1264, 0.0), (1268, 0.0), (1277, 0.0), (1286, 0.0), (1289, 0.0), (1292, 0.0), (1294, 0.0), (1295, 0.0), (1297, 0.0), (1298, 0.0), (1303, 0.0), (1311, 0.0), (1313, 0.0), (1318, 0.0), (1323, 0.0), (1330, 0.0), (1334, 0.0), (1336, 0.0), (1340, 0.0), (1342, 0.0), (1347, 0.0), (1353, 0.0), (1355, 0.0), (1356, 0.0), (1361, 0.0), (1362, 0.0), (1367, 0.0), (1391, 0.0), (1400, 0.0), (1410, 0.0), (1415, 0.0), (1416, 0.0), (1422, 0.0), (1424, 0.0), (1426, 0.0), (1427, 0.0), (1428, 0.0), (1429, 0.0), (1433, 0.0), (1434, 0.0), (1438, 0.0), (1439, 0.0), (1441, 0.0), (1444, 0.0), (1445, 0.0), (1448, 0.0), (1449, 0.0), (1457, 0.0), (1462, 0.0), (1473, 0.0), (1479, 0.0), (1481, 0.0), (1485, 0.0), (1488, 0.0), (1489, 0.0), (1491, 0.0), (1497, 0.0), (1499, 0.0), (1507, 0.0), (1508, 0.0), (1523, 0.0), (1528, 0.0), (1531, 0.0), (1532, 0.0), (1541, 0.0), (1542, 0.0), (1543, 0.0), (1549, 0.0), (1550, 0.0), (1557, 0.0), (1558, 0.0), (1561, 0.0), (1563, 0.0), (1573, 0.0), (1574, 0.0), (1580, 0.0), (1582, 0.0), (1585, 0.0), (1589, 0.0), (1590, 0.0), (1593, 0.0), (1595, 0.0), (1596, 0.0), (1605, 0.0), (1609, 0.0), (1614, 0.0), (1618, 0.0), (1621, 0.0), (1622, 0.0), (1623, 0.0), (1624, 0.0), (1625, 0.0), (1628, 0.0), (1632, 0.0), (1634, 0.0), (1635, 0.0), (1636, 0.0), (1638, 0.0), (1639, 0.0), (1641, 0.0), (1643, 0.0), (1646, 0.0), (1652, 0.0), (1656, 0.0), (1661, 0.0), (1663, 0.0), (1667, 0.0), (1671, 0.0), (1673, 0.0), (1674, 0.0), (1676, 0.0), (1677, 0.0), (1686, 0.0), (1693, 0.0), (1694, 0.0), (1699, 0.0), (1703, 0.0), (1711, 0.0), (1717, 0.0), (1720, 0.0), (1722, 0.0), (1729, 0.0), (1739, 0.0), (1741, 0.0), (1744, 0.0), (1748, 0.0), (1752, 0.0), (1753, 0.0), (1757, 0.0), (1759, 0.0), (1763, 0.0), (1765, 0.0), (1766, 0.0), (1767, 0.0), (1769, 0.0), (1775, 0.0), (1776, 0.0), (1777, 0.0), (1780, 0.0), (1783, 0.0), (1785, 0.0), (1792, 0.0), (1795, 0.0), (1800, 0.0), (1801, 0.0), (1803, 0.0), (1806, 0.0), (1819, 0.0), (1820, 0.0), (1826, 0.0), (1830, 0.0), (1832, 0.0), (1834, 0.0), (1837, 0.0), (1838, 0.0), (1839, 0.0), (1842, 0.0), (1854, 0.0), (1856, 0.0), (1859, 0.0), (1861, 0.0), (1862, 0.0), (1865, 0.0), (1866, 0.0), (1868, 0.0), (1869, 0.0), (1872, 0.0), (1874, 0.0), (1877, 0.0), (1879, 0.0), (1880, 0.0), (1882, 0.0), (1884, 0.0), (1885, 0.0), (1890, 0.0), (1891, 0.0), (1892, 0.0), (1899, 0.0), (1900, 0.0), (1905, 0.0), (1909, 0.0), (1912, 0.0), (1916, 0.0), (1917, 0.0), (1922, 0.0), (1923, 0.0), (1927, 0.0), (1929, 0.0), (1933, 0.0), (1938, 0.0), (1940, 0.0), (1944, 0.0), (1946, 0.0), (1947, 0.0), (1954, 0.0), (1956, 0.0), (1958, 0.0), (1959, 0.0), (1960, 0.0), (1962, 0.0), (1963, 0.0), (1966, 0.0), (1970, 0.0), (1972, 0.0), (1975, 0.0), (1978, 0.0), (1979, 0.0), (1980, 0.0), (1983, 0.0), (1991, 0.0), (1995, 0.0), (2001, 0.0), (2002, 0.0), (2004, 0.0), (2007, 0.0), (2009, 0.0), (2026, 0.0), (2028, 0.0), (2030, 0.0), (2035, 0.0), (2041, 0.0), (2042, 0.0), (2054, 0.0), (2057, 0.0), (2059, 0.0), (2063, 0.0), (2069, 0.0), (2076, 0.0), (2080, 0.0), (2089, 0.0), (2090, 0.0), (2092, 0.0), (2099, 0.0), (2104, 0.0), (2105, 0.0), (2108, 0.0), (2111, 0.0), (2115, 0.0), (2120, 0.0), (2122, 0.0), (2123, 0.0), (2129, 0.0), (2130, 0.0), (2132, 0.0), (2133, 0.0), (2137, 0.0), (2138, 0.0), (2140, 0.0), (2141, 0.0), (2142, 0.0), (2146, 0.0), (2149, 0.0), (2151, 0.0), (2152, 0.0), (2158, 0.0), (2159, 0.0), (2162, 0.0), (2163, 0.0), (2165, 0.0), (2171, 0.0), (2172, 0.0), (2173, 0.0), (2176, 0.0), (2179, 0.0), (2182, 0.0), (2186, 0.0), (2187, 0.0), (2189, 0.0), (2190, 0.0), (2191, 0.0), (2192, 0.0), (2194, 0.0), (2196, 0.0), (2199, 0.0), (2200, 0.0), (2201, 0.0), (2213, 0.0), (2214, 0.0), (2216, 0.0), (2219, 0.0), (2220, 0.0), (2223, 0.0), (2225, 0.0), (2226, 0.0), (2228, 0.0), (2231, 0.0), (2235, 0.0), (2238, 0.0), (2247, 0.0), (2248, 0.0), (2251, 0.0), (2254, 0.0), (2255, 0.0), (2256, 0.0), (2257, 0.0), (2258, 0.0), (2261, 0.0), (2264, 0.0), (2266, 0.0), (2267, 0.0), (2270, 0.0), (2271, 0.0), (2273, 0.0), (2279, 0.0), (2281, 0.0), (2282, 0.0), (2284, 0.0), (2288, 0.0), (2289, 0.0), (2292, 0.0), (2293, 0.0), (2295, 0.0), (2297, 0.0), (2300, 0.0), (2302, 0.0), (2304, 0.0), (2305, 0.0), (2307, 0.0), (2308, 0.0), (2310, 0.0), (2312, 0.0), (2313, 0.0), (2314, 0.0), (2323, 0.0), (2325, 0.0), (2328, 0.0), (2331, 0.0), (2332, 0.0), (2333, 0.0), (2336, 0.0), (2341, 0.0), (2342, 0.0), (2343, 0.0), (2344, 0.0), (2346, 0.0), (2347, 0.0), (2349, 0.0), (2350, 0.0), (2354, 0.0), (2355, 0.0), (2357, 0.0), (2358, 0.0), (2360, 0.0), (2362, 0.0), (2365, 0.0), (2366, 0.0), (2368, 0.0), (2369, 0.0), (2370, 0.0), (2372, 0.0), (2373, 0.0), (2379, 0.0), (2380, 0.0), (2382, 0.0), (2385, 0.0), (2388, 0.0), (2390, 0.0), (2391, 0.0), (2392, 0.0), (2393, 0.0), (2394, 0.0), (2395, 0.0), (2397, 0.0), (2401, 0.0), (2405, 0.0), (2406, 0.0), (2407, 0.0), (2410, 0.0), (2419, 0.0), (2420, 0.0), (2423, 0.0), (2425, 0.0), (2434, 0.0), (2435, 0.0), (2437, 0.0), (2438, 0.0), (2440, 0.0), (2448, 0.0), (2449, 0.0), (2453, 0.0), (2454, 0.0), (2457, 0.0), (2460, 0.0), (2461, 0.0), (2462, 0.0), (2464, 0.0), (2465, 0.0), (2466, 0.0), (2467, 0.0), (2470, 0.0), (2471, 0.0), (2475, 0.0), (2477, 0.0), (2483, 0.0), (2484, 0.0), (2486, 0.0), (2488, 0.0), (2489, 0.0), (2490, 0.0), (2496, 0.0), (2497, 0.0), (2499, 0.0), (2502, 0.0), (2507, 0.0), (2508, 0.0), (2512, 0.0), (2515, 0.0), (2516, 0.0), (2519, 0.0), (2520, 0.0), (2523, 0.0), (2528, 0.0), (2529, 0.0), (2533, 0.0), (2535, 0.0), (2536, 0.0), (2537, 0.0), (2538, 0.0), (2541, 0.0), (2542, 0.0), (2543, 0.0), (2548, 0.0), (2556, 0.0), (2557, 0.0), (2558, 0.0), (2564, 0.0), (2570, 0.0), (2571, 0.0), (2577, 0.0), (2578, 0.0), (2579, 0.0), (2580, 0.0), (2585, 0.0), (2588, 0.0), (2589, 0.0), (2592, 0.0), (2593, 0.0), (2594, 0.0), (2595, 0.0), (2596, 0.0), (2597, 0.0), (2598, 0.0), (2599, 0.0), (2602, 0.0), (2604, 0.0), (2606, 0.0), (2613, 0.0), (2614, 0.0), (2618, 0.0), (2619, 0.0), (2620, 0.0), (2623, 0.0), (2624, 0.0), (2628, 0.0), (2629, 0.0), (2635, 0.0), (2639, 0.0), (2643, 0.0), (2644, 0.0), (2648, 0.0), (2649, 0.0), (2650, 0.0), (2651, 0.0), (2655, 0.0), (2658, 0.0), (2661, 0.0), (2663, 0.0), (2664, 0.0), (2669, 0.0), (2678, 0.0), (2679, 0.0), (2681, 0.0), (2683, 0.0), (2684, 0.0), (2686, 0.0), (2687, 0.0), (2690, 0.0), (2693, 0.0), (2694, 0.0), (2695, 0.0), (2700, 0.0), (2701, 0.0), (2702, 0.0), (2703, 0.0), (2704, 0.0), (2705, 0.0), (2709, 0.0), (2716, 0.0), (2717, 0.0), (2719, 0.0), (2722, 0.0), (2723, 0.0), (2727, 0.0), (2728, 0.0), (2731, 0.0), (2733, 0.0), (2735, 0.0), (2736, 0.0), (2737, 0.0), (2739, 0.0), (2743, 0.0), (2745, 0.0), (2747, 0.0), (2748, 0.0), (2750, 0.0), (2752, 0.0), (2757, 0.0), (2758, 0.0), (2760, 0.0), (2764, 0.0), (2770, 0.0), (2773, 0.0), (2775, 0.0), (2776, 0.0), (2779, 0.0), (2781, 0.0), (2783, 0.0), (2784, 0.0), (2785, 0.0), (2786, 0.0), (2794, 0.0), (2796, 0.0), (2797, 0.0), (2800, 0.0), (2802, 0.0), (2804, 0.0), (2805, 0.0), (2821, 0.0), (2823, 0.0), (2824, 0.0), (2827, 0.0), (2828, 0.0), (2829, 0.0), (2832, 0.0), (2833, 0.0), (2835, 0.0), (2836, 0.0), (2838, 0.0), (2845, 0.0), (2846, 0.0), (2848, 0.0), (2849, 0.0), (2851, 0.0), (2852, 0.0), (2856, 0.0), (2857, 0.0), (2861, 0.0), (2863, 0.0), (2866, 0.0), (2870, 0.0), (2871, 0.0), (2872, 0.0), (2875, 0.0), (2876, 0.0), (2879, 0.0), (2883, 0.0), (2884, 0.0), (2886, 0.0), (2889, 0.0), (2890, 0.0), (2891, 0.0), (2893, 0.0), (2894, 0.0), (2896, 0.0), (2901, 0.0), (2905, 0.0), (2907, 0.0), (2909, 0.0), (2912, 0.0), (2914, 0.0), (2916, 0.0), (2923, 0.0), (2924, 0.0), (2925, 0.0), (2926, 0.0), (2928, 0.0), (2932, 0.0), (2934, 0.0), (2939, 0.0), (2941, 0.0), (2945, 0.0), (2946, 0.0), (2948, 0.0), (2949, 0.0), (2952, 0.0), (2953, 0.0), (2958, 0.0), (2961, 0.0), (2966, 0.0), (2967, 0.0), (2968, 0.0), (2970, 0.0), (2972, 0.0), (2973, 0.0), (2974, 0.0), (2978, 0.0), (2979, 0.0), (2983, 0.0), (2984, 0.0), (2986, 0.0), (2987, 0.0), (2989, 0.0), (2993, 0.0), (2994, 0.0), (2995, 0.0), (2997, 0.0), (2999, 0.0), (3000, 0.0), (3001, 0.0), (3002, 0.0), (3004, 0.0), (3005, 0.0), (3006, 0.0), (3012, 0.0), (3013, 0.0), (3014, 0.0), (3015, 0.0), (3016, 0.0), (3017, 0.0), (3019, 0.0), (3020, 0.0), (3021, 0.0), (3025, 0.0), (3026, 0.0), (3029, 0.0), (3030, 0.0), (3031, 0.0), (3032, 0.0), (3034, 0.0), (3035, 0.0), (3036, 0.0), (3037, 0.0), (3038, 0.0), (3040, 0.0), (3041, 0.0), (3042, 0.0), (3047, 0.0), (3048, 0.0), (3049, 0.0), (3050, 0.0), (3052, 0.0), (3054, 0.0), (3055, 0.0), (3057, 0.0), (3061, 0.0), (3063, 0.0), (3068, 0.0), (3072, 0.0), (3074, 0.0), (3075, 0.0), (3077, 0.0), (3078, 0.0), (3080, 0.0), (3081, 0.0), (3082, 0.0), (3084, 0.0), (3086, 0.0), (3087, 0.0), (3088, 0.0), (3090, 0.0), (3092, 0.0), (3098, 0.0), (3103, 0.0), (3104, 0.0), (3106, 0.0), (3107, 0.0), (3110, 0.0), (3113, 0.0), (3116, 0.0), (3117, 0.0), (3118, 0.0), (3119, 0.0), (3120, 0.0), (3123, 0.0), (3128, 0.0), (3130, 0.0), (3137, 0.0), (3138, 0.0), (3139, 0.0), (3140, 0.0), (3146, 0.0), (3147, 0.0), (3148, 0.0), (3153, 0.0), (3154, 0.0), (3155, 0.0), (3158, 0.0), (3166, 0.0), (3167, 0.0), (3170, 0.0), (3171, 0.0), (3175, 0.0), (3176, 0.0), (3177, 0.0), (3178, 0.0), (3182, 0.0), (3183, 0.0), (3186, 0.0), (3187, 0.0), (3189, 0.0), (3190, 0.0), (3192, 0.0), (3194, 0.0), (3195, 0.0), (3196, 0.0), (3197, 0.0), (3198, 0.0), (3204, 0.0), (3209, 0.0), (3212, 0.0), (3214, 0.0), (3216, 0.0), (3217, 0.0), (3219, 0.0), (3220, 0.0), (3224, 0.0), (3229, 0.0), (3230, 0.0), (3236, 0.0), (3242, 0.0), (3243, 0.0), (3245, 0.0), (3248, 0.0), (3249, 0.0), (3250, 0.0), (3252, 0.0), (3255, 0.0), (3257, 0.0), (3258, 0.0), (3261, 0.0), (3262, 0.0), (3266, 0.0), (3268, 0.0), (3269, 0.0), (3271, 0.0), (3273, 0.0), (3274, 0.0), (3278, 0.0), (3280, 0.0), (3281, 0.0), (3285, 0.0), (3287, 0.0), (3289, 0.0), (3290, 0.0), (3291, 0.0), (3292, 0.0), (3296, 0.0), (3298, 0.0), (3300, 0.0), (3301, 0.0), (3305, 0.0), (3307, 0.0), (3308, 0.0), (3313, 0.0), (3314, 0.0), (3315, 0.0), (3319, 0.0), (3322, 0.0), (3324, 0.0), (3325, 0.0), (3326, 0.0), (3331, 0.0), (3333, 0.0), (3334, 0.0), (3335, 0.0), (3337, 0.0), (3340, 0.0), (3341, 0.0), (3348, 0.0), (3349, 0.0), (3350, 0.0), (3351, 0.0), (3352, 0.0), (3353, 0.0), (3355, 0.0), (3356, 0.0), (3357, 0.0), (3358, 0.0), (3359, 0.0), (3363, 0.0), (3366, 0.0), (3369, 0.0), (3370, 0.0), (3371, 0.0), (3372, 0.0), (3375, 0.0), (3376, 0.0), (3379, 0.0), (3380, 0.0), (3381, 0.0), (3391, 0.0), (3396, 0.0), (3401, 0.0), (3402, 0.0), (3406, 0.0), (3413, 0.0), (3415, 0.0), (3417, 0.0), (3418, 0.0), (3422, 0.0), (3428, 0.0), (3431, 0.0), (3433, 0.0), (3434, 0.0), (3436, 0.0), (3437, 0.0), (3442, 0.0), (3449, 0.0), (3452, 0.0), (3455, 0.0), (3462, 0.0), (3471, 0.0), (3473, 0.0), (3474, 0.0), (3475, 0.0), (3476, 0.0), (3478, 0.0), (3479, 0.0), (3485, 0.0), (3487, 0.0), (3488, 0.0), (3489, 0.0), (3494, 0.0), (3496, 0.0), (3497, 0.0), (3498, 0.0), (3499, 0.0), (3500, 0.0), (3501, 0.0), (3503, 0.0), (3505, 0.0), (3510, 0.0), (3511, 0.0), (3512, 0.0), (3519, 0.0), (3521, 0.0), (3523, 0.0), (3527, 0.0), (3528, 0.0), (3529, 0.0), (3530, 0.0), (3533, 0.0), (3535, 0.0), (3537, 0.0), (3540, 0.0), (3542, 0.0), (3543, 0.0), (3544, 0.0), (3545, 0.0), (3547, 0.0), (3552, 0.0), (3554, 0.0), (3561, 0.0), (3565, 0.0), (3570, 0.0), (3571, 0.0), (3572, 0.0), (3573, 0.0), (3575, 0.0), (3576, 0.0), (3580, 0.0), (3581, 0.0), (3583, 0.0), (3585, 0.0), (3590, 0.0), (3601, 0.0), (3606, 0.0), (3607, 0.0), (3608, 0.0), (3611, 0.0), (3613, 0.0), (3614, 0.0), (3615, 0.0), (3617, 0.0), (3620, 0.0), (3621, 0.0), (3622, 0.0), (3624, 0.0), (3625, 0.0), (3627, 0.0), (3631, 0.0), (3636, 0.0), (3640, 0.0), (3649, 0.0), (3652, 0.0), (3653, 0.0), (3659, 0.0), (3662, 0.0), (3663, 0.0), (3664, 0.0), (3665, 0.0), (3666, 0.0), (3669, 0.0), (3670, 0.0), (3671, 0.0), (3672, 0.0), (3673, 0.0), (3675, 0.0), (3679, 0.0), (3682, 0.0), (3683, 0.0), (3686, 0.0), (3687, 0.0), (3688, 0.0), (3691, 0.0), (3694, 0.0), (3702, 0.0), (3705, 0.0), (3707, 0.0), (3714, 0.0), (3716, 0.0), (3717, 0.0), (3719, 0.0), (3721, 0.0), (3725, 0.0), (3727, 0.0), (3729, 0.0), (3737, 0.0), (3740, 0.0), (3745, 0.0), (3749, 0.0), (3753, 0.0), (3755, 0.0), (3756, 0.0), (3757, 0.0), (3758, 0.0), (3760, 0.0), (3761, 0.0), (3762, 0.0), (3763, 0.0), (3764, 0.0), (3766, 0.0), (3769, 0.0), (3770, 0.0), (3772, 0.0), (3774, 0.0), (3777, 0.0), (3779, 0.0), (3781, 0.0), (3789, 0.0), (3790, 0.0), (3791, 0.0), (3792, 0.0), (3793, 0.0), (3796, 0.0), (3799, 0.0), (3800, 0.0), (3804, 0.0), (3808, 0.0), (3809, 0.0), (3811, 0.0), (3813, 0.0), (3815, 0.0), (3827, 0.0), (3828, 0.0), (3830, 0.0), (3831, 0.0), (3832, 0.0), (3833, 0.0), (3836, 0.0), (3837, 0.0), (3838, 0.0), (3842, 0.0), (3843, 0.0), (3848, 0.0), (3851, 0.0), (3853, 0.0), (3856, 0.0), (3859, 0.0), (3861, 0.0), (3863, 0.0), (3867, 0.0), (3872, 0.0), (3874, 0.0), (3876, 0.0), (3879, 0.0), (3882, 0.0), (3883, 0.0), (3885, 0.0), (3887, 0.0), (3888, 0.0), (3892, 0.0), (3893, 0.0), (3895, 0.0), (3896, 0.0), (3898, 0.0), (3899, 0.0), (3900, 0.0), (3902, 0.0), (3904, 0.0), (3905, 0.0), (3906, 0.0), (3910, 0.0), (3911, 0.0), (3912, 0.0), (3915, 0.0), (3918, 0.0), (3922, 0.0), (3925, 0.0), (3929, 0.0), (3931, 0.0), (3934, 0.0), (3935, 0.0), (3936, 0.0), (3938, 0.0), (3939, 0.0), (3941, 0.0), (3943, 0.0), (3945, 0.0), (3949, 0.0), (3952, 0.0), (3953, 0.0), (3956, 0.0), (3960, 0.0), (3961, 0.0), (3962, 0.0), (3964, 0.0), (3967, 0.0), (3969, 0.0), (3971, 0.0), (3974, 0.0), (3975, 0.0), (3976, 0.0), (3981, 0.0), (3984, 0.0), (3985, 0.0), (3987, 0.0), (3988, 0.0), (3989, 0.0), (3990, 0.0), (3992, 0.0), (3996, 0.0), (3999, 0.0), (4003, 0.0), (4004, 0.0), (4006, 0.0), (4010, 0.0), (4014, 0.0), (4016, 0.0), (4017, 0.0), (4018, 0.0), (4021, 0.0), (4022, 0.0), (4024, 0.0), (4026, 0.0), (4027, 0.0), (4028, 0.0), (4029, 0.0), (4030, 0.0), (4040, 0.0), (4042, 0.0), (4043, 0.0), (4048, 0.0), (4049, 0.0), (4050, 0.0), (4053, 0.0), (4054, 0.0), (4058, 0.0), (4060, 0.0), (4063, 0.0), (4065, 0.0), (4066, 0.0), (4067, 0.0), (4072, 0.0), (4073, 0.0), (4075, 0.0), (4079, 0.0), (4080, 0.0), (4082, 0.0), (4083, 0.0), (4084, 0.0), (4085, 0.0), (4090, 0.0), (4092, 0.0), (4096, 0.0), (4102, 0.0), (4104, 0.0), (4105, 0.0), (4111, 0.0), (4113, 0.0), (4120, 0.0), (4123, 0.0), (4124, 0.0), (4126, 0.0), (4127, 0.0), (4129, 0.0), (4132, 0.0), (4138, 0.0), (4139, 0.0), (4140, 0.0), (4146, 0.0), (4147, 0.0), (4149, 0.0), (4151, 0.0), (4154, 0.0), (4159, 0.0), (4161, 0.0), (4162, 0.0), (4163, 0.0), (4166, 0.0), (4167, 0.0), (4169, 0.0), (4170, 0.0), (4172, 0.0), (4173, 0.0), (4177, 0.0), (4178, 0.0), (4179, 0.0), (4183, 0.0), (4185, 0.0), (4187, 0.0), (4190, 0.0), (4191, 0.0), (4197, 0.0), (4198, 0.0), (4204, 0.0), (4207, 0.0), (4208, 0.0), (4212, 0.0), (4213, 0.0), (4214, 0.0), (4215, 0.0), (4216, 0.0), (4219, 0.0), (4225, 0.0), (4227, 0.0), (4228, 0.0), (4229, 0.0), (4230, 0.0), (4231, 0.0), (4232, 0.0), (4233, 0.0), (4234, 0.0), (4235, 0.0), (4241, 0.0), (4243, 0.0), (4246, 0.0), (4250, 0.0), (4251, 0.0), (4252, 0.0), (4253, 0.0), (4256, 0.0), (4258, 0.0), (4259, 0.0), (4260, 0.0), (4263, 0.0), (4268, 0.0), (4271, 0.0), (4273, 0.0), (4275, 0.0), (4277, 0.0), (4278, 0.0), (4280, 0.0), (4284, 0.0), (4287, 0.0), (4291, 0.0), (4295, 0.0), (4296, 0.0), (4298, 0.0), (4299, 0.0), (4300, 0.0), (4301, 0.0), (4302, 0.0), (4304, 0.0), (4306, 0.0), (4307, 0.0), (4308, 0.0), (4309, 0.0), (4311, 0.0), (4313, 0.0), (4314, 0.0), (4315, 0.0), (4316, 0.0), (4317, 0.0), (4318, 0.0), (4320, 0.0), (4321, 0.0), (4322, 0.0), (4326, 0.0), (4329, 0.0), (4331, 0.0), (4333, 0.0), (4335, 0.0), (4340, 0.0), (4341, 0.0), (4343, 0.0), (4349, 0.0), (4350, 0.0), (4352, 0.0), (4354, 0.0), (4357, 0.0), (4358, 0.0), (4360, 0.0), (4361, 0.0), (4362, 0.0), (4365, 0.0), (4368, 0.0), (4369, 0.0), (4370, 0.0), (4372, 0.0), (4375, 0.0), (4377, 0.0), (4381, 0.0), (4383, 0.0), (4386, 0.0), (4387, 0.0), (4389, 0.0), (4391, 0.0), (4393, 0.0), (4394, 0.0), (4397, 0.0), (4398, 0.0), (4400, 0.0), (4407, 0.0), (4408, 0.0), (4411, 0.0), (4412, 0.0), (4413, 0.0), (4415, 0.0), (4416, 0.0), (4417, 0.0), (4420, 0.0), (4421, 0.0), (4422, 0.0), (4423, 0.0), (4424, 0.0), (4425, 0.0), (4426, 0.0), (4427, 0.0), (4433, 0.0), (4434, 0.0), (4437, 0.0), (4445, 0.0), (4446, 0.0), (4449, 0.0), (4451, 0.0), (4452, 0.0), (4458, 0.0), (4464, 0.0), (4465, 0.0), (4469, 0.0), (4470, 0.0), (4471, 0.0), (4475, 0.0), (4476, 0.0), (4479, 0.0), (4480, 0.0), (4483, 0.0), (4484, 0.0), (4485, 0.0), (4487, 0.0), (4488, 0.0), (4489, 0.0), (4494, 0.0), (4495, 0.0), (4496, 0.0), (4497, 0.0), (4499, 0.0), (4500, 0.0), (4502, 0.0), (4505, 0.0), (4506, 0.0), (4507, 0.0), (4508, 0.0), (4510, 0.0), (4513, 0.0), (4514, 0.0), (4518, 0.0), (4520, 0.0), (4521, 0.0), (4522, 0.0), (4525, 0.0), (4526, 0.0), (4527, 0.0), (4528, 0.0), (4529, 0.0), (4530, 0.0), (4532, 0.0), (4537, 0.0), (4538, 0.0), (4539, 0.0), (4540, 0.0), (4542, 0.0), (4544, 0.0), (4545, 0.0), (4546, 0.0), (4547, 0.0), (4555, 0.0), (4556, 0.0), (4559, 0.0), (4560, 0.0), (4561, 0.0), (4562, 0.0), (4563, 0.0), (4565, 0.0), (4567, 0.0), (4570, 0.0), (4572, 0.0), (4573, 0.0), (4574, 0.0), (4575, 0.0), (4577, 0.0), (4578, 0.0), (4579, 0.0), (4580, 0.0), (4582, 0.0), (4583, 0.0), (4584, 0.0), (4585, 0.0), (4597, 0.0), (4598, 0.0), (4599, 0.0), (4604, 0.0), (4614, 0.0), (4615, 0.0), (4616, 0.0), (4617, 0.0), (4618, 0.0), (4622, 0.0), (4623, 0.0), (4625, 0.0), (4627, 0.0), (4628, 0.0), (4632, 0.0), (4635, 0.0), (4636, 0.0), (4637, 0.0), (4638, 0.0), (4639, 0.0), (4641, 0.0), (4644, 0.0), (4645, 0.0), (4648, 0.0), (4650, 0.0), (4651, 0.0), (4654, 0.0), (4655, 0.0), (4657, 0.0), (4666, 0.0), (4667, 0.0), (4668, 0.0), (4670, 0.0), (4671, 0.0), (4672, 0.0), (4675, 0.0), (4677, 0.0), (4681, 0.0), (4683, 0.0), (4691, 0.0), (4692, 0.0), (4693, 0.0), (4694, 0.0), (4696, 0.0), (4697, 0.0), (4699, 0.0), (4700, 0.0), (4702, 0.0), (4704, 0.0), (4706, 0.0), (4707, 0.0), (4710, 0.0), (4711, 0.0), (4712, 0.0), (4713, 0.0), (4714, 0.0), (4715, 0.0), (4717, 0.0), (4718, 0.0), (4719, 0.0), (4720, 0.0), (4724, 0.0), (4727, 0.0), (4729, 0.0), (4730, 0.0), (4731, 0.0), (4734, 0.0), (4735, 0.0), (4737, 0.0), (4740, 0.0), (4741, 0.0), (4745, 0.0), (4746, 0.0), (4749, 0.0), (4750, 0.0), (4751, 0.0), (4752, 0.0), (4753, 0.0), (4756, 0.0), (4757, 0.0), (4758, 0.0), (4759, 0.0)]\n"
          ]
        }
      ]
    },
    {
      "cell_type": "code",
      "source": [
        "# print the name of similar movies based on the index\n",
        "\n",
        "print('Top 30 Movies Suggested for You : \\n')\n",
        "\n",
        "i = 1\n",
        "\n",
        "for movie in Sorted_Similar_Movies:\n",
        " index = movie[0]\n",
        " title_from_index = df[df.index==index]['Movie_Title'].values[0]\n",
        " if (i<31):\n",
        "  print(i, '.',title_from_index)\n",
        "  i+=1"
      ],
      "metadata": {
        "colab": {
          "base_uri": "https://localhost:8080/"
        },
        "id": "MYVQu6scGbo8",
        "outputId": "a0446059-8f42-49b0-b438-c26751ace780"
      },
      "execution_count": null,
      "outputs": [
        {
          "output_type": "stream",
          "name": "stdout",
          "text": [
            "Top 30 Movies Suggested for You : \n",
            "\n",
            "1 . The Forbidden Kingdom\n",
            "2 . The Mummy: Tomb of the Dragon Emperor\n",
            "3 . The One\n",
            "4 . War\n",
            "5 . Cradle 2 the Grave\n",
            "6 . Hero\n",
            "7 . The Warlords\n",
            "8 . Warriors of Virtue\n",
            "9 . Shanghai Noon\n",
            "10 . Curse of the Golden Flower\n",
            "11 . Resident Evil: Retribution\n",
            "12 . Young Sherlock Holmes\n",
            "13 . Superman IV: The Quest for Peace\n",
            "14 . Romeo Must Die\n",
            "15 . The Monkey King 2\n",
            "16 . Crazy Stone\n",
            "17 . The Spy Next Door\n",
            "18 . The Legend of Drunken Master\n",
            "19 . Gods of Egypt\n",
            "20 . Without a Paddle\n",
            "21 . Rush Hour 3\n",
            "22 . Unleashed\n",
            "23 . Rush Hour 2\n",
            "24 . The Tuxedo\n",
            "25 . Kiss of the Dragon\n",
            "26 . Kung Fu Panda\n",
            "27 . The Medallion\n",
            "28 . The Promise\n",
            "29 . Red State\n",
            "30 . Hannibal Rising\n"
          ]
        }
      ]
    },
    {
      "cell_type": "markdown",
      "source": [
        "Top 10 Movie Recommendation System"
      ],
      "metadata": {
        "id": "75bHTdJlH9eR"
      }
    },
    {
      "cell_type": "code",
      "source": [
        "Movie_Name = input('Enter your favourite movie:')\n",
        "\n",
        "list_of_all_titles = df['Movie_Title'].tolist()\n",
        "\n",
        "Find_Close_Match = difflib.get_close_matches(Movie_Name,list_of_all_titles)\n",
        "\n",
        "Close_Match = Find_Close_Match[0]\n",
        "\n",
        "Index_of_Movie = df[df.Movie_Title == Close_Match]['Movie_ID'].values[0]\n",
        "\n",
        "Recommendation_Score = list(enumerate(Similarity_Score[Index_of_Movie]))\n",
        "\n",
        "sorted_similar_movies = sorted(Recommendation_Score, key = lambda x:x[1], reverse = True)\n",
        "\n",
        "print('Top 10 Movies Suggested for you : \\n')\n",
        "\n",
        "i = 1\n",
        "\n",
        "for movie in sorted_similar_movies:\n",
        " index = movie[0]\n",
        " title_from_index = df[df.Movie_ID==index]['Movie_Title'].values\n",
        " if (i<11):\n",
        "  print(i, '.',title_from_index)\n",
        "  i+=1"
      ],
      "metadata": {
        "colab": {
          "base_uri": "https://localhost:8080/"
        },
        "id": "7IWfEzrrIbmt",
        "outputId": "b6b060d8-f752-4bbc-910b-9b426bea4d53"
      },
      "execution_count": null,
      "outputs": [
        {
          "output_type": "stream",
          "name": "stdout",
          "text": [
            "Enter your favourite movie:ironman\n",
            "Top 10 Movies Suggested for you : \n",
            "\n",
            "1 . ['Birdman']\n",
            "2 . ['Promised Land']\n",
            "3 . ['She Done Him Wrong']\n",
            "4 . ['Supercross']\n",
            "5 . ['Ironclad']\n",
            "6 . ['Walking and Talking']\n",
            "7 . ['Antz']\n",
            "8 . [\"Everybody's Fine\"]\n",
            "9 . ['O Brother, Where Art Thou?']\n",
            "10 . ['Street Fighter: The Legend of Chun-Li']\n"
          ]
        }
      ]
    },
    {
      "cell_type": "markdown",
      "source": [
        "EXPLANATION:\n",
        "The project utilizes the MovieLens dataset, a widely used dataset in the field of recommender systems, containing movie ratings and metadata. The dataset is preprocessed to create a user-item matrix and to calculate item similarity using cosine similarity. This enables the system to identify movies that are similar to the ones the user has previously enjoyed and recommend them accordingly.\n",
        "\n",
        "The recommendation process involves taking a user's unique identifier as input and generating a list of top-rated movie recommendations specifically tailored to their preferences.\n",
        "\n",
        "The Movie Recommendation System is intended for individuals who seek personalized movie suggestions to enhance their movie-watching experience. It can be integrated into various platforms such as streaming services, movie review websites, or personal movie catalog applications."
      ],
      "metadata": {
        "id": "jkrEIHESMTQ0"
      }
    }
  ]
}